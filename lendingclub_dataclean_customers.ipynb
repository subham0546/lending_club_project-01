{
 "cells": [
  {
   "cell_type": "code",
   "execution_count": 67,
   "id": "98dbd262",
   "metadata": {},
   "outputs": [],
   "source": [
    "from pyspark.sql import SparkSession\n",
    "import getpass\n",
    "username = getpass.getuser()\n",
    "spark = SparkSession. \\\n",
    "        builder. \\\n",
    "        config('spark.ui.port','0'). \\\n",
    "        config('spark.shuffle.useOldFetchProtocol','true'). \\\n",
    "        config(\"spark.sql.warehouse.dir\", f\"/user/{username}/warehouse\"). \\\n",
    "        enableHiveSupport(). \\\n",
    "        master('yarn'). \\\n",
    "        getOrCreate()"
   ]
  },
  {
   "cell_type": "code",
   "execution_count": 68,
   "id": "2b958ebc",
   "metadata": {},
   "outputs": [],
   "source": [
    "customers_schema = 'member_id string, emp_title string, emp_length string,home_ownership string, annual_inc float,addr_state string,zip_code string,country string,grade string,sub_grade string,verification_status string,tot_hi_cred_lim float,application_type string,annual_inc_joint float,verification_status_joint string'"
   ]
  },
  {
   "cell_type": "code",
   "execution_count": 69,
   "id": "bb6deb2f",
   "metadata": {},
   "outputs": [],
   "source": [
    "customers_raw_df=spark.read\\\n",
    ".format(\"csv\")\\\n",
    ".option(\"header\",\"true\")\\\n",
    ".schema(customers_schema) \\\n",
    ".load(\"/public/trendytech/lendingclubproject/raw/customers_data_csv\")"
   ]
  },
  {
   "cell_type": "code",
   "execution_count": 70,
   "id": "9ded88f6",
   "metadata": {},
   "outputs": [
    {
     "name": "stdout",
     "output_type": "stream",
     "text": [
      "root\n",
      " |-- member_id: string (nullable = true)\n",
      " |-- emp_title: string (nullable = true)\n",
      " |-- emp_length: string (nullable = true)\n",
      " |-- home_ownership: string (nullable = true)\n",
      " |-- annual_inc: float (nullable = true)\n",
      " |-- addr_state: string (nullable = true)\n",
      " |-- zip_code: string (nullable = true)\n",
      " |-- country: string (nullable = true)\n",
      " |-- grade: string (nullable = true)\n",
      " |-- sub_grade: string (nullable = true)\n",
      " |-- verification_status: string (nullable = true)\n",
      " |-- tot_hi_cred_lim: float (nullable = true)\n",
      " |-- application_type: string (nullable = true)\n",
      " |-- annual_inc_joint: float (nullable = true)\n",
      " |-- verification_status_joint: string (nullable = true)\n",
      "\n"
     ]
    }
   ],
   "source": [
    "customers_raw_df.printSchema()"
   ]
  },
  {
   "cell_type": "code",
   "execution_count": 71,
   "id": "96856829",
   "metadata": {},
   "outputs": [],
   "source": [
    "customers_df_renamed = customers_raw_df.withColumnRenamed(\"annual_inc\",\"annual_income\") \\\n",
    ".withColumnRenamed(\"addr_state\",\"address_state\") \\\n",
    ".withColumnRenamed(\"zip_code\",\"address_zipcode\") \\\n",
    ".withColumnRenamed(\"country\",\"address_country\") \\\n",
    ".withColumnRenamed(\"tot_hi_cred_lim\",\"total_high_credit_limit\") \\\n",
    ".withColumnRenamed(\"annual_inc_joint\",\"join_annual_income\") \\"
   ]
  },
  {
   "cell_type": "code",
   "execution_count": 72,
   "id": "8c50bf86",
   "metadata": {},
   "outputs": [
    {
     "data": {
      "text/html": [
       "<table border='1'>\n",
       "<tr><th>member_id</th><th>emp_title</th><th>emp_length</th><th>home_ownership</th><th>annual_income</th><th>address_state</th><th>address_zipcode</th><th>address_country</th><th>grade</th><th>sub_grade</th><th>verification_status</th><th>total_high_credit_limit</th><th>application_type</th><th>join_annual_income</th><th>verification_status_joint</th></tr>\n",
       "<tr><td>b59d80da191f5b573...</td><td>null</td><td>null</td><td>RENT</td><td>50000.0</td><td>OR</td><td>973xx</td><td>USA</td><td>A</td><td>A5</td><td>Source Verified</td><td>8600.0</td><td>Individual</td><td>null</td><td>null</td></tr>\n",
       "<tr><td>202d9f56ecb7c3bc9...</td><td>police officer</td><td>7 years</td><td>OWN</td><td>85000.0</td><td>TX</td><td>799xx</td><td>USA</td><td>A</td><td>A5</td><td>Source Verified</td><td>272384.0</td><td>Individual</td><td>null</td><td>null</td></tr>\n",
       "<tr><td>e5a140c0922b554b9...</td><td>community living ...</td><td>6 years</td><td>RENT</td><td>48000.0</td><td>NY</td><td>146xx</td><td>USA</td><td>B</td><td>B2</td><td>Source Verified</td><td>85092.0</td><td>Individual</td><td>null</td><td>null</td></tr>\n",
       "<tr><td>e12aefc548f750777...</td><td>Office</td><td>10+ years</td><td>OWN</td><td>33000.0</td><td>CT</td><td>067xx</td><td>USA</td><td>F</td><td>F1</td><td>Verified</td><td>7100.0</td><td>Individual</td><td>null</td><td>null</td></tr>\n",
       "<tr><td>1b3a50d854fbbf97e...</td><td>Special Tooling I...</td><td>10+ years</td><td>MORTGAGE</td><td>81000.0</td><td>TX</td><td>791xx</td><td>USA</td><td>E</td><td>E5</td><td>Verified</td><td>190274.0</td><td>Individual</td><td>null</td><td>null</td></tr>\n",
       "<tr><td>1c4329e5f17697127...</td><td>Mine ops tech 6</td><td>2 years</td><td>MORTGAGE</td><td>68000.0</td><td>AZ</td><td>855xx</td><td>USA</td><td>C</td><td>C3</td><td>Not Verified</td><td>182453.0</td><td>Individual</td><td>null</td><td>null</td></tr>\n",
       "<tr><td>5026c86ad983175eb...</td><td>caregiver</td><td>4 years</td><td>RENT</td><td>76020.0</td><td>WA</td><td>993xx</td><td>USA</td><td>C</td><td>C2</td><td>Source Verified</td><td>15308.0</td><td>Individual</td><td>null</td><td>null</td></tr>\n",
       "<tr><td>9847d8c1e9d0b2084...</td><td>null</td><td>null</td><td>OWN</td><td>65000.0</td><td>IL</td><td>624xx</td><td>USA</td><td>E</td><td>E3</td><td>Verified</td><td>128800.0</td><td>Individual</td><td>null</td><td>null</td></tr>\n",
       "<tr><td>8340dbe1adea41fb4...</td><td>Vice President Re...</td><td>8 years</td><td>MORTGAGE</td><td>111000.0</td><td>CT</td><td>063xx</td><td>USA</td><td>A</td><td>A1</td><td>Not Verified</td><td>343507.0</td><td>Individual</td><td>null</td><td>null</td></tr>\n",
       "<tr><td>d4de0de3ab7d79ad4...</td><td>FOREMAN</td><td>10+ years</td><td>MORTGAGE</td><td>67000.0</td><td>WA</td><td>992xx</td><td>USA</td><td>G</td><td>G2</td><td>Verified</td><td>211501.0</td><td>Individual</td><td>null</td><td>null</td></tr>\n",
       "<tr><td>3df3cdeddb74a8712...</td><td>Strategist</td><td>1 year</td><td>RENT</td><td>120000.0</td><td>CA</td><td>946xx</td><td>USA</td><td>A</td><td>A5</td><td>Verified</td><td>56844.0</td><td>Individual</td><td>null</td><td>null</td></tr>\n",
       "<tr><td>9dd72636b1b4045b4...</td><td>Office Manager</td><td>2 years</td><td>RENT</td><td>52000.0</td><td>FL</td><td>327xx</td><td>USA</td><td>D</td><td>D1</td><td>Source Verified</td><td>39393.0</td><td>Individual</td><td>null</td><td>null</td></tr>\n",
       "<tr><td>1d4e1ef4353b73c00...</td><td>Electrician</td><td>2 years</td><td>MORTGAGE</td><td>50000.0</td><td>IL</td><td>606xx</td><td>USA</td><td>C</td><td>C3</td><td>Not Verified</td><td>66064.0</td><td>Individual</td><td>null</td><td>null</td></tr>\n",
       "<tr><td>6f196952e71277fd4...</td><td>Finance Manager</td><td>1 year</td><td>MORTGAGE</td><td>125000.0</td><td>GA</td><td>310xx</td><td>USA</td><td>E</td><td>E2</td><td>Source Verified</td><td>555591.0</td><td>Individual</td><td>null</td><td>null</td></tr>\n",
       "<tr><td>9c617cbc6e3e3d6a1...</td><td>Nurse practitioner</td><td>5 years</td><td>MORTGAGE</td><td>165000.0</td><td>IL</td><td>610xx</td><td>USA</td><td>F</td><td>F1</td><td>Source Verified</td><td>366113.0</td><td>Individual</td><td>null</td><td>null</td></tr>\n",
       "<tr><td>45eb04dd75400a942...</td><td>equipment operator</td><td>3 years</td><td>MORTGAGE</td><td>60000.0</td><td>CT</td><td>064xx</td><td>USA</td><td>C</td><td>C4</td><td>Source Verified</td><td>198693.0</td><td>Individual</td><td>null</td><td>null</td></tr>\n",
       "<tr><td>08d233c81f9e50726...</td><td>caregiver</td><td>2 years</td><td>RENT</td><td>36000.0</td><td>MO</td><td>648xx</td><td>USA</td><td>C</td><td>C1</td><td>Source Verified</td><td>14477.0</td><td>Individual</td><td>null</td><td>null</td></tr>\n",
       "<tr><td>8ff4d0ed17a1cab92...</td><td>owner</td><td>10+ years</td><td>MORTGAGE</td><td>28000.0</td><td>CO</td><td>801xx</td><td>USA</td><td>D</td><td>D1</td><td>Verified</td><td>314400.0</td><td>Individual</td><td>null</td><td>null</td></tr>\n",
       "<tr><td>aec13cfd611b2cfea...</td><td>Community Supervi...</td><td>2 years</td><td>RENT</td><td>33000.0</td><td>GA</td><td>306xx</td><td>USA</td><td>D</td><td>D2</td><td>Source Verified</td><td>188700.0</td><td>Individual</td><td>null</td><td>null</td></tr>\n",
       "<tr><td>9ba8c96ccba6cd1f0...</td><td>Contract Specialist</td><td>5 years</td><td>MORTGAGE</td><td>74700.0</td><td>UT</td><td>844xx</td><td>USA</td><td>D</td><td>D4</td><td>Verified</td><td>614272.0</td><td>Individual</td><td>null</td><td>null</td></tr>\n",
       "</table>\n",
       "only showing top 20 rows\n"
      ],
      "text/plain": [
       "+--------------------+--------------------+----------+--------------+-------------+-------------+---------------+---------------+-----+---------+-------------------+-----------------------+----------------+------------------+-------------------------+\n",
       "|           member_id|           emp_title|emp_length|home_ownership|annual_income|address_state|address_zipcode|address_country|grade|sub_grade|verification_status|total_high_credit_limit|application_type|join_annual_income|verification_status_joint|\n",
       "+--------------------+--------------------+----------+--------------+-------------+-------------+---------------+---------------+-----+---------+-------------------+-----------------------+----------------+------------------+-------------------------+\n",
       "|b59d80da191f5b573...|                null|      null|          RENT|      50000.0|           OR|          973xx|            USA|    A|       A5|    Source Verified|                 8600.0|      Individual|              null|                     null|\n",
       "|202d9f56ecb7c3bc9...|      police officer|   7 years|           OWN|      85000.0|           TX|          799xx|            USA|    A|       A5|    Source Verified|               272384.0|      Individual|              null|                     null|\n",
       "|e5a140c0922b554b9...|community living ...|   6 years|          RENT|      48000.0|           NY|          146xx|            USA|    B|       B2|    Source Verified|                85092.0|      Individual|              null|                     null|\n",
       "|e12aefc548f750777...|              Office| 10+ years|           OWN|      33000.0|           CT|          067xx|            USA|    F|       F1|           Verified|                 7100.0|      Individual|              null|                     null|\n",
       "|1b3a50d854fbbf97e...|Special Tooling I...| 10+ years|      MORTGAGE|      81000.0|           TX|          791xx|            USA|    E|       E5|           Verified|               190274.0|      Individual|              null|                     null|\n",
       "|1c4329e5f17697127...|     Mine ops tech 6|   2 years|      MORTGAGE|      68000.0|           AZ|          855xx|            USA|    C|       C3|       Not Verified|               182453.0|      Individual|              null|                     null|\n",
       "|5026c86ad983175eb...|           caregiver|   4 years|          RENT|      76020.0|           WA|          993xx|            USA|    C|       C2|    Source Verified|                15308.0|      Individual|              null|                     null|\n",
       "|9847d8c1e9d0b2084...|                null|      null|           OWN|      65000.0|           IL|          624xx|            USA|    E|       E3|           Verified|               128800.0|      Individual|              null|                     null|\n",
       "|8340dbe1adea41fb4...|Vice President Re...|   8 years|      MORTGAGE|     111000.0|           CT|          063xx|            USA|    A|       A1|       Not Verified|               343507.0|      Individual|              null|                     null|\n",
       "|d4de0de3ab7d79ad4...|             FOREMAN| 10+ years|      MORTGAGE|      67000.0|           WA|          992xx|            USA|    G|       G2|           Verified|               211501.0|      Individual|              null|                     null|\n",
       "|3df3cdeddb74a8712...|          Strategist|    1 year|          RENT|     120000.0|           CA|          946xx|            USA|    A|       A5|           Verified|                56844.0|      Individual|              null|                     null|\n",
       "|9dd72636b1b4045b4...|      Office Manager|   2 years|          RENT|      52000.0|           FL|          327xx|            USA|    D|       D1|    Source Verified|                39393.0|      Individual|              null|                     null|\n",
       "|1d4e1ef4353b73c00...|         Electrician|   2 years|      MORTGAGE|      50000.0|           IL|          606xx|            USA|    C|       C3|       Not Verified|                66064.0|      Individual|              null|                     null|\n",
       "|6f196952e71277fd4...|     Finance Manager|    1 year|      MORTGAGE|     125000.0|           GA|          310xx|            USA|    E|       E2|    Source Verified|               555591.0|      Individual|              null|                     null|\n",
       "|9c617cbc6e3e3d6a1...|  Nurse practitioner|   5 years|      MORTGAGE|     165000.0|           IL|          610xx|            USA|    F|       F1|    Source Verified|               366113.0|      Individual|              null|                     null|\n",
       "|45eb04dd75400a942...|  equipment operator|   3 years|      MORTGAGE|      60000.0|           CT|          064xx|            USA|    C|       C4|    Source Verified|               198693.0|      Individual|              null|                     null|\n",
       "|08d233c81f9e50726...|           caregiver|   2 years|          RENT|      36000.0|           MO|          648xx|            USA|    C|       C1|    Source Verified|                14477.0|      Individual|              null|                     null|\n",
       "|8ff4d0ed17a1cab92...|               owner| 10+ years|      MORTGAGE|      28000.0|           CO|          801xx|            USA|    D|       D1|           Verified|               314400.0|      Individual|              null|                     null|\n",
       "|aec13cfd611b2cfea...|Community Supervi...|   2 years|          RENT|      33000.0|           GA|          306xx|            USA|    D|       D2|    Source Verified|               188700.0|      Individual|              null|                     null|\n",
       "|9ba8c96ccba6cd1f0...| Contract Specialist|   5 years|      MORTGAGE|      74700.0|           UT|          844xx|            USA|    D|       D4|           Verified|               614272.0|      Individual|              null|                     null|\n",
       "+--------------------+--------------------+----------+--------------+-------------+-------------+---------------+---------------+-----+---------+-------------------+-----------------------+----------------+------------------+-------------------------+\n",
       "only showing top 20 rows"
      ]
     },
     "execution_count": 72,
     "metadata": {},
     "output_type": "execute_result"
    }
   ],
   "source": [
    "customers_df_renamed"
   ]
  },
  {
   "cell_type": "code",
   "execution_count": 73,
   "id": "a65286f0",
   "metadata": {},
   "outputs": [],
   "source": [
    "from pyspark.sql.functions import current_timestamp"
   ]
  },
  {
   "cell_type": "code",
   "execution_count": 74,
   "id": "df670f13",
   "metadata": {},
   "outputs": [],
   "source": [
    "customers_df_ingestd=customers_df_renamed.withColumn(\"ingest_date\",current_timestamp())"
   ]
  },
  {
   "cell_type": "code",
   "execution_count": 75,
   "id": "18603590",
   "metadata": {},
   "outputs": [
    {
     "data": {
      "text/html": [
       "<table border='1'>\n",
       "<tr><th>member_id</th><th>emp_title</th><th>emp_length</th><th>home_ownership</th><th>annual_income</th><th>address_state</th><th>address_zipcode</th><th>address_country</th><th>grade</th><th>sub_grade</th><th>verification_status</th><th>total_high_credit_limit</th><th>application_type</th><th>join_annual_income</th><th>verification_status_joint</th><th>ingest_date</th></tr>\n",
       "<tr><td>b59d80da191f5b573...</td><td>null</td><td>null</td><td>RENT</td><td>50000.0</td><td>OR</td><td>973xx</td><td>USA</td><td>A</td><td>A5</td><td>Source Verified</td><td>8600.0</td><td>Individual</td><td>null</td><td>null</td><td>2023-10-03 12:05:...</td></tr>\n",
       "<tr><td>202d9f56ecb7c3bc9...</td><td>police officer</td><td>7 years</td><td>OWN</td><td>85000.0</td><td>TX</td><td>799xx</td><td>USA</td><td>A</td><td>A5</td><td>Source Verified</td><td>272384.0</td><td>Individual</td><td>null</td><td>null</td><td>2023-10-03 12:05:...</td></tr>\n",
       "<tr><td>e5a140c0922b554b9...</td><td>community living ...</td><td>6 years</td><td>RENT</td><td>48000.0</td><td>NY</td><td>146xx</td><td>USA</td><td>B</td><td>B2</td><td>Source Verified</td><td>85092.0</td><td>Individual</td><td>null</td><td>null</td><td>2023-10-03 12:05:...</td></tr>\n",
       "<tr><td>e12aefc548f750777...</td><td>Office</td><td>10+ years</td><td>OWN</td><td>33000.0</td><td>CT</td><td>067xx</td><td>USA</td><td>F</td><td>F1</td><td>Verified</td><td>7100.0</td><td>Individual</td><td>null</td><td>null</td><td>2023-10-03 12:05:...</td></tr>\n",
       "<tr><td>1b3a50d854fbbf97e...</td><td>Special Tooling I...</td><td>10+ years</td><td>MORTGAGE</td><td>81000.0</td><td>TX</td><td>791xx</td><td>USA</td><td>E</td><td>E5</td><td>Verified</td><td>190274.0</td><td>Individual</td><td>null</td><td>null</td><td>2023-10-03 12:05:...</td></tr>\n",
       "<tr><td>1c4329e5f17697127...</td><td>Mine ops tech 6</td><td>2 years</td><td>MORTGAGE</td><td>68000.0</td><td>AZ</td><td>855xx</td><td>USA</td><td>C</td><td>C3</td><td>Not Verified</td><td>182453.0</td><td>Individual</td><td>null</td><td>null</td><td>2023-10-03 12:05:...</td></tr>\n",
       "<tr><td>5026c86ad983175eb...</td><td>caregiver</td><td>4 years</td><td>RENT</td><td>76020.0</td><td>WA</td><td>993xx</td><td>USA</td><td>C</td><td>C2</td><td>Source Verified</td><td>15308.0</td><td>Individual</td><td>null</td><td>null</td><td>2023-10-03 12:05:...</td></tr>\n",
       "<tr><td>9847d8c1e9d0b2084...</td><td>null</td><td>null</td><td>OWN</td><td>65000.0</td><td>IL</td><td>624xx</td><td>USA</td><td>E</td><td>E3</td><td>Verified</td><td>128800.0</td><td>Individual</td><td>null</td><td>null</td><td>2023-10-03 12:05:...</td></tr>\n",
       "<tr><td>8340dbe1adea41fb4...</td><td>Vice President Re...</td><td>8 years</td><td>MORTGAGE</td><td>111000.0</td><td>CT</td><td>063xx</td><td>USA</td><td>A</td><td>A1</td><td>Not Verified</td><td>343507.0</td><td>Individual</td><td>null</td><td>null</td><td>2023-10-03 12:05:...</td></tr>\n",
       "<tr><td>d4de0de3ab7d79ad4...</td><td>FOREMAN</td><td>10+ years</td><td>MORTGAGE</td><td>67000.0</td><td>WA</td><td>992xx</td><td>USA</td><td>G</td><td>G2</td><td>Verified</td><td>211501.0</td><td>Individual</td><td>null</td><td>null</td><td>2023-10-03 12:05:...</td></tr>\n",
       "<tr><td>3df3cdeddb74a8712...</td><td>Strategist</td><td>1 year</td><td>RENT</td><td>120000.0</td><td>CA</td><td>946xx</td><td>USA</td><td>A</td><td>A5</td><td>Verified</td><td>56844.0</td><td>Individual</td><td>null</td><td>null</td><td>2023-10-03 12:05:...</td></tr>\n",
       "<tr><td>9dd72636b1b4045b4...</td><td>Office Manager</td><td>2 years</td><td>RENT</td><td>52000.0</td><td>FL</td><td>327xx</td><td>USA</td><td>D</td><td>D1</td><td>Source Verified</td><td>39393.0</td><td>Individual</td><td>null</td><td>null</td><td>2023-10-03 12:05:...</td></tr>\n",
       "<tr><td>1d4e1ef4353b73c00...</td><td>Electrician</td><td>2 years</td><td>MORTGAGE</td><td>50000.0</td><td>IL</td><td>606xx</td><td>USA</td><td>C</td><td>C3</td><td>Not Verified</td><td>66064.0</td><td>Individual</td><td>null</td><td>null</td><td>2023-10-03 12:05:...</td></tr>\n",
       "<tr><td>6f196952e71277fd4...</td><td>Finance Manager</td><td>1 year</td><td>MORTGAGE</td><td>125000.0</td><td>GA</td><td>310xx</td><td>USA</td><td>E</td><td>E2</td><td>Source Verified</td><td>555591.0</td><td>Individual</td><td>null</td><td>null</td><td>2023-10-03 12:05:...</td></tr>\n",
       "<tr><td>9c617cbc6e3e3d6a1...</td><td>Nurse practitioner</td><td>5 years</td><td>MORTGAGE</td><td>165000.0</td><td>IL</td><td>610xx</td><td>USA</td><td>F</td><td>F1</td><td>Source Verified</td><td>366113.0</td><td>Individual</td><td>null</td><td>null</td><td>2023-10-03 12:05:...</td></tr>\n",
       "<tr><td>45eb04dd75400a942...</td><td>equipment operator</td><td>3 years</td><td>MORTGAGE</td><td>60000.0</td><td>CT</td><td>064xx</td><td>USA</td><td>C</td><td>C4</td><td>Source Verified</td><td>198693.0</td><td>Individual</td><td>null</td><td>null</td><td>2023-10-03 12:05:...</td></tr>\n",
       "<tr><td>08d233c81f9e50726...</td><td>caregiver</td><td>2 years</td><td>RENT</td><td>36000.0</td><td>MO</td><td>648xx</td><td>USA</td><td>C</td><td>C1</td><td>Source Verified</td><td>14477.0</td><td>Individual</td><td>null</td><td>null</td><td>2023-10-03 12:05:...</td></tr>\n",
       "<tr><td>8ff4d0ed17a1cab92...</td><td>owner</td><td>10+ years</td><td>MORTGAGE</td><td>28000.0</td><td>CO</td><td>801xx</td><td>USA</td><td>D</td><td>D1</td><td>Verified</td><td>314400.0</td><td>Individual</td><td>null</td><td>null</td><td>2023-10-03 12:05:...</td></tr>\n",
       "<tr><td>aec13cfd611b2cfea...</td><td>Community Supervi...</td><td>2 years</td><td>RENT</td><td>33000.0</td><td>GA</td><td>306xx</td><td>USA</td><td>D</td><td>D2</td><td>Source Verified</td><td>188700.0</td><td>Individual</td><td>null</td><td>null</td><td>2023-10-03 12:05:...</td></tr>\n",
       "<tr><td>9ba8c96ccba6cd1f0...</td><td>Contract Specialist</td><td>5 years</td><td>MORTGAGE</td><td>74700.0</td><td>UT</td><td>844xx</td><td>USA</td><td>D</td><td>D4</td><td>Verified</td><td>614272.0</td><td>Individual</td><td>null</td><td>null</td><td>2023-10-03 12:05:...</td></tr>\n",
       "</table>\n",
       "only showing top 20 rows\n"
      ],
      "text/plain": [
       "+--------------------+--------------------+----------+--------------+-------------+-------------+---------------+---------------+-----+---------+-------------------+-----------------------+----------------+------------------+-------------------------+--------------------+\n",
       "|           member_id|           emp_title|emp_length|home_ownership|annual_income|address_state|address_zipcode|address_country|grade|sub_grade|verification_status|total_high_credit_limit|application_type|join_annual_income|verification_status_joint|         ingest_date|\n",
       "+--------------------+--------------------+----------+--------------+-------------+-------------+---------------+---------------+-----+---------+-------------------+-----------------------+----------------+------------------+-------------------------+--------------------+\n",
       "|b59d80da191f5b573...|                null|      null|          RENT|      50000.0|           OR|          973xx|            USA|    A|       A5|    Source Verified|                 8600.0|      Individual|              null|                     null|2023-10-03 12:05:...|\n",
       "|202d9f56ecb7c3bc9...|      police officer|   7 years|           OWN|      85000.0|           TX|          799xx|            USA|    A|       A5|    Source Verified|               272384.0|      Individual|              null|                     null|2023-10-03 12:05:...|\n",
       "|e5a140c0922b554b9...|community living ...|   6 years|          RENT|      48000.0|           NY|          146xx|            USA|    B|       B2|    Source Verified|                85092.0|      Individual|              null|                     null|2023-10-03 12:05:...|\n",
       "|e12aefc548f750777...|              Office| 10+ years|           OWN|      33000.0|           CT|          067xx|            USA|    F|       F1|           Verified|                 7100.0|      Individual|              null|                     null|2023-10-03 12:05:...|\n",
       "|1b3a50d854fbbf97e...|Special Tooling I...| 10+ years|      MORTGAGE|      81000.0|           TX|          791xx|            USA|    E|       E5|           Verified|               190274.0|      Individual|              null|                     null|2023-10-03 12:05:...|\n",
       "|1c4329e5f17697127...|     Mine ops tech 6|   2 years|      MORTGAGE|      68000.0|           AZ|          855xx|            USA|    C|       C3|       Not Verified|               182453.0|      Individual|              null|                     null|2023-10-03 12:05:...|\n",
       "|5026c86ad983175eb...|           caregiver|   4 years|          RENT|      76020.0|           WA|          993xx|            USA|    C|       C2|    Source Verified|                15308.0|      Individual|              null|                     null|2023-10-03 12:05:...|\n",
       "|9847d8c1e9d0b2084...|                null|      null|           OWN|      65000.0|           IL|          624xx|            USA|    E|       E3|           Verified|               128800.0|      Individual|              null|                     null|2023-10-03 12:05:...|\n",
       "|8340dbe1adea41fb4...|Vice President Re...|   8 years|      MORTGAGE|     111000.0|           CT|          063xx|            USA|    A|       A1|       Not Verified|               343507.0|      Individual|              null|                     null|2023-10-03 12:05:...|\n",
       "|d4de0de3ab7d79ad4...|             FOREMAN| 10+ years|      MORTGAGE|      67000.0|           WA|          992xx|            USA|    G|       G2|           Verified|               211501.0|      Individual|              null|                     null|2023-10-03 12:05:...|\n",
       "|3df3cdeddb74a8712...|          Strategist|    1 year|          RENT|     120000.0|           CA|          946xx|            USA|    A|       A5|           Verified|                56844.0|      Individual|              null|                     null|2023-10-03 12:05:...|\n",
       "|9dd72636b1b4045b4...|      Office Manager|   2 years|          RENT|      52000.0|           FL|          327xx|            USA|    D|       D1|    Source Verified|                39393.0|      Individual|              null|                     null|2023-10-03 12:05:...|\n",
       "|1d4e1ef4353b73c00...|         Electrician|   2 years|      MORTGAGE|      50000.0|           IL|          606xx|            USA|    C|       C3|       Not Verified|                66064.0|      Individual|              null|                     null|2023-10-03 12:05:...|\n",
       "|6f196952e71277fd4...|     Finance Manager|    1 year|      MORTGAGE|     125000.0|           GA|          310xx|            USA|    E|       E2|    Source Verified|               555591.0|      Individual|              null|                     null|2023-10-03 12:05:...|\n",
       "|9c617cbc6e3e3d6a1...|  Nurse practitioner|   5 years|      MORTGAGE|     165000.0|           IL|          610xx|            USA|    F|       F1|    Source Verified|               366113.0|      Individual|              null|                     null|2023-10-03 12:05:...|\n",
       "|45eb04dd75400a942...|  equipment operator|   3 years|      MORTGAGE|      60000.0|           CT|          064xx|            USA|    C|       C4|    Source Verified|               198693.0|      Individual|              null|                     null|2023-10-03 12:05:...|\n",
       "|08d233c81f9e50726...|           caregiver|   2 years|          RENT|      36000.0|           MO|          648xx|            USA|    C|       C1|    Source Verified|                14477.0|      Individual|              null|                     null|2023-10-03 12:05:...|\n",
       "|8ff4d0ed17a1cab92...|               owner| 10+ years|      MORTGAGE|      28000.0|           CO|          801xx|            USA|    D|       D1|           Verified|               314400.0|      Individual|              null|                     null|2023-10-03 12:05:...|\n",
       "|aec13cfd611b2cfea...|Community Supervi...|   2 years|          RENT|      33000.0|           GA|          306xx|            USA|    D|       D2|    Source Verified|               188700.0|      Individual|              null|                     null|2023-10-03 12:05:...|\n",
       "|9ba8c96ccba6cd1f0...| Contract Specialist|   5 years|      MORTGAGE|      74700.0|           UT|          844xx|            USA|    D|       D4|           Verified|               614272.0|      Individual|              null|                     null|2023-10-03 12:05:...|\n",
       "+--------------------+--------------------+----------+--------------+-------------+-------------+---------------+---------------+-----+---------+-------------------+-----------------------+----------------+------------------+-------------------------+--------------------+\n",
       "only showing top 20 rows"
      ]
     },
     "execution_count": 75,
     "metadata": {},
     "output_type": "execute_result"
    }
   ],
   "source": [
    "customers_df_ingestd"
   ]
  },
  {
   "cell_type": "code",
   "execution_count": 76,
   "id": "e28dc670",
   "metadata": {},
   "outputs": [
    {
     "data": {
      "text/plain": [
       "2260701"
      ]
     },
     "execution_count": 76,
     "metadata": {},
     "output_type": "execute_result"
    }
   ],
   "source": [
    "customers_df_ingestd.count()"
   ]
  },
  {
   "cell_type": "code",
   "execution_count": 77,
   "id": "9baaa293",
   "metadata": {},
   "outputs": [],
   "source": [
    "customers_distinct= customers_df_ingestd.distinct()"
   ]
  },
  {
   "cell_type": "code",
   "execution_count": 12,
   "id": "2c6804ad",
   "metadata": {},
   "outputs": [
    {
     "data": {
      "text/plain": [
       "2260638"
      ]
     },
     "execution_count": 12,
     "metadata": {},
     "output_type": "execute_result"
    }
   ],
   "source": [
    "customers_distinct.count()"
   ]
  },
  {
   "cell_type": "code",
   "execution_count": 78,
   "id": "43d54d6d",
   "metadata": {},
   "outputs": [],
   "source": [
    "customers_distinct.createOrReplaceTempView(\"customers\")"
   ]
  },
  {
   "cell_type": "code",
   "execution_count": 79,
   "id": "cd01386a",
   "metadata": {},
   "outputs": [
    {
     "data": {
      "text/html": [
       "<table border='1'>\n",
       "<tr><th>member_id</th><th>emp_title</th><th>emp_length</th><th>home_ownership</th><th>annual_income</th><th>address_state</th><th>address_zipcode</th><th>address_country</th><th>grade</th><th>sub_grade</th><th>verification_status</th><th>total_high_credit_limit</th><th>application_type</th><th>join_annual_income</th><th>verification_status_joint</th><th>ingest_date</th></tr>\n",
       "<tr><td>131655ec48594de93...</td><td>Tailor</td><td>4 years</td><td>MORTGAGE</td><td>60000.0</td><td>MI</td><td>481xx</td><td>USA</td><td>A</td><td>A1</td><td>Not Verified</td><td>232055.0</td><td>Individual</td><td>null</td><td>null</td><td>2023-10-03 12:06:...</td></tr>\n",
       "<tr><td>c774147f6e1564b42...</td><td>Guide</td><td>&lt; 1 year</td><td>MORTGAGE</td><td>43300.0</td><td>IN</td><td>471xx</td><td>USA</td><td>B</td><td>B2</td><td>Not Verified</td><td>248220.0</td><td>Individual</td><td>null</td><td>null</td><td>2023-10-03 12:06:...</td></tr>\n",
       "<tr><td>77d8693c20af906f4...</td><td>Customer Service</td><td>2 years</td><td>RENT</td><td>56000.0</td><td>TX</td><td>765xx</td><td>USA</td><td>C</td><td>C5</td><td>Source Verified</td><td>72042.0</td><td>Joint App</td><td>144000.0</td><td>Source Verified</td><td>2023-10-03 12:06:...</td></tr>\n",
       "<tr><td>f8dbff88f39ed0d17...</td><td>Detective</td><td>10+ years</td><td>RENT</td><td>80000.0</td><td>NY</td><td>112xx</td><td>USA</td><td>A</td><td>A4</td><td>Source Verified</td><td>428901.0</td><td>Individual</td><td>null</td><td>null</td><td>2023-10-03 12:06:...</td></tr>\n",
       "<tr><td>7960f3751183b5980...</td><td>Coordinator</td><td>&lt; 1 year</td><td>RENT</td><td>32000.0</td><td>FL</td><td>330xx</td><td>USA</td><td>C</td><td>C5</td><td>Not Verified</td><td>58574.0</td><td>Individual</td><td>null</td><td>null</td><td>2023-10-03 12:06:...</td></tr>\n",
       "<tr><td>ec2ba71e322075587...</td><td>Owner</td><td>10+ years</td><td>MORTGAGE</td><td>46000.0</td><td>NC</td><td>273xx</td><td>USA</td><td>C</td><td>C4</td><td>Not Verified</td><td>22200.0</td><td>Individual</td><td>null</td><td>null</td><td>2023-10-03 12:06:...</td></tr>\n",
       "<tr><td>7b8de938abf0e2a2b...</td><td>Project Skills Co...</td><td>4 years</td><td>RENT</td><td>26000.0</td><td>SD</td><td>572xx</td><td>USA</td><td>C</td><td>C1</td><td>Source Verified</td><td>16800.0</td><td>Individual</td><td>null</td><td>null</td><td>2023-10-03 12:06:...</td></tr>\n",
       "<tr><td>f682277b9c259b98a...</td><td>null</td><td>null</td><td>RENT</td><td>21060.0</td><td>WA</td><td>992xx</td><td>USA</td><td>C</td><td>C2</td><td>Verified</td><td>16900.0</td><td>Individual</td><td>null</td><td>null</td><td>2023-10-03 12:06:...</td></tr>\n",
       "<tr><td>3c58d7a13ce9e0500...</td><td>Production Associ...</td><td>2 years</td><td>MORTGAGE</td><td>60000.0</td><td>MO</td><td>641xx</td><td>USA</td><td>A</td><td>A5</td><td>Not Verified</td><td>130709.0</td><td>Individual</td><td>null</td><td>null</td><td>2023-10-03 12:06:...</td></tr>\n",
       "<tr><td>d89b83693bd259e26...</td><td>Teacher</td><td>10+ years</td><td>MORTGAGE</td><td>70106.0</td><td>TX</td><td>774xx</td><td>USA</td><td>A</td><td>A3</td><td>Not Verified</td><td>334025.0</td><td>Joint App</td><td>131106.0</td><td>null</td><td>2023-10-03 12:06:...</td></tr>\n",
       "<tr><td>c3a5e31654d191712...</td><td>null</td><td>&lt; 1 year</td><td>RENT</td><td>80000.0</td><td>NY</td><td>104xx</td><td>USA</td><td>A</td><td>A1</td><td>Source Verified</td><td>54764.0</td><td>Individual</td><td>null</td><td>null</td><td>2023-10-03 12:06:...</td></tr>\n",
       "<tr><td>399f85c6ac432c573...</td><td>Senior Systems En...</td><td>9 years</td><td>MORTGAGE</td><td>113000.0</td><td>FL</td><td>327xx</td><td>USA</td><td>A</td><td>A5</td><td>Not Verified</td><td>383201.0</td><td>Individual</td><td>null</td><td>null</td><td>2023-10-03 12:06:...</td></tr>\n",
       "<tr><td>4c936495499b5ed2b...</td><td>null</td><td>null</td><td>RENT</td><td>31859.0</td><td>WI</td><td>531xx</td><td>USA</td><td>B</td><td>B3</td><td>Verified</td><td>24585.0</td><td>Individual</td><td>null</td><td>null</td><td>2023-10-03 12:06:...</td></tr>\n",
       "<tr><td>599d19c703d61b020...</td><td>Technology Manager</td><td>&lt; 1 year</td><td>OWN</td><td>256335.0</td><td>VA</td><td>235xx</td><td>USA</td><td>A</td><td>A1</td><td>Source Verified</td><td>1360850.0</td><td>Individual</td><td>null</td><td>null</td><td>2023-10-03 12:06:...</td></tr>\n",
       "<tr><td>0da2db388b9bf5836...</td><td>Project manager</td><td>&lt; 1 year</td><td>MORTGAGE</td><td>65000.0</td><td>AZ</td><td>853xx</td><td>USA</td><td>A</td><td>A1</td><td>Not Verified</td><td>176518.0</td><td>Individual</td><td>null</td><td>null</td><td>2023-10-03 12:06:...</td></tr>\n",
       "<tr><td>cda67397dae27cde5...</td><td>engineer</td><td>9 years</td><td>MORTGAGE</td><td>110000.0</td><td>PA</td><td>172xx</td><td>USA</td><td>C</td><td>C5</td><td>Verified</td><td>362613.0</td><td>Individual</td><td>null</td><td>null</td><td>2023-10-03 12:06:...</td></tr>\n",
       "<tr><td>c7492d026ff7d659e...</td><td>LEISURE TRAVEL CO...</td><td>10+ years</td><td>RENT</td><td>58000.0</td><td>CO</td><td>802xx</td><td>USA</td><td>D</td><td>D2</td><td>Not Verified</td><td>23700.0</td><td>Individual</td><td>null</td><td>null</td><td>2023-10-03 12:06:...</td></tr>\n",
       "<tr><td>9db33d5c62ba0f314...</td><td>Senior Title Exam...</td><td>5 years</td><td>MORTGAGE</td><td>68000.0</td><td>FL</td><td>333xx</td><td>USA</td><td>C</td><td>C1</td><td>Source Verified</td><td>290453.0</td><td>Individual</td><td>null</td><td>null</td><td>2023-10-03 12:06:...</td></tr>\n",
       "<tr><td>956b56dc16a9493f5...</td><td>Association Execu...</td><td>4 years</td><td>MORTGAGE</td><td>44500.0</td><td>OK</td><td>740xx</td><td>USA</td><td>B</td><td>B5</td><td>Not Verified</td><td>230324.0</td><td>Individual</td><td>null</td><td>null</td><td>2023-10-03 12:06:...</td></tr>\n",
       "<tr><td>f1ed44f3dd32dc78e...</td><td>Finance Manager</td><td>5 years</td><td>RENT</td><td>119905.0</td><td>CO</td><td>802xx</td><td>USA</td><td>D</td><td>D1</td><td>Source Verified</td><td>66716.0</td><td>Individual</td><td>null</td><td>null</td><td>2023-10-03 12:06:...</td></tr>\n",
       "</table>\n",
       "only showing top 20 rows\n"
      ],
      "text/plain": [
       "+--------------------+--------------------+----------+--------------+-------------+-------------+---------------+---------------+-----+---------+-------------------+-----------------------+----------------+------------------+-------------------------+--------------------+\n",
       "|           member_id|           emp_title|emp_length|home_ownership|annual_income|address_state|address_zipcode|address_country|grade|sub_grade|verification_status|total_high_credit_limit|application_type|join_annual_income|verification_status_joint|         ingest_date|\n",
       "+--------------------+--------------------+----------+--------------+-------------+-------------+---------------+---------------+-----+---------+-------------------+-----------------------+----------------+------------------+-------------------------+--------------------+\n",
       "|17af16800eb389c29...|VP Financial Anal...| 10+ years|      MORTGAGE|     230000.0|           NY|          117xx|            USA|    E|       E1|    Source Verified|               593438.0|      Individual|              null|                     null|2023-10-03 12:06:...|\n",
       "|f510ae9f534581988...|Network Support A...|   3 years|      MORTGAGE|      80000.0|           OH|          443xx|            USA|    B|       B5|    Source Verified|               146282.0|      Individual|              null|                     null|2023-10-03 12:06:...|\n",
       "|b9862dc16de179439...|       Sales Manager|   9 years|      MORTGAGE|     150000.0|           MI|          481xx|            USA|    C|       C2|    Source Verified|                73170.0|      Individual|              null|                     null|2023-10-03 12:06:...|\n",
       "|4bd054a3c9914c894...|   Sales support Rep| 10+ years|      MORTGAGE|      35000.0|           TX|          765xx|            USA|    D|       D1|    Source Verified|               179324.0|      Individual|              null|                     null|2023-10-03 12:06:...|\n",
       "|bb7f4a33c34b0b6e8...|        public works|   6 years|           OWN|      39000.0|           PA|          156xx|            USA|    B|       B2|    Source Verified|                60098.0|      Individual|              null|                     null|2023-10-03 12:06:...|\n",
       "|4a6ae75de7489f23b...|             Teacher| 10+ years|           OWN|      61934.0|           MS|          397xx|            USA|    D|       D3|       Not Verified|                79807.0|      Individual|              null|                     null|2023-10-03 12:06:...|\n",
       "|b7c292f8c18f03642...|            Sec/tres| 10+ years|      MORTGAGE|      80000.0|           NC|          288xx|            USA|    D|       D1|           Verified|               323482.0|      Individual|              null|                     null|2023-10-03 12:06:...|\n",
       "|cc48439a4b0462939...|                null|      null|      MORTGAGE|      21670.0|           NY|          144xx|            USA|    B|       B2|           Verified|               114236.0|       Joint App|           53170.0|             Not Verified|2023-10-03 12:06:...|\n",
       "|92ff2216352ac1f91...|       CEO president|   3 years|      MORTGAGE|     250000.0|           NC|          280xx|            USA|    B|       B1|    Source Verified|               972852.0|       Joint App|          256000.0|             Not Verified|2023-10-03 12:06:...|\n",
       "|14464a7c02e08cefb...|Realtor Landlord ...|   6 years|      MORTGAGE|      75000.0|           FL|          331xx|            USA|    B|       B4|       Not Verified|               238600.0|      Individual|              null|                     null|2023-10-03 12:06:...|\n",
       "|4f68381c9eb29ed75...|               owner| 10+ years|          RENT|      45000.0|           MI|          484xx|            USA|    B|       B4|    Source Verified|                 8300.0|      Individual|              null|                     null|2023-10-03 12:06:...|\n",
       "|87a78d4a8f3cecfc0...|         Engineer II|   2 years|      MORTGAGE|      86000.0|           CA|          928xx|            USA|    B|       B2|    Source Verified|               419247.0|      Individual|              null|                     null|2023-10-03 12:06:...|\n",
       "|71cf5856199d1faa8...| Fin. Service Admin.| 10+ years|           OWN|      83000.0|           GA|          301xx|            USA|    D|       D4|    Source Verified|                36100.0|      Individual|              null|                     null|2023-10-03 12:06:...|\n",
       "|004c15b7a72ef6248...|               Owner| 10+ years|      MORTGAGE|     220000.0|           MO|          630xx|            USA|    A|       A4|    Source Verified|               141796.0|      Individual|              null|                     null|2023-10-03 12:06:...|\n",
       "|af102045eb8cbddf0...|       Nurse Manager| 10+ years|          RENT|      96000.0|           MO|          631xx|            USA|    B|       B4|    Source Verified|                37946.0|      Individual|              null|                     null|2023-10-03 12:06:...|\n",
       "|55ddcd8577955f0ba...|                null|      null|           OWN|      90000.0|           MI|          482xx|            USA|    C|       C4|           Verified|                76900.0|      Individual|              null|                     null|2023-10-03 12:06:...|\n",
       "|b9b419ffa4605dfce...|WG10 Sheetmetal M...|   6 years|      MORTGAGE|      85000.0|           OK|          730xx|            USA|    C|       C4|    Source Verified|               264247.0|      Individual|              null|                     null|2023-10-03 12:06:...|\n",
       "|1844929c1d8c38b9c...|Tax Compliance Of...| 10+ years|      MORTGAGE|      54000.0|           UT|          840xx|            USA|    B|       B4|    Source Verified|               227919.0|      Individual|              null|                     null|2023-10-03 12:06:...|\n",
       "|c64cbe7005b9efdc2...|Sr Software Devel...|    1 year|      MORTGAGE|     137000.0|           VA|          201xx|            USA|    B|       B4|    Source Verified|               673687.0|      Individual|              null|                     null|2023-10-03 12:06:...|\n",
       "|8f6b7f46e787a6eb3...|                null|      null|          RENT|      40000.0|           NY|          115xx|            USA|    E|       E1|           Verified|                 5200.0|      Individual|              null|                     null|2023-10-03 12:06:...|\n",
       "+--------------------+--------------------+----------+--------------+-------------+-------------+---------------+---------------+-----+---------+-------------------+-----------------------+----------------+------------------+-------------------------+--------------------+\n",
       "only showing top 20 rows"
      ]
     },
     "execution_count": 79,
     "metadata": {},
     "output_type": "execute_result"
    }
   ],
   "source": [
    "spark.sql(\"select * from customers\")"
   ]
  },
  {
   "cell_type": "code",
   "execution_count": 80,
   "id": "9d6878dd",
   "metadata": {},
   "outputs": [
    {
     "data": {
      "text/html": [
       "<table border='1'>\n",
       "<tr><th>count(1)</th></tr>\n",
       "<tr><td>5</td></tr>\n",
       "</table>\n"
      ],
      "text/plain": [
       "+--------+\n",
       "|count(1)|\n",
       "+--------+\n",
       "|       5|\n",
       "+--------+"
      ]
     },
     "execution_count": 80,
     "metadata": {},
     "output_type": "execute_result"
    }
   ],
   "source": [
    "spark.sql(\"select count(*) from customers where annual_income is null\")"
   ]
  },
  {
   "cell_type": "code",
   "execution_count": 81,
   "id": "104fe1cd",
   "metadata": {},
   "outputs": [],
   "source": [
    "customers_income_filtered = spark.sql(\"select * from customers where annual_income is not null\")"
   ]
  },
  {
   "cell_type": "code",
   "execution_count": 82,
   "id": "c68a42f9",
   "metadata": {},
   "outputs": [],
   "source": [
    "customers_income_filtered.createOrReplaceTempView(\"customers\")"
   ]
  },
  {
   "cell_type": "code",
   "execution_count": 83,
   "id": "484e4512",
   "metadata": {},
   "outputs": [
    {
     "data": {
      "text/html": [
       "<table border='1'>\n",
       "<tr><th>emp_length</th></tr>\n",
       "<tr><td>5 years</td></tr>\n",
       "<tr><td>9 years</td></tr>\n",
       "<tr><td>null</td></tr>\n",
       "<tr><td>1 year</td></tr>\n",
       "<tr><td>2 years</td></tr>\n",
       "<tr><td>7 years</td></tr>\n",
       "<tr><td>8 years</td></tr>\n",
       "<tr><td>4 years</td></tr>\n",
       "<tr><td>6 years</td></tr>\n",
       "<tr><td>3 years</td></tr>\n",
       "<tr><td>10+ years</td></tr>\n",
       "<tr><td>&lt; 1 year</td></tr>\n",
       "</table>\n"
      ],
      "text/plain": [
       "+----------+\n",
       "|emp_length|\n",
       "+----------+\n",
       "|   5 years|\n",
       "|   9 years|\n",
       "|      null|\n",
       "|    1 year|\n",
       "|   2 years|\n",
       "|   7 years|\n",
       "|   8 years|\n",
       "|   4 years|\n",
       "|   6 years|\n",
       "|   3 years|\n",
       "| 10+ years|\n",
       "|  < 1 year|\n",
       "+----------+"
      ]
     },
     "execution_count": 83,
     "metadata": {},
     "output_type": "execute_result"
    }
   ],
   "source": [
    "spark.sql(\"select distinct(emp_length) from customers\")"
   ]
  },
  {
   "cell_type": "code",
   "execution_count": 84,
   "id": "baf49c40",
   "metadata": {},
   "outputs": [],
   "source": [
    "from pyspark.sql.functions import regexp_replace,col"
   ]
  },
  {
   "cell_type": "code",
   "execution_count": 85,
   "id": "cbd4a6a8",
   "metadata": {},
   "outputs": [],
   "source": [
    "customers_emplength_cleaned = customers_income_filtered.withColumn(\"emp_length\",regexp_replace(col(\"emp_length\"),\"(\\D)\",\"\"))"
   ]
  },
  {
   "cell_type": "code",
   "execution_count": 86,
   "id": "f785040b",
   "metadata": {},
   "outputs": [
    {
     "data": {
      "text/html": [
       "<table border='1'>\n",
       "<tr><th>member_id</th><th>emp_title</th><th>emp_length</th><th>home_ownership</th><th>annual_income</th><th>address_state</th><th>address_zipcode</th><th>address_country</th><th>grade</th><th>sub_grade</th><th>verification_status</th><th>total_high_credit_limit</th><th>application_type</th><th>join_annual_income</th><th>verification_status_joint</th><th>ingest_date</th></tr>\n",
       "<tr><td>727a008bbced1f5c1...</td><td>registered nurse</td><td>5</td><td>MORTGAGE</td><td>65000.0</td><td>MI</td><td>483xx</td><td>USA</td><td>D</td><td>D1</td><td>Not Verified</td><td>174912.0</td><td>Individual</td><td>null</td><td>null</td><td>2023-10-03 12:07:...</td></tr>\n",
       "<tr><td>26a2f8ef8fd8a7ecc...</td><td>engineering foreman</td><td>7</td><td>MORTGAGE</td><td>85000.0</td><td>IN</td><td>461xx</td><td>USA</td><td>C</td><td>C3</td><td>Source Verified</td><td>93851.0</td><td>Individual</td><td>null</td><td>null</td><td>2023-10-03 12:07:...</td></tr>\n",
       "<tr><td>705733fa70ee752d8...</td><td>Shipping Manager</td><td>10</td><td>MORTGAGE</td><td>75000.0</td><td>WI</td><td>546xx</td><td>USA</td><td>B</td><td>B4</td><td>Source Verified</td><td>216092.0</td><td>Individual</td><td>null</td><td>null</td><td>2023-10-03 12:07:...</td></tr>\n",
       "<tr><td>ade39b68392a8d548...</td><td>Office Manager</td><td>1</td><td>RENT</td><td>26400.0</td><td>AZ</td><td>852xx</td><td>USA</td><td>B</td><td>B5</td><td>Source Verified</td><td>55869.0</td><td>Individual</td><td>null</td><td>null</td><td>2023-10-03 12:07:...</td></tr>\n",
       "<tr><td>b7448a5cf926ff698...</td><td>Plumber</td><td>10</td><td>MORTGAGE</td><td>91000.0</td><td>IL</td><td>629xx</td><td>USA</td><td>D</td><td>D3</td><td>Not Verified</td><td>324610.0</td><td>Individual</td><td>null</td><td>null</td><td>2023-10-03 12:07:...</td></tr>\n",
       "<tr><td>8934849e3360a49b0...</td><td>Delivery Driver</td><td>6</td><td>RENT</td><td>50001.0</td><td>CA</td><td>925xx</td><td>USA</td><td>C</td><td>C1</td><td>Verified</td><td>79500.0</td><td>Individual</td><td>null</td><td>null</td><td>2023-10-03 12:07:...</td></tr>\n",
       "<tr><td>4b03f181613c1fdff...</td><td>null</td><td>null</td><td>MORTGAGE</td><td>52215.0</td><td>IL</td><td>606xx</td><td>USA</td><td>C</td><td>C5</td><td>Verified</td><td>256101.0</td><td>Individual</td><td>null</td><td>null</td><td>2023-10-03 12:07:...</td></tr>\n",
       "<tr><td>4d4237ffb7a0b25d5...</td><td>owner</td><td>10</td><td>OWN</td><td>485000.0</td><td>KS</td><td>661xx</td><td>USA</td><td>D</td><td>D5</td><td>Source Verified</td><td>302335.0</td><td>Individual</td><td>null</td><td>null</td><td>2023-10-03 12:07:...</td></tr>\n",
       "<tr><td>f252e35f2bc54bc3e...</td><td>Systems Administr...</td><td>5</td><td>RENT</td><td>48975.0</td><td>VA</td><td>240xx</td><td>USA</td><td>A</td><td>A5</td><td>Source Verified</td><td>35510.0</td><td>Individual</td><td>null</td><td>null</td><td>2023-10-03 12:07:...</td></tr>\n",
       "<tr><td>bfd7c2b84c62820f9...</td><td>Civil Engineer, T...</td><td>1</td><td>RENT</td><td>56200.0</td><td>VA</td><td>235xx</td><td>USA</td><td>B</td><td>B4</td><td>Not Verified</td><td>120262.0</td><td>Individual</td><td>null</td><td>null</td><td>2023-10-03 12:07:...</td></tr>\n",
       "<tr><td>ae90799b6b2b4f236...</td><td>System Administrator</td><td>3</td><td>RENT</td><td>55000.0</td><td>FL</td><td>331xx</td><td>USA</td><td>C</td><td>C2</td><td>Source Verified</td><td>52503.0</td><td>Individual</td><td>null</td><td>null</td><td>2023-10-03 12:07:...</td></tr>\n",
       "<tr><td>8552b5f0987a74458...</td><td>Software Systems ...</td><td>1</td><td>MORTGAGE</td><td>112500.0</td><td>FL</td><td>327xx</td><td>USA</td><td>D</td><td>D1</td><td>Verified</td><td>359459.0</td><td>Individual</td><td>null</td><td>null</td><td>2023-10-03 12:07:...</td></tr>\n",
       "<tr><td>77e582eac6510e8e1...</td><td>sport editor</td><td>10</td><td>RENT</td><td>52000.0</td><td>FL</td><td>331xx</td><td>USA</td><td>C</td><td>C1</td><td>Verified</td><td>45356.0</td><td>Individual</td><td>null</td><td>null</td><td>2023-10-03 12:07:...</td></tr>\n",
       "<tr><td>b6006482f0c601a29...</td><td>Owner</td><td>9</td><td>MORTGAGE</td><td>45000.0</td><td>MI</td><td>493xx</td><td>USA</td><td>B</td><td>B5</td><td>Not Verified</td><td>89206.0</td><td>Individual</td><td>null</td><td>null</td><td>2023-10-03 12:07:...</td></tr>\n",
       "<tr><td>9030a5dbdcd88da5c...</td><td>National Attorney...</td><td>2</td><td>RENT</td><td>32240.0</td><td>CA</td><td>912xx</td><td>USA</td><td>D</td><td>D3</td><td>Verified</td><td>31578.0</td><td>Individual</td><td>null</td><td>null</td><td>2023-10-03 12:07:...</td></tr>\n",
       "<tr><td>4a761b5272ef335ea...</td><td>General Manager</td><td>5</td><td>MORTGAGE</td><td>59000.0</td><td>AZ</td><td>853xx</td><td>USA</td><td>B</td><td>B1</td><td>Source Verified</td><td>115599.0</td><td>Individual</td><td>null</td><td>null</td><td>2023-10-03 12:07:...</td></tr>\n",
       "<tr><td>2cc9c477cc4cc0a4f...</td><td>Area Credit Manager</td><td>10</td><td>MORTGAGE</td><td>60000.0</td><td>MA</td><td>010xx</td><td>USA</td><td>E</td><td>E2</td><td>Source Verified</td><td>244158.0</td><td>Individual</td><td>null</td><td>null</td><td>2023-10-03 12:07:...</td></tr>\n",
       "<tr><td>1df95f88b7e828c06...</td><td>chief nursing off...</td><td>1</td><td>MORTGAGE</td><td>140000.0</td><td>AZ</td><td>853xx</td><td>USA</td><td>C</td><td>C5</td><td>Verified</td><td>440183.0</td><td>Individual</td><td>null</td><td>null</td><td>2023-10-03 12:07:...</td></tr>\n",
       "<tr><td>0addb1ce6142a271e...</td><td>RN</td><td>10</td><td>MORTGAGE</td><td>100000.0</td><td>NY</td><td>107xx</td><td>USA</td><td>C</td><td>C4</td><td>Not Verified</td><td>400050.0</td><td>Individual</td><td>null</td><td>null</td><td>2023-10-03 12:07:...</td></tr>\n",
       "<tr><td>1e0cd394f9823dab5...</td><td>Leasing Specialist</td><td>1</td><td>RENT</td><td>45000.0</td><td>CA</td><td>945xx</td><td>USA</td><td>B</td><td>B1</td><td>Not Verified</td><td>34881.0</td><td>Individual</td><td>null</td><td>null</td><td>2023-10-03 12:07:...</td></tr>\n",
       "</table>\n",
       "only showing top 20 rows\n"
      ],
      "text/plain": [
       "+--------------------+--------------------+----------+--------------+-------------+-------------+---------------+---------------+-----+---------+-------------------+-----------------------+----------------+------------------+-------------------------+--------------------+\n",
       "|           member_id|           emp_title|emp_length|home_ownership|annual_income|address_state|address_zipcode|address_country|grade|sub_grade|verification_status|total_high_credit_limit|application_type|join_annual_income|verification_status_joint|         ingest_date|\n",
       "+--------------------+--------------------+----------+--------------+-------------+-------------+---------------+---------------+-----+---------+-------------------+-----------------------+----------------+------------------+-------------------------+--------------------+\n",
       "|d085f12b0d45faaa3...|      Sonoma Academy|         4|      MORTGAGE|      89000.0|           CA|          954xx|            USA|    A|       A1|    Source Verified|                   null|      Individual|              null|                     null|2023-10-03 12:07:...|\n",
       "|e3f0257667433d366...|                null|      null|      MORTGAGE|      30000.0|           NM|          871xx|            USA|    E|       E1|       Not Verified|                   null|      Individual|              null|                     null|2023-10-03 12:07:...|\n",
       "|b4d927402e7d5bcbc...|       FedEx Freight|         7|      MORTGAGE|      53000.0|           MO|          633xx|            USA|    B|       B4|       Not Verified|                   null|      Individual|              null|                     null|2023-10-03 12:07:...|\n",
       "|3ff64c608815c24e5...|       PMS Headstart|         5|      MORTGAGE|      24000.0|           NM|          871xx|            USA|    B|       B4|           Verified|                   null|      Individual|              null|                     null|2023-10-03 12:07:...|\n",
       "|d72d9187e88a0a04c...|       Dept of State|         4|      MORTGAGE|      74000.0|           DC|          200xx|            USA|    A|       A1|       Not Verified|                   null|      Individual|              null|                     null|2023-10-03 12:07:...|\n",
       "|37802243fbbb89ed8...|AstroMotive Auto ...|         4|          RENT|      61100.0|           CA|          902xx|            USA|    A|       A2|       Not Verified|                   null|      Individual|              null|                     null|2023-10-03 12:07:...|\n",
       "|7595ecfcdd2614db3...|             Tenneco|         2|      MORTGAGE|      55800.0|           AR|          724xx|            USA|    A|       A4|       Not Verified|                   null|      Individual|              null|                     null|2023-10-03 12:07:...|\n",
       "|36d9765cb11ec58d1...|                null|      null|           OWN|      37000.0|           AL|          367xx|            USA|    D|       D2|       Not Verified|                   null|      Individual|              null|                     null|2023-10-03 12:07:...|\n",
       "|052f29758e029d4a8...|Solvay Geddes You...|         8|          RENT|      21000.0|           NY|          132xx|            USA|    B|       B4|       Not Verified|                   null|      Individual|              null|                     null|2023-10-03 12:07:...|\n",
       "|f97b55b7f963a556c...|  Jones Lang LaSalle|         1|      MORTGAGE|      85000.0|           NC|          281xx|            USA|    B|       B4|       Not Verified|                   null|      Individual|              null|                     null|2023-10-03 12:07:...|\n",
       "|2b6a74978ed7005fc...|Kohls Department ...|         5|           OWN|      22000.0|           PA|          151xx|            USA|    C|       C5|           Verified|                   null|      Individual|              null|                     null|2023-10-03 12:07:...|\n",
       "|83d40be284a2347c7...|New Mexico Dept. ...|         9|          RENT|      34569.0|           NM|          871xx|            USA|    A|       A5|       Not Verified|                   null|      Individual|              null|                     null|2023-10-03 12:07:...|\n",
       "|2528a26061aed27e2...|madison metropoli...|        10|      MORTGAGE|      63290.0|           WI|          535xx|            USA|    C|       C5|           Verified|                   null|      Individual|              null|                     null|2023-10-03 12:07:...|\n",
       "|1d69ed1b92b4ad6b9...|Copy Products Com...|         1|      MORTGAGE|      50836.0|           FL|          325xx|            USA|    A|       A4|           Verified|                   null|      Individual|              null|                     null|2023-10-03 12:07:...|\n",
       "|1e63e5ee179a7a386...|                 IBM|        10|      MORTGAGE|     154000.0|           NY|          141xx|            USA|    E|       E4|           Verified|                   null|      Individual|              null|                     null|2023-10-03 12:07:...|\n",
       "|7d0aee53a19e8f0af...|      Marin Software|         1|          RENT|      94000.0|           CA|          941xx|            USA|    D|       D1|       Not Verified|                   null|      Individual|              null|                     null|2023-10-03 12:07:...|\n",
       "|a079b928dd43b8b2a...|Corpus Christi Ar...|        10|      MORTGAGE|     110000.0|           TX|          784xx|            USA|    A|       A1|           Verified|                   null|      Individual|              null|                     null|2023-10-03 12:07:...|\n",
       "|0c33e52ddc837292f...|          Zero Chaos|         3|          RENT|     114000.0|           CA|          949xx|            USA|    C|       C5|           Verified|                   null|      Individual|              null|                     null|2023-10-03 12:07:...|\n",
       "|34dde205007379496...|Morristown Medica...|         9|          RENT|      75000.0|           NJ|          079xx|            USA|    F|       F5|           Verified|                   null|      Individual|              null|                     null|2023-10-03 12:07:...|\n",
       "|e836b1b74eb1249b8...|               FCEOC|         5|           OWN|      75600.0|           CA|          937xx|            USA|    A|       A2|       Not Verified|                   null|      Individual|              null|                     null|2023-10-03 12:07:...|\n",
       "+--------------------+--------------------+----------+--------------+-------------+-------------+---------------+---------------+-----+---------+-------------------+-----------------------+----------------+------------------+-------------------------+--------------------+\n",
       "only showing top 20 rows"
      ]
     },
     "execution_count": 86,
     "metadata": {},
     "output_type": "execute_result"
    }
   ],
   "source": [
    "customers_emplength_cleaned"
   ]
  },
  {
   "cell_type": "code",
   "execution_count": 87,
   "id": "f54ed005",
   "metadata": {},
   "outputs": [
    {
     "name": "stdout",
     "output_type": "stream",
     "text": [
      "root\n",
      " |-- member_id: string (nullable = true)\n",
      " |-- emp_title: string (nullable = true)\n",
      " |-- emp_length: string (nullable = true)\n",
      " |-- home_ownership: string (nullable = true)\n",
      " |-- annual_income: float (nullable = true)\n",
      " |-- address_state: string (nullable = true)\n",
      " |-- address_zipcode: string (nullable = true)\n",
      " |-- address_country: string (nullable = true)\n",
      " |-- grade: string (nullable = true)\n",
      " |-- sub_grade: string (nullable = true)\n",
      " |-- verification_status: string (nullable = true)\n",
      " |-- total_high_credit_limit: float (nullable = true)\n",
      " |-- application_type: string (nullable = true)\n",
      " |-- join_annual_income: float (nullable = true)\n",
      " |-- verification_status_joint: string (nullable = true)\n",
      " |-- ingest_date: timestamp (nullable = false)\n",
      "\n"
     ]
    }
   ],
   "source": [
    "customers_emplength_cleaned.printSchema()"
   ]
  },
  {
   "cell_type": "code",
   "execution_count": 88,
   "id": "334d265a",
   "metadata": {},
   "outputs": [],
   "source": [
    "customers_emplength_casted = customers_emplength_cleaned.withColumn(\"emp_length\",customers_emplength_cleaned.emp_length.cast('int'))"
   ]
  },
  {
   "cell_type": "code",
   "execution_count": 89,
   "id": "eb1ff9d3",
   "metadata": {},
   "outputs": [
    {
     "name": "stdout",
     "output_type": "stream",
     "text": [
      "root\n",
      " |-- member_id: string (nullable = true)\n",
      " |-- emp_title: string (nullable = true)\n",
      " |-- emp_length: integer (nullable = true)\n",
      " |-- home_ownership: string (nullable = true)\n",
      " |-- annual_income: float (nullable = true)\n",
      " |-- address_state: string (nullable = true)\n",
      " |-- address_zipcode: string (nullable = true)\n",
      " |-- address_country: string (nullable = true)\n",
      " |-- grade: string (nullable = true)\n",
      " |-- sub_grade: string (nullable = true)\n",
      " |-- verification_status: string (nullable = true)\n",
      " |-- total_high_credit_limit: float (nullable = true)\n",
      " |-- application_type: string (nullable = true)\n",
      " |-- join_annual_income: float (nullable = true)\n",
      " |-- verification_status_joint: string (nullable = true)\n",
      " |-- ingest_date: timestamp (nullable = false)\n",
      "\n"
     ]
    }
   ],
   "source": [
    "customers_emplength_casted.printSchema()"
   ]
  },
  {
   "cell_type": "code",
   "execution_count": 90,
   "id": "b6814463",
   "metadata": {},
   "outputs": [
    {
     "data": {
      "text/plain": [
       "146903"
      ]
     },
     "execution_count": 90,
     "metadata": {},
     "output_type": "execute_result"
    }
   ],
   "source": [
    "customers_emplength_casted.filter(\"emp_length is null\").count()"
   ]
  },
  {
   "cell_type": "code",
   "execution_count": 91,
   "id": "bf3c1dec",
   "metadata": {},
   "outputs": [],
   "source": [
    "customers_emplength_casted.createOrReplaceTempView(\"customers\")"
   ]
  },
  {
   "cell_type": "code",
   "execution_count": 92,
   "id": "a2707cde",
   "metadata": {},
   "outputs": [],
   "source": [
    "avg_emp_length = spark.sql(\"select floor(avg(emp_length)) as avg_emp_length from customers\").collect()"
   ]
  },
  {
   "cell_type": "code",
   "execution_count": 93,
   "id": "f37fee18",
   "metadata": {},
   "outputs": [
    {
     "name": "stdout",
     "output_type": "stream",
     "text": [
      "[Row(avg_emp_length=6)]\n"
     ]
    }
   ],
   "source": [
    "print(avg_emp_length)"
   ]
  },
  {
   "cell_type": "code",
   "execution_count": 94,
   "id": "03693749",
   "metadata": {},
   "outputs": [],
   "source": [
    "avg_emp_duration = avg_emp_length[0][0]"
   ]
  },
  {
   "cell_type": "code",
   "execution_count": 95,
   "id": "fe752e8b",
   "metadata": {},
   "outputs": [
    {
     "name": "stdout",
     "output_type": "stream",
     "text": [
      "6\n"
     ]
    }
   ],
   "source": [
    "print(avg_emp_duration)"
   ]
  },
  {
   "cell_type": "code",
   "execution_count": 96,
   "id": "7c22038d",
   "metadata": {},
   "outputs": [],
   "source": [
    "customers_emplength_replaced=customers_emplength_casted.na.fill(avg_emp_duration,subset=['emp_length'])"
   ]
  },
  {
   "cell_type": "code",
   "execution_count": 97,
   "id": "95b2d36e",
   "metadata": {},
   "outputs": [
    {
     "data": {
      "text/html": [
       "<table border='1'>\n",
       "<tr><th>member_id</th><th>emp_title</th><th>emp_length</th><th>home_ownership</th><th>annual_income</th><th>address_state</th><th>address_zipcode</th><th>address_country</th><th>grade</th><th>sub_grade</th><th>verification_status</th><th>total_high_credit_limit</th><th>application_type</th><th>join_annual_income</th><th>verification_status_joint</th><th>ingest_date</th></tr>\n",
       "<tr><td>f9db62ff779480102...</td><td>OWNER</td><td>10</td><td>MORTGAGE</td><td>125000.0</td><td>MA</td><td>018xx</td><td>USA</td><td>A</td><td>A1</td><td>Not Verified</td><td>456900.0</td><td>Individual</td><td>null</td><td>null</td><td>2023-10-03 12:09:...</td></tr>\n",
       "<tr><td>a1fed2473444ddd14...</td><td>Director</td><td>10</td><td>RENT</td><td>105000.0</td><td>NJ</td><td>074xx</td><td>USA</td><td>B</td><td>B2</td><td>Source Verified</td><td>157418.0</td><td>Individual</td><td>null</td><td>null</td><td>2023-10-03 12:09:...</td></tr>\n",
       "<tr><td>a637f9903cda5a177...</td><td>Application Devel...</td><td>4</td><td>MORTGAGE</td><td>62000.0</td><td>FL</td><td>330xx</td><td>USA</td><td>B</td><td>B4</td><td>Source Verified</td><td>265060.0</td><td>Individual</td><td>null</td><td>null</td><td>2023-10-03 12:09:...</td></tr>\n",
       "<tr><td>3407259d06d62b74b...</td><td>Vice President</td><td>3</td><td>RENT</td><td>112000.0</td><td>CA</td><td>917xx</td><td>USA</td><td>A</td><td>A5</td><td>Source Verified</td><td>62967.0</td><td>Individual</td><td>null</td><td>null</td><td>2023-10-03 12:09:...</td></tr>\n",
       "<tr><td>9002eeb9fe71d818e...</td><td>Social Worker</td><td>10</td><td>MORTGAGE</td><td>58000.0</td><td>WA</td><td>992xx</td><td>USA</td><td>C</td><td>C4</td><td>Not Verified</td><td>213175.0</td><td>Individual</td><td>null</td><td>null</td><td>2023-10-03 12:09:...</td></tr>\n",
       "<tr><td>49ea6b9b2b2f56631...</td><td>SR PLUMBER</td><td>10</td><td>MORTGAGE</td><td>102000.0</td><td>CA</td><td>907xx</td><td>USA</td><td>A</td><td>A2</td><td>Source Verified</td><td>534700.0</td><td>Individual</td><td>null</td><td>null</td><td>2023-10-03 12:09:...</td></tr>\n",
       "<tr><td>40bf9fe614c381df4...</td><td>Teller</td><td>3</td><td>RENT</td><td>21600.0</td><td>FL</td><td>330xx</td><td>USA</td><td>C</td><td>C4</td><td>Verified</td><td>25107.0</td><td>Individual</td><td>null</td><td>null</td><td>2023-10-03 12:09:...</td></tr>\n",
       "<tr><td>9425a471dc415585c...</td><td>MANAGER</td><td>10</td><td>RENT</td><td>135000.0</td><td>CA</td><td>918xx</td><td>USA</td><td>A</td><td>A3</td><td>Verified</td><td>50500.0</td><td>Joint App</td><td>225000.0</td><td>null</td><td>2023-10-03 12:09:...</td></tr>\n",
       "<tr><td>e4bb4d59585cf694b...</td><td>Bulk Driver</td><td>5</td><td>RENT</td><td>44000.0</td><td>FL</td><td>342xx</td><td>USA</td><td>A</td><td>A1</td><td>Not Verified</td><td>76298.0</td><td>Individual</td><td>null</td><td>null</td><td>2023-10-03 12:09:...</td></tr>\n",
       "<tr><td>812dbc189ef0fde95...</td><td>Store Manager</td><td>5</td><td>RENT</td><td>46000.0</td><td>NJ</td><td>070xx</td><td>USA</td><td>B</td><td>B2</td><td>Not Verified</td><td>34900.0</td><td>Individual</td><td>null</td><td>null</td><td>2023-10-03 12:09:...</td></tr>\n",
       "<tr><td>5f9a5146902e25b56...</td><td>Bookkeeper</td><td>1</td><td>MORTGAGE</td><td>75000.0</td><td>TX</td><td>786xx</td><td>USA</td><td>C</td><td>C1</td><td>Source Verified</td><td>236536.0</td><td>Individual</td><td>null</td><td>null</td><td>2023-10-03 12:09:...</td></tr>\n",
       "<tr><td>cd96e70d848a96ee0...</td><td>Human Resources D...</td><td>1</td><td>MORTGAGE</td><td>165000.0</td><td>TX</td><td>750xx</td><td>USA</td><td>A</td><td>A1</td><td>Source Verified</td><td>499178.0</td><td>Individual</td><td>null</td><td>null</td><td>2023-10-03 12:09:...</td></tr>\n",
       "<tr><td>6c2eaa6f478b8884b...</td><td>Gloable Project M...</td><td>8</td><td>OWN</td><td>200000.0</td><td>TX</td><td>773xx</td><td>USA</td><td>D</td><td>D3</td><td>Source Verified</td><td>16100.0</td><td>Individual</td><td>null</td><td>null</td><td>2023-10-03 12:09:...</td></tr>\n",
       "<tr><td>96767c1d3fd9c4196...</td><td>Houseman Supervisor</td><td>10</td><td>RENT</td><td>65000.0</td><td>CA</td><td>945xx</td><td>USA</td><td>B</td><td>B5</td><td>Verified</td><td>46955.0</td><td>Individual</td><td>null</td><td>null</td><td>2023-10-03 12:09:...</td></tr>\n",
       "<tr><td>f9409294ef3d29bb8...</td><td>HOME HEALTH AID</td><td>8</td><td>RENT</td><td>70000.0</td><td>NY</td><td>112xx</td><td>USA</td><td>B</td><td>B3</td><td>Not Verified</td><td>27300.0</td><td>Individual</td><td>null</td><td>null</td><td>2023-10-03 12:09:...</td></tr>\n",
       "<tr><td>140979abba774b3f9...</td><td>Accountant</td><td>2</td><td>RENT</td><td>82500.0</td><td>CA</td><td>900xx</td><td>USA</td><td>C</td><td>C2</td><td>Source Verified</td><td>107199.0</td><td>Individual</td><td>null</td><td>null</td><td>2023-10-03 12:09:...</td></tr>\n",
       "<tr><td>b6597e7c64fe74837...</td><td>Teacher</td><td>10</td><td>MORTGAGE</td><td>56000.0</td><td>WI</td><td>530xx</td><td>USA</td><td>A</td><td>A5</td><td>Not Verified</td><td>218426.0</td><td>Individual</td><td>null</td><td>null</td><td>2023-10-03 12:09:...</td></tr>\n",
       "<tr><td>b4b18bb58b0cd5157...</td><td>Casino Supervisor</td><td>10</td><td>MORTGAGE</td><td>106000.0</td><td>NV</td><td>891xx</td><td>USA</td><td>C</td><td>C4</td><td>Not Verified</td><td>240010.0</td><td>Individual</td><td>null</td><td>null</td><td>2023-10-03 12:09:...</td></tr>\n",
       "<tr><td>fe87ea38954b0c223...</td><td>Billing Specialist</td><td>10</td><td>MORTGAGE</td><td>38000.0</td><td>FL</td><td>327xx</td><td>USA</td><td>D</td><td>D3</td><td>Verified</td><td>161666.0</td><td>Individual</td><td>null</td><td>null</td><td>2023-10-03 12:09:...</td></tr>\n",
       "<tr><td>db54f57f1b0d856a7...</td><td>Realtor</td><td>8</td><td>RENT</td><td>200000.0</td><td>TX</td><td>787xx</td><td>USA</td><td>B</td><td>B5</td><td>Source Verified</td><td>138054.0</td><td>Individual</td><td>null</td><td>null</td><td>2023-10-03 12:09:...</td></tr>\n",
       "</table>\n",
       "only showing top 20 rows\n"
      ],
      "text/plain": [
       "+--------------------+--------------------+----------+--------------+-------------+-------------+---------------+---------------+-----+---------+-------------------+-----------------------+----------------+------------------+-------------------------+--------------------+\n",
       "|           member_id|           emp_title|emp_length|home_ownership|annual_income|address_state|address_zipcode|address_country|grade|sub_grade|verification_status|total_high_credit_limit|application_type|join_annual_income|verification_status_joint|         ingest_date|\n",
       "+--------------------+--------------------+----------+--------------+-------------+-------------+---------------+---------------+-----+---------+-------------------+-----------------------+----------------+------------------+-------------------------+--------------------+\n",
       "|c74f7e2c8b7e4044e...|     Network analyst|        10|           OWN|      96000.0|           TX|          750xx|            USA|    B|       B1|       Not Verified|               248861.0|      Individual|              null|                     null|2023-10-03 12:09:...|\n",
       "|1fe00dcecb9abdfa9...|           charge rn|        10|      MORTGAGE|      99000.0|           TX|          756xx|            USA|    D|       D4|           Verified|               156502.0|      Individual|              null|                     null|2023-10-03 12:09:...|\n",
       "|bc2b3decba2779b33...|Electronic Funds ...|         2|          RENT|      25000.0|           SC|          291xx|            USA|    D|       D5|    Source Verified|               183991.0|      Individual|              null|                     null|2023-10-03 12:09:...|\n",
       "|0cc0b107cd245ffb7...|     Service manager|         3|          RENT|      85000.0|           PA|          190xx|            USA|    F|       F2|           Verified|                44606.0|      Individual|              null|                     null|2023-10-03 12:09:...|\n",
       "|23a47c8a1bfaac194...|     package handler|         1|           OWN|      20000.0|           GA|          301xx|            USA|    B|       B5|    Source Verified|                13500.0|      Individual|              null|                     null|2023-10-03 12:09:...|\n",
       "|0277266a01d1be0d0...|           Law Clerk|         1|      MORTGAGE|      69000.0|           DC|          200xx|            USA|    A|       A1|       Not Verified|               492605.0|      Individual|              null|                     null|2023-10-03 12:09:...|\n",
       "|d675df1591a7f0be3...|      CAD Specialist|         3|          RENT|      54000.0|           WA|          980xx|            USA|    C|       C2|       Not Verified|                43372.0|      Individual|              null|                     null|2023-10-03 12:09:...|\n",
       "|3e1858236764257b5...|                null|         3|          RENT|      70000.0|           OR|          972xx|            USA|    B|       B4|       Not Verified|               245276.0|      Individual|              null|                     null|2023-10-03 12:09:...|\n",
       "|2f5008efcf6748456...|        Merchandiser|         8|          RENT|      38000.0|           CT|          066xx|            USA|    E|       E3|           Verified|                40076.0|      Individual|              null|                     null|2023-10-03 12:09:...|\n",
       "|dc10a5a266284eac6...|   Commercial Lender|         2|          RENT|      82000.0|           MN|          558xx|            USA|    D|       D4|       Not Verified|               180279.0|      Individual|              null|                     null|2023-10-03 12:09:...|\n",
       "|063ff64c443ed4f79...|             LABORER|         6|           OWN|      33000.0|           CA|          935xx|            USA|    B|       B5|    Source Verified|               162946.0|      Individual|              null|                     null|2023-10-03 12:09:...|\n",
       "|659cfb87ed3cd7813...|               sales|        10|      MORTGAGE|      55000.0|           CO|          802xx|            USA|    B|       B5|       Not Verified|               234300.0|      Individual|              null|                     null|2023-10-03 12:09:...|\n",
       "|eb56f87bd6ae3e6df...|           Clinician|         3|      MORTGAGE|      50000.0|           CA|          927xx|            USA|    B|       B1|       Not Verified|               401348.0|      Individual|              null|                     null|2023-10-03 12:09:...|\n",
       "|9f2aa98f60fb82142...|Shipping and Rece...|        10|          RENT|      52000.0|           WI|          540xx|            USA|    A|       A4|       Not Verified|                92453.0|      Individual|              null|                     null|2023-10-03 12:09:...|\n",
       "|99d213c9979ac9008...|Project Manager/E...|        10|      MORTGAGE|      78000.0|           PA|          189xx|            USA|    C|       C1|       Not Verified|               334031.0|      Individual|              null|                     null|2023-10-03 12:09:...|\n",
       "|d8111a42aa9965c0f...|             Manager|        10|          RENT|      30000.0|           VA|          220xx|            USA|    B|       B4|    Source Verified|                16300.0|      Individual|              null|                     null|2023-10-03 12:09:...|\n",
       "|5d803759c640b4ebd...|                 Dmo|         4|      MORTGAGE|      86000.0|           MO|          640xx|            USA|    C|       C3|    Source Verified|               265082.0|      Individual|              null|                     null|2023-10-03 12:09:...|\n",
       "|a61a1f949177457f0...|Director Corporat...|        10|      MORTGAGE|     205000.0|           CA|          949xx|            USA|    E|       E1|    Source Verified|               929324.0|      Individual|              null|                     null|2023-10-03 12:09:...|\n",
       "|c137056d4e674b5f2...|Air Quality Speci...|         1|      MORTGAGE|      77000.0|           TX|          787xx|            USA|    A|       A1|       Not Verified|               288817.0|      Individual|              null|                     null|2023-10-03 12:09:...|\n",
       "|2d60eb7e57602072d...|    DISTRICT MANAGER|         1|           OWN|      91000.0|           FL|          323xx|            USA|    D|       D5|           Verified|               121854.0|      Individual|              null|                     null|2023-10-03 12:09:...|\n",
       "+--------------------+--------------------+----------+--------------+-------------+-------------+---------------+---------------+-----+---------+-------------------+-----------------------+----------------+------------------+-------------------------+--------------------+\n",
       "only showing top 20 rows"
      ]
     },
     "execution_count": 97,
     "metadata": {},
     "output_type": "execute_result"
    }
   ],
   "source": [
    "customers_emplength_replaced"
   ]
  },
  {
   "cell_type": "code",
   "execution_count": 98,
   "id": "d0b75fc2",
   "metadata": {},
   "outputs": [],
   "source": [
    "customers_emplength_replaced.createOrReplaceTempView(\"customers\")"
   ]
  },
  {
   "cell_type": "code",
   "execution_count": 99,
   "id": "6f3aecb1",
   "metadata": {},
   "outputs": [
    {
     "data": {
      "text/html": [
       "<table border='1'>\n",
       "<tr><th>address_state</th></tr>\n",
       "<tr><td>Helping Kenya&#x27;s D...</td></tr>\n",
       "<tr><td>223xx</td></tr>\n",
       "<tr><td>175 (total projec...</td></tr>\n",
       "<tr><td>SC</td></tr>\n",
       "<tr><td>AZ</td></tr>\n",
       "<tr><td>so Plan &quot;&quot;C&quot;&quot; is ...</td></tr>\n",
       "<tr><td>I am 56 yrs. old ...</td></tr>\n",
       "<tr><td>financially I mad...</td></tr>\n",
       "<tr><td>but no one will l...</td></tr>\n",
       "<tr><td>LA</td></tr>\n",
       "<tr><td>etc.  First</td></tr>\n",
       "<tr><td>MN</td></tr>\n",
       "<tr><td>yet Capital One n...</td></tr>\n",
       "<tr><td>850xx</td></tr>\n",
       "<tr><td>499xx</td></tr>\n",
       "<tr><td>and MBA&#x27;s are ove...</td></tr>\n",
       "<tr><td>Eliminating Credi...</td></tr>\n",
       "<tr><td>Advocate business...</td></tr>\n",
       "<tr><td>951xx</td></tr>\n",
       "<tr><td>I the credit card...</td></tr>\n",
       "</table>\n",
       "only showing top 20 rows\n"
      ],
      "text/plain": [
       "+--------------------+\n",
       "|       address_state|\n",
       "+--------------------+\n",
       "|Helping Kenya's D...|\n",
       "|               223xx|\n",
       "|175 (total projec...|\n",
       "|                  AZ|\n",
       "|                  SC|\n",
       "|so Plan \"\"C\"\" is ...|\n",
       "|I am 56 yrs. old ...|\n",
       "|financially I mad...|\n",
       "|but no one will l...|\n",
       "|                  LA|\n",
       "|         etc.  First|\n",
       "|                  MN|\n",
       "|               499xx|\n",
       "|yet Capital One n...|\n",
       "|               850xx|\n",
       "|Advocate business...|\n",
       "|and MBA's are ove...|\n",
       "|Eliminating Credi...|\n",
       "|               951xx|\n",
       "|               662xx|\n",
       "+--------------------+\n",
       "only showing top 20 rows"
      ]
     },
     "execution_count": 99,
     "metadata": {},
     "output_type": "execute_result"
    }
   ],
   "source": [
    "spark.sql(\"select distinct(address_state) from customers\")"
   ]
  },
  {
   "cell_type": "code",
   "execution_count": 100,
   "id": "db198810",
   "metadata": {},
   "outputs": [
    {
     "data": {
      "text/html": [
       "<table border='1'>\n",
       "<tr><th>count(address_state)</th></tr>\n",
       "<tr><td>254</td></tr>\n",
       "</table>\n"
      ],
      "text/plain": [
       "+--------------------+\n",
       "|count(address_state)|\n",
       "+--------------------+\n",
       "|                 254|\n",
       "+--------------------+"
      ]
     },
     "execution_count": 100,
     "metadata": {},
     "output_type": "execute_result"
    }
   ],
   "source": [
    "spark.sql(\"select count(address_state) from customers where length(address_state)>2\")"
   ]
  },
  {
   "cell_type": "code",
   "execution_count": 101,
   "id": "f15de3bf",
   "metadata": {},
   "outputs": [],
   "source": [
    "from pyspark.sql.functions import when,col,length"
   ]
  },
  {
   "cell_type": "code",
   "execution_count": 102,
   "id": "7b0123eb",
   "metadata": {},
   "outputs": [],
   "source": [
    "customers_state_cleaned = customers_emplength_replaced.withColumn(\"address_state\",\n",
    "                                        when(length(col(\"address_state\"))>2,\"NA\").otherwise(col(\"address_state\"))\n",
    "                                       )"
   ]
  },
  {
   "cell_type": "code",
   "execution_count": 103,
   "id": "9c4e4ca2",
   "metadata": {},
   "outputs": [
    {
     "data": {
      "text/html": [
       "<table border='1'>\n",
       "<tr><th>member_id</th><th>emp_title</th><th>emp_length</th><th>home_ownership</th><th>annual_income</th><th>address_state</th><th>address_zipcode</th><th>address_country</th><th>grade</th><th>sub_grade</th><th>verification_status</th><th>total_high_credit_limit</th><th>application_type</th><th>join_annual_income</th><th>verification_status_joint</th><th>ingest_date</th></tr>\n",
       "<tr><td>b895d43edc496516a...</td><td>VP Design</td><td>6</td><td>RENT</td><td>200000.0</td><td>NY</td><td>100xx</td><td>USA</td><td>B</td><td>B1</td><td>Source Verified</td><td>335526.0</td><td>Individual</td><td>null</td><td>null</td><td>2023-10-03 12:10:...</td></tr>\n",
       "<tr><td>564dff9647aa54bb6...</td><td>Airport Tower Coo...</td><td>10</td><td>MORTGAGE</td><td>60000.0</td><td>MN</td><td>551xx</td><td>USA</td><td>A</td><td>A3</td><td>Not Verified</td><td>225324.0</td><td>Individual</td><td>null</td><td>null</td><td>2023-10-03 12:10:...</td></tr>\n",
       "<tr><td>41c49e3681b5e7e20...</td><td>Sales rep</td><td>10</td><td>MORTGAGE</td><td>62000.0</td><td>FL</td><td>336xx</td><td>USA</td><td>B</td><td>B4</td><td>Not Verified</td><td>369038.0</td><td>Individual</td><td>null</td><td>null</td><td>2023-10-03 12:10:...</td></tr>\n",
       "<tr><td>d76b563f7d02d640e...</td><td>Manager</td><td>10</td><td>MORTGAGE</td><td>85000.0</td><td>FL</td><td>327xx</td><td>USA</td><td>A</td><td>A5</td><td>Not Verified</td><td>626670.0</td><td>Individual</td><td>null</td><td>null</td><td>2023-10-03 12:10:...</td></tr>\n",
       "<tr><td>c36f29f3e8a7995e1...</td><td>Store Manager</td><td>3</td><td>RENT</td><td>66187.0</td><td>FL</td><td>333xx</td><td>USA</td><td>B</td><td>B4</td><td>Source Verified</td><td>71417.0</td><td>Individual</td><td>null</td><td>null</td><td>2023-10-03 12:10:...</td></tr>\n",
       "<tr><td>a4892bc5d9439bd80...</td><td>Owner</td><td>10</td><td>RENT</td><td>150000.0</td><td>NJ</td><td>080xx</td><td>USA</td><td>B</td><td>B5</td><td>Not Verified</td><td>113024.0</td><td>Individual</td><td>null</td><td>null</td><td>2023-10-03 12:10:...</td></tr>\n",
       "<tr><td>1b2c22fdcecd18c06...</td><td>Senior Auditor</td><td>10</td><td>MORTGAGE</td><td>65000.0</td><td>MO</td><td>651xx</td><td>USA</td><td>B</td><td>B2</td><td>Source Verified</td><td>155412.0</td><td>Individual</td><td>null</td><td>null</td><td>2023-10-03 12:10:...</td></tr>\n",
       "<tr><td>005918e15acf4a054...</td><td>Executive Director</td><td>1</td><td>MORTGAGE</td><td>64000.0</td><td>WI</td><td>548xx</td><td>USA</td><td>B</td><td>B5</td><td>Source Verified</td><td>191321.0</td><td>Individual</td><td>null</td><td>null</td><td>2023-10-03 12:10:...</td></tr>\n",
       "<tr><td>e8b54bcfe7df4811e...</td><td>Sr. Customer Succ...</td><td>5</td><td>MORTGAGE</td><td>190000.0</td><td>NJ</td><td>080xx</td><td>USA</td><td>B</td><td>B2</td><td>Not Verified</td><td>106470.0</td><td>Individual</td><td>null</td><td>null</td><td>2023-10-03 12:10:...</td></tr>\n",
       "<tr><td>c83cdc1cfd813c33a...</td><td>electrician</td><td>10</td><td>MORTGAGE</td><td>80000.0</td><td>CA</td><td>949xx</td><td>USA</td><td>C</td><td>C3</td><td>Verified</td><td>36203.0</td><td>Individual</td><td>null</td><td>null</td><td>2023-10-03 12:10:...</td></tr>\n",
       "<tr><td>fa478524688ab0240...</td><td>Pressman</td><td>2</td><td>OWN</td><td>44000.0</td><td>PA</td><td>191xx</td><td>USA</td><td>A</td><td>A2</td><td>Not Verified</td><td>52500.0</td><td>Individual</td><td>null</td><td>null</td><td>2023-10-03 12:10:...</td></tr>\n",
       "<tr><td>9ba5d39b9db04ec11...</td><td>Dental Hygienist</td><td>1</td><td>MORTGAGE</td><td>24000.0</td><td>FL</td><td>329xx</td><td>USA</td><td>A</td><td>A1</td><td>Source Verified</td><td>69500.0</td><td>Individual</td><td>null</td><td>null</td><td>2023-10-03 12:10:...</td></tr>\n",
       "<tr><td>e50ab0f7923181b1e...</td><td>Supply Chain Manager</td><td>10</td><td>MORTGAGE</td><td>92000.0</td><td>IL</td><td>600xx</td><td>USA</td><td>A</td><td>A2</td><td>Source Verified</td><td>330391.0</td><td>Individual</td><td>null</td><td>null</td><td>2023-10-03 12:10:...</td></tr>\n",
       "<tr><td>6316c6b7e75486d23...</td><td>Director IT</td><td>1</td><td>RENT</td><td>41200.0</td><td>FL</td><td>329xx</td><td>USA</td><td>C</td><td>C5</td><td>Not Verified</td><td>75845.0</td><td>Individual</td><td>null</td><td>null</td><td>2023-10-03 12:10:...</td></tr>\n",
       "<tr><td>f2ef49c53dc59d6ad...</td><td>Chiropractic Assi...</td><td>1</td><td>RENT</td><td>25000.0</td><td>VA</td><td>231xx</td><td>USA</td><td>C</td><td>C3</td><td>Verified</td><td>18742.0</td><td>Individual</td><td>null</td><td>null</td><td>2023-10-03 12:10:...</td></tr>\n",
       "<tr><td>0d414e36041680416...</td><td>Software Engineer</td><td>10</td><td>MORTGAGE</td><td>120000.0</td><td>FL</td><td>329xx</td><td>USA</td><td>C</td><td>C4</td><td>Verified</td><td>672434.0</td><td>Individual</td><td>null</td><td>null</td><td>2023-10-03 12:10:...</td></tr>\n",
       "<tr><td>44967f29f7152ccf5...</td><td>Customer Service ...</td><td>10</td><td>MORTGAGE</td><td>54000.0</td><td>NC</td><td>282xx</td><td>USA</td><td>C</td><td>C3</td><td>Not Verified</td><td>202084.0</td><td>Individual</td><td>null</td><td>null</td><td>2023-10-03 12:10:...</td></tr>\n",
       "<tr><td>13c47a58641f4a82b...</td><td>am2</td><td>6</td><td>RENT</td><td>38610.0</td><td>NY</td><td>137xx</td><td>USA</td><td>D</td><td>D1</td><td>Not Verified</td><td>25124.0</td><td>Individual</td><td>null</td><td>null</td><td>2023-10-03 12:10:...</td></tr>\n",
       "<tr><td>65005db0d8e9a8fec...</td><td>Administrative As...</td><td>2</td><td>MORTGAGE</td><td>40000.0</td><td>IL</td><td>601xx</td><td>USA</td><td>C</td><td>C1</td><td>Verified</td><td>230540.0</td><td>Individual</td><td>null</td><td>null</td><td>2023-10-03 12:10:...</td></tr>\n",
       "<tr><td>aa60e8577b23ce0d0...</td><td>Manager/Producer</td><td>8</td><td>MORTGAGE</td><td>125000.0</td><td>WA</td><td>980xx</td><td>USA</td><td>C</td><td>C3</td><td>Not Verified</td><td>48670.0</td><td>Individual</td><td>null</td><td>null</td><td>2023-10-03 12:10:...</td></tr>\n",
       "</table>\n",
       "only showing top 20 rows\n"
      ],
      "text/plain": [
       "+--------------------+--------------------+----------+--------------+-------------+-------------+---------------+---------------+-----+---------+-------------------+-----------------------+----------------+------------------+-------------------------+--------------------+\n",
       "|           member_id|           emp_title|emp_length|home_ownership|annual_income|address_state|address_zipcode|address_country|grade|sub_grade|verification_status|total_high_credit_limit|application_type|join_annual_income|verification_status_joint|         ingest_date|\n",
       "+--------------------+--------------------+----------+--------------+-------------+-------------+---------------+---------------+-----+---------+-------------------+-----------------------+----------------+------------------+-------------------------+--------------------+\n",
       "|cf90e2432da0915e6...|          Technician|         7|           OWN|      55000.0|           IL|          622xx|            USA|    A|       A3|       Not Verified|                72971.0|      Individual|              null|                     null|2023-10-03 12:10:...|\n",
       "|9f533fa8aba52c2a8...|Instructional Ass...|        10|           OWN|      69178.0|           MT|          594xx|            USA|    D|       D3|    Source Verified|                84997.0|      Individual|              null|                     null|2023-10-03 12:10:...|\n",
       "|2b8a5c5bd71f89e06...|             teacher|        10|      MORTGAGE|      69600.0|           NM|          883xx|            USA|    A|       A4|       Not Verified|               190714.0|       Joint App|           88200.0|             Not Verified|2023-10-03 12:10:...|\n",
       "|227e2f309871bc6f4...|    Systems Engineer|        10|          RENT|      95070.0|           VA|          231xx|            USA|    C|       C5|       Not Verified|                77732.0|      Individual|              null|                     null|2023-10-03 12:10:...|\n",
       "|ff5a8c0ea0a2b7b7b...|               sales|         9|      MORTGAGE|     172000.0|           NY|          117xx|            USA|    B|       B1|    Source Verified|               794476.0|      Individual|              null|                     null|2023-10-03 12:10:...|\n",
       "|9f906a431f5e7343c...| program coordinator|        10|      MORTGAGE|      24000.0|           OK|          744xx|            USA|    C|       C2|           Verified|               155855.0|       Joint App|           59000.0|          Source Verified|2023-10-03 12:10:...|\n",
       "|8d94e46facf4afd75...|        Truck driver|        10|      MORTGAGE|      75000.0|           TX|          797xx|            USA|    B|       B2|    Source Verified|               126003.0|      Individual|              null|                     null|2023-10-03 12:10:...|\n",
       "|80c7b8bf709df2f36...|            Detailer|        10|          RENT|      30000.0|           NY|          119xx|            USA|    A|       A5|    Source Verified|                65939.0|      Individual|              null|                     null|2023-10-03 12:10:...|\n",
       "|6a1e590d8da9c3c95...|                null|         6|          RENT|      85000.0|           MA|          027xx|            USA|    C|       C4|    Source Verified|                 6500.0|      Individual|              null|                     null|2023-10-03 12:10:...|\n",
       "|06ae40fda3947dfc5...|     Sales Associate|        10|           OWN|      38000.0|           AL|          350xx|            USA|    B|       B5|       Not Verified|                53000.0|      Individual|              null|                     null|2023-10-03 12:10:...|\n",
       "|47bb5bb94564054de...|     Senior Director|        10|          RENT|     155924.0|           NY|          100xx|            USA|    B|       B4|    Source Verified|                81216.0|      Individual|              null|                     null|2023-10-03 12:10:...|\n",
       "|c8eb088be27667b42...|Director of Opera...|         3|          RENT|      77500.0|           OR|          970xx|            USA|    A|       A3|    Source Verified|               120507.0|      Individual|              null|                     null|2023-10-03 12:10:...|\n",
       "|59ed549e531b7db69...|   Medical Assistant|         9|          RENT|      47000.0|           AZ|          853xx|            USA|    A|       A2|       Not Verified|               225568.0|      Individual|              null|                     null|2023-10-03 12:10:...|\n",
       "|df526074b8f61e4ca...|    SR NETWORK ADMIN|         2|      MORTGAGE|      95200.0|           IL|          604xx|            USA|    B|       B4|    Source Verified|               335426.0|      Individual|              null|                     null|2023-10-03 12:10:...|\n",
       "|8950cae66d7d83426...|      Representative|         6|      MORTGAGE|      65000.0|           NC|          284xx|            USA|    B|       B2|           Verified|               247762.0|      Individual|              null|                     null|2023-10-03 12:10:...|\n",
       "|61575cea7bc66232a...|      Video Engineer|         9|      MORTGAGE|     132000.0|           CO|          801xx|            USA|    A|       A1|           Verified|               624888.0|      Individual|              null|                     null|2023-10-03 12:10:...|\n",
       "|5d168ea1ab4c1cbe2...|     Operations Tech|        10|          RENT|      90000.0|           IN|          463xx|            USA|    D|       D3|       Not Verified|               131566.0|      Individual|              null|                     null|2023-10-03 12:10:...|\n",
       "|5f94796c1acd31ce4...|Maintenance Engineer|        10|          RENT|     46616.86|           MD|          212xx|            USA|    C|       C3|    Source Verified|                 2300.0|      Individual|              null|                     null|2023-10-03 12:10:...|\n",
       "|d953ee65ae01158ce...|          Pro loader|         1|          RENT|      25917.0|           WA|          984xx|            USA|    D|       D2|    Source Verified|                 9888.0|      Individual|              null|                     null|2023-10-03 12:10:...|\n",
       "|c8f020e4d308ff5c3...|                  RN|        10|      MORTGAGE|     110000.0|           MN|          553xx|            USA|    B|       B1|    Source Verified|               441897.0|       Joint App|          215000.0|          Source Verified|2023-10-03 12:10:...|\n",
       "+--------------------+--------------------+----------+--------------+-------------+-------------+---------------+---------------+-----+---------+-------------------+-----------------------+----------------+------------------+-------------------------+--------------------+\n",
       "only showing top 20 rows"
      ]
     },
     "execution_count": 103,
     "metadata": {},
     "output_type": "execute_result"
    }
   ],
   "source": [
    "customers_state_cleaned"
   ]
  },
  {
   "cell_type": "code",
   "execution_count": 104,
   "id": "1d053054",
   "metadata": {},
   "outputs": [],
   "source": [
    "customers_state_cleaned.write \\\n",
    ".format(\"parquet\") \\\n",
    ".mode(\"overwrite\") \\\n",
    ".option(\"path\",\"/user/itv006222/myproject/cleaned/customers_parquet\") \\\n",
    ".save()"
   ]
  },
  {
   "cell_type": "code",
   "execution_count": 66,
   "id": "5b1e5938",
   "metadata": {},
   "outputs": [],
   "source": [
    "spark.stop()"
   ]
  },
  {
   "cell_type": "code",
   "execution_count": null,
   "id": "42c896b8",
   "metadata": {},
   "outputs": [],
   "source": []
  }
 ],
 "metadata": {
  "kernelspec": {
   "display_name": "Pyspark 3",
   "language": "python",
   "name": "pyspark3"
  },
  "language_info": {
   "codemirror_mode": {
    "name": "ipython",
    "version": 3
   },
   "file_extension": ".py",
   "mimetype": "text/x-python",
   "name": "python",
   "nbconvert_exporter": "python",
   "pygments_lexer": "ipython3",
   "version": "3.6.12"
  }
 },
 "nbformat": 4,
 "nbformat_minor": 5
}
