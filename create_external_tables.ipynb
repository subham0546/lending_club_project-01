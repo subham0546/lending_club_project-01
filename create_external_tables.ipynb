{
 "cells": [
  {
   "cell_type": "code",
   "execution_count": 24,
   "id": "a193ff6c",
   "metadata": {},
   "outputs": [],
   "source": [
    "from pyspark.sql import SparkSession\n",
    "import getpass\n",
    "username = getpass.getuser()\n",
    "spark = SparkSession. \\\n",
    "        builder. \\\n",
    "        config('spark.ui.port','0'). \\\n",
    "        config('spark.shuffle.useOldFetchProtocol','true'). \\\n",
    "        config(\"spark.sql.warehouse.dir\", f\"/user/{username}/warehouse\"). \\\n",
    "        enableHiveSupport(). \\\n",
    "        master('yarn'). \\\n",
    "        getOrCreate()"
   ]
  },
  {
   "cell_type": "code",
   "execution_count": 2,
   "id": "a22fad4a",
   "metadata": {},
   "outputs": [],
   "source": [
    "customers_df=spark.read\\\n",
    ".format(\"parquet\")\\\n",
    ".load(\"/public/trendytech/lendingclubproject/cleaned/customers_parquet\")"
   ]
  },
  {
   "cell_type": "code",
   "execution_count": 3,
   "id": "8c6f987f",
   "metadata": {},
   "outputs": [
    {
     "data": {
      "text/html": [
       "<table border='1'>\n",
       "<tr><th>member_id</th><th>emp_title</th><th>emp_length</th><th>home_ownership</th><th>annual_income</th><th>address_state</th><th>address_zipcode</th><th>address_country</th><th>grade</th><th>sub_grade</th><th>verification_status</th><th>total_high_credit_limit</th><th>application_type</th><th>join_annual_income</th><th>verification_status_joint</th><th>ingest_date</th></tr>\n",
       "<tr><td>de8d40bb549f3e676...</td><td>Slot Club Lead</td><td>10</td><td>RENT</td><td>42000.0</td><td>CO</td><td>800xx</td><td>USA</td><td>A</td><td>A5</td><td>Source Verified</td><td>19200.0</td><td>Individual</td><td>null</td><td>null</td><td>2023-09-15 17:18:...</td></tr>\n",
       "<tr><td>cb2bfe6ba8d8040ea...</td><td>Development Manager</td><td>1</td><td>MORTGAGE</td><td>120000.0</td><td>NJ</td><td>080xx</td><td>USA</td><td>B</td><td>B2</td><td>Verified</td><td>521247.0</td><td>Individual</td><td>null</td><td>null</td><td>2023-09-15 17:18:...</td></tr>\n",
       "<tr><td>fd6cd0f257e376951...</td><td>Chef/Baker</td><td>5</td><td>RENT</td><td>25000.0</td><td>GA</td><td>310xx</td><td>USA</td><td>E</td><td>E2</td><td>Source Verified</td><td>18200.0</td><td>Individual</td><td>null</td><td>null</td><td>2023-09-15 17:18:...</td></tr>\n",
       "<tr><td>46a7d1486ffcd4024...</td><td>Service Manager</td><td>3</td><td>MORTGAGE</td><td>122000.0</td><td>NY</td><td>113xx</td><td>USA</td><td>C</td><td>C3</td><td>Verified</td><td>232468.0</td><td>Individual</td><td>null</td><td>null</td><td>2023-09-15 17:18:...</td></tr>\n",
       "<tr><td>ec70891c26a58aad8...</td><td>Maintenance Manager</td><td>1</td><td>RENT</td><td>35000.0</td><td>CO</td><td>804xx</td><td>USA</td><td>C</td><td>C1</td><td>Verified</td><td>16200.0</td><td>Individual</td><td>null</td><td>null</td><td>2023-09-15 17:18:...</td></tr>\n",
       "<tr><td>8b5e4553da13c2336...</td><td>Driver</td><td>10</td><td>RENT</td><td>65000.0</td><td>NY</td><td>112xx</td><td>USA</td><td>C</td><td>C2</td><td>Verified</td><td>15200.0</td><td>Individual</td><td>null</td><td>null</td><td>2023-09-15 17:18:...</td></tr>\n",
       "<tr><td>ea940e76460ba9551...</td><td>Carpenter</td><td>2</td><td>MORTGAGE</td><td>72000.0</td><td>IL</td><td>622xx</td><td>USA</td><td>B</td><td>B3</td><td>Source Verified</td><td>75875.0</td><td>Individual</td><td>null</td><td>null</td><td>2023-09-15 17:18:...</td></tr>\n",
       "<tr><td>1bff1ca3a1f99b4d7...</td><td>Owner</td><td>3</td><td>RENT</td><td>103000.0</td><td>NC</td><td>282xx</td><td>USA</td><td>D</td><td>D2</td><td>Source Verified</td><td>18700.0</td><td>Individual</td><td>null</td><td>null</td><td>2023-09-15 17:18:...</td></tr>\n",
       "<tr><td>78caf872bd06843ef...</td><td>Rural Carrier</td><td>10</td><td>OWN</td><td>70000.0</td><td>CA</td><td>932xx</td><td>USA</td><td>B</td><td>B4</td><td>Source Verified</td><td>71235.0</td><td>Individual</td><td>null</td><td>null</td><td>2023-09-15 17:18:...</td></tr>\n",
       "<tr><td>8c0e5cf855a938944...</td><td>NotAsked</td><td>10</td><td>RENT</td><td>87600.0</td><td>CO</td><td>802xx</td><td>USA</td><td>B</td><td>B2</td><td>Source Verified</td><td>84826.0</td><td>Individual</td><td>null</td><td>null</td><td>2023-09-15 17:18:...</td></tr>\n",
       "<tr><td>95e255082fddc76b1...</td><td>null</td><td>6</td><td>RENT</td><td>43500.0</td><td>NC</td><td>277xx</td><td>USA</td><td>C</td><td>C5</td><td>Source Verified</td><td>11500.0</td><td>Individual</td><td>null</td><td>null</td><td>2023-09-15 17:18:...</td></tr>\n",
       "<tr><td>d810bbf2aa830e901...</td><td>Manager</td><td>5</td><td>MORTGAGE</td><td>52000.0</td><td>NJ</td><td>080xx</td><td>USA</td><td>F</td><td>F4</td><td>Source Verified</td><td>208107.0</td><td>Joint App</td><td>84000.0</td><td>Source Verified</td><td>2023-09-15 17:18:...</td></tr>\n",
       "<tr><td>3e6ea68758d5452b0...</td><td>Operations</td><td>3</td><td>RENT</td><td>52000.0</td><td>CA</td><td>900xx</td><td>USA</td><td>B</td><td>B5</td><td>Not Verified</td><td>52930.0</td><td>Individual</td><td>null</td><td>null</td><td>2023-09-15 17:18:...</td></tr>\n",
       "<tr><td>420c2ef97194d5a3e...</td><td>Tax Supervisor</td><td>2</td><td>OWN</td><td>140000.0</td><td>NJ</td><td>076xx</td><td>USA</td><td>B</td><td>B2</td><td>Source Verified</td><td>519721.0</td><td>Individual</td><td>null</td><td>null</td><td>2023-09-15 17:18:...</td></tr>\n",
       "<tr><td>0705e81348a43ee77...</td><td>Commercial Lender</td><td>1</td><td>MORTGAGE</td><td>100000.0</td><td>NC</td><td>278xx</td><td>USA</td><td>A</td><td>A4</td><td>Not Verified</td><td>286058.0</td><td>Individual</td><td>null</td><td>null</td><td>2023-09-15 17:18:...</td></tr>\n",
       "<tr><td>2cfd201844e15facc...</td><td>Material Specialist</td><td>10</td><td>RENT</td><td>42016.0</td><td>OR</td><td>970xx</td><td>USA</td><td>C</td><td>C2</td><td>Source Verified</td><td>37362.0</td><td>Individual</td><td>null</td><td>null</td><td>2023-09-15 17:18:...</td></tr>\n",
       "<tr><td>b655449b933ef76bd...</td><td>Owner</td><td>5</td><td>MORTGAGE</td><td>91000.0</td><td>FL</td><td>322xx</td><td>USA</td><td>B</td><td>B1</td><td>Source Verified</td><td>300896.0</td><td>Individual</td><td>null</td><td>null</td><td>2023-09-15 17:18:...</td></tr>\n",
       "<tr><td>e6a45ffa9540f58f9...</td><td>Marketing &amp; Event...</td><td>5</td><td>MORTGAGE</td><td>52000.0</td><td>CA</td><td>923xx</td><td>USA</td><td>B</td><td>B1</td><td>Not Verified</td><td>6700.0</td><td>Individual</td><td>null</td><td>null</td><td>2023-09-15 17:18:...</td></tr>\n",
       "<tr><td>c3d1d95882cad2753...</td><td>Chief of Staff</td><td>10</td><td>MORTGAGE</td><td>131000.0</td><td>TX</td><td>782xx</td><td>USA</td><td>B</td><td>B5</td><td>Verified</td><td>380611.0</td><td>Individual</td><td>null</td><td>null</td><td>2023-09-15 17:18:...</td></tr>\n",
       "<tr><td>163baad89b63af52b...</td><td>Gel coat team lead</td><td>7</td><td>MORTGAGE</td><td>60000.0</td><td>TN</td><td>377xx</td><td>USA</td><td>E</td><td>E3</td><td>Verified</td><td>163484.0</td><td>Individual</td><td>null</td><td>null</td><td>2023-09-15 17:18:...</td></tr>\n",
       "</table>\n",
       "only showing top 20 rows\n"
      ],
      "text/plain": [
       "+--------------------+--------------------+----------+--------------+-------------+-------------+---------------+---------------+-----+---------+-------------------+-----------------------+----------------+------------------+-------------------------+--------------------+\n",
       "|           member_id|           emp_title|emp_length|home_ownership|annual_income|address_state|address_zipcode|address_country|grade|sub_grade|verification_status|total_high_credit_limit|application_type|join_annual_income|verification_status_joint|         ingest_date|\n",
       "+--------------------+--------------------+----------+--------------+-------------+-------------+---------------+---------------+-----+---------+-------------------+-----------------------+----------------+------------------+-------------------------+--------------------+\n",
       "|de8d40bb549f3e676...|      Slot Club Lead|        10|          RENT|      42000.0|           CO|          800xx|            USA|    A|       A5|    Source Verified|                19200.0|      Individual|              null|                     null|2023-09-15 17:18:...|\n",
       "|cb2bfe6ba8d8040ea...| Development Manager|         1|      MORTGAGE|     120000.0|           NJ|          080xx|            USA|    B|       B2|           Verified|               521247.0|      Individual|              null|                     null|2023-09-15 17:18:...|\n",
       "|fd6cd0f257e376951...|          Chef/Baker|         5|          RENT|      25000.0|           GA|          310xx|            USA|    E|       E2|    Source Verified|                18200.0|      Individual|              null|                     null|2023-09-15 17:18:...|\n",
       "|46a7d1486ffcd4024...|     Service Manager|         3|      MORTGAGE|     122000.0|           NY|          113xx|            USA|    C|       C3|           Verified|               232468.0|      Individual|              null|                     null|2023-09-15 17:18:...|\n",
       "|ec70891c26a58aad8...| Maintenance Manager|         1|          RENT|      35000.0|           CO|          804xx|            USA|    C|       C1|           Verified|                16200.0|      Individual|              null|                     null|2023-09-15 17:18:...|\n",
       "|8b5e4553da13c2336...|              Driver|        10|          RENT|      65000.0|           NY|          112xx|            USA|    C|       C2|           Verified|                15200.0|      Individual|              null|                     null|2023-09-15 17:18:...|\n",
       "|ea940e76460ba9551...|           Carpenter|         2|      MORTGAGE|      72000.0|           IL|          622xx|            USA|    B|       B3|    Source Verified|                75875.0|      Individual|              null|                     null|2023-09-15 17:18:...|\n",
       "|1bff1ca3a1f99b4d7...|               Owner|         3|          RENT|     103000.0|           NC|          282xx|            USA|    D|       D2|    Source Verified|                18700.0|      Individual|              null|                     null|2023-09-15 17:18:...|\n",
       "|78caf872bd06843ef...|       Rural Carrier|        10|           OWN|      70000.0|           CA|          932xx|            USA|    B|       B4|    Source Verified|                71235.0|      Individual|              null|                     null|2023-09-15 17:18:...|\n",
       "|8c0e5cf855a938944...|            NotAsked|        10|          RENT|      87600.0|           CO|          802xx|            USA|    B|       B2|    Source Verified|                84826.0|      Individual|              null|                     null|2023-09-15 17:18:...|\n",
       "|95e255082fddc76b1...|                null|         6|          RENT|      43500.0|           NC|          277xx|            USA|    C|       C5|    Source Verified|                11500.0|      Individual|              null|                     null|2023-09-15 17:18:...|\n",
       "|d810bbf2aa830e901...|             Manager|         5|      MORTGAGE|      52000.0|           NJ|          080xx|            USA|    F|       F4|    Source Verified|               208107.0|       Joint App|           84000.0|          Source Verified|2023-09-15 17:18:...|\n",
       "|3e6ea68758d5452b0...|          Operations|         3|          RENT|      52000.0|           CA|          900xx|            USA|    B|       B5|       Not Verified|                52930.0|      Individual|              null|                     null|2023-09-15 17:18:...|\n",
       "|420c2ef97194d5a3e...|      Tax Supervisor|         2|           OWN|     140000.0|           NJ|          076xx|            USA|    B|       B2|    Source Verified|               519721.0|      Individual|              null|                     null|2023-09-15 17:18:...|\n",
       "|0705e81348a43ee77...|   Commercial Lender|         1|      MORTGAGE|     100000.0|           NC|          278xx|            USA|    A|       A4|       Not Verified|               286058.0|      Individual|              null|                     null|2023-09-15 17:18:...|\n",
       "|2cfd201844e15facc...| Material Specialist|        10|          RENT|      42016.0|           OR|          970xx|            USA|    C|       C2|    Source Verified|                37362.0|      Individual|              null|                     null|2023-09-15 17:18:...|\n",
       "|b655449b933ef76bd...|               Owner|         5|      MORTGAGE|      91000.0|           FL|          322xx|            USA|    B|       B1|    Source Verified|               300896.0|      Individual|              null|                     null|2023-09-15 17:18:...|\n",
       "|e6a45ffa9540f58f9...|Marketing & Event...|         5|      MORTGAGE|      52000.0|           CA|          923xx|            USA|    B|       B1|       Not Verified|                 6700.0|      Individual|              null|                     null|2023-09-15 17:18:...|\n",
       "|c3d1d95882cad2753...|      Chief of Staff|        10|      MORTGAGE|     131000.0|           TX|          782xx|            USA|    B|       B5|           Verified|               380611.0|      Individual|              null|                     null|2023-09-15 17:18:...|\n",
       "|163baad89b63af52b...|  Gel coat team lead|         7|      MORTGAGE|      60000.0|           TN|          377xx|            USA|    E|       E3|           Verified|               163484.0|      Individual|              null|                     null|2023-09-15 17:18:...|\n",
       "+--------------------+--------------------+----------+--------------+-------------+-------------+---------------+---------------+-----+---------+-------------------+-----------------------+----------------+------------------+-------------------------+--------------------+\n",
       "only showing top 20 rows"
      ]
     },
     "execution_count": 3,
     "metadata": {},
     "output_type": "execute_result"
    }
   ],
   "source": [
    "customers_df"
   ]
  },
  {
   "cell_type": "code",
   "execution_count": 5,
   "id": "c4f4df90",
   "metadata": {},
   "outputs": [
    {
     "data": {
      "text/html": [
       "<table border='1'>\n",
       "<tr><th></th></tr>\n",
       "</table>\n"
      ],
      "text/plain": [
       "++\n",
       "||\n",
       "++\n",
       "++"
      ]
     },
     "execution_count": 5,
     "metadata": {},
     "output_type": "execute_result"
    }
   ],
   "source": [
    "spark.sql(\"create database itv006222_lending_club\")"
   ]
  },
  {
   "cell_type": "code",
   "execution_count": 8,
   "id": "deecd1b8",
   "metadata": {},
   "outputs": [
    {
     "data": {
      "text/html": [
       "<table border='1'>\n",
       "<tr><th></th></tr>\n",
       "</table>\n"
      ],
      "text/plain": [
       "++\n",
       "||\n",
       "++\n",
       "++"
      ]
     },
     "execution_count": 8,
     "metadata": {},
     "output_type": "execute_result"
    }
   ],
   "source": [
    "spark.sql(\"\"\"CREATE EXTERNAL TABLE itv006222_lending_club.customers(member_id string,emp_title string,emp_length int,home_ownership string,annual_income float,address_state string,address_zipcode string,address_country string,grade string,sub_grade string,verification_status string,total_high_credit_limit float,application_type string,join_annual_income float,verification_status_joint string,ingest_date timestamp)stored as parquet LOCATION'/public/trendytech/lendingclubproject/cleaned/customers_parquet'\"\"\")"
   ]
  },
  {
   "cell_type": "code",
   "execution_count": 9,
   "id": "a08ac968",
   "metadata": {},
   "outputs": [
    {
     "data": {
      "text/html": [
       "<table border='1'>\n",
       "<tr><th>member_id</th><th>emp_title</th><th>emp_length</th><th>home_ownership</th><th>annual_income</th><th>address_state</th><th>address_zipcode</th><th>address_country</th><th>grade</th><th>sub_grade</th><th>verification_status</th><th>total_high_credit_limit</th><th>application_type</th><th>join_annual_income</th><th>verification_status_joint</th><th>ingest_date</th></tr>\n",
       "<tr><td>de8d40bb549f3e676...</td><td>Slot Club Lead</td><td>10</td><td>RENT</td><td>42000.0</td><td>CO</td><td>800xx</td><td>USA</td><td>A</td><td>A5</td><td>Source Verified</td><td>19200.0</td><td>Individual</td><td>null</td><td>null</td><td>2023-09-15 17:18:...</td></tr>\n",
       "<tr><td>cb2bfe6ba8d8040ea...</td><td>Development Manager</td><td>1</td><td>MORTGAGE</td><td>120000.0</td><td>NJ</td><td>080xx</td><td>USA</td><td>B</td><td>B2</td><td>Verified</td><td>521247.0</td><td>Individual</td><td>null</td><td>null</td><td>2023-09-15 17:18:...</td></tr>\n",
       "<tr><td>fd6cd0f257e376951...</td><td>Chef/Baker</td><td>5</td><td>RENT</td><td>25000.0</td><td>GA</td><td>310xx</td><td>USA</td><td>E</td><td>E2</td><td>Source Verified</td><td>18200.0</td><td>Individual</td><td>null</td><td>null</td><td>2023-09-15 17:18:...</td></tr>\n",
       "<tr><td>46a7d1486ffcd4024...</td><td>Service Manager</td><td>3</td><td>MORTGAGE</td><td>122000.0</td><td>NY</td><td>113xx</td><td>USA</td><td>C</td><td>C3</td><td>Verified</td><td>232468.0</td><td>Individual</td><td>null</td><td>null</td><td>2023-09-15 17:18:...</td></tr>\n",
       "<tr><td>ec70891c26a58aad8...</td><td>Maintenance Manager</td><td>1</td><td>RENT</td><td>35000.0</td><td>CO</td><td>804xx</td><td>USA</td><td>C</td><td>C1</td><td>Verified</td><td>16200.0</td><td>Individual</td><td>null</td><td>null</td><td>2023-09-15 17:18:...</td></tr>\n",
       "<tr><td>8b5e4553da13c2336...</td><td>Driver</td><td>10</td><td>RENT</td><td>65000.0</td><td>NY</td><td>112xx</td><td>USA</td><td>C</td><td>C2</td><td>Verified</td><td>15200.0</td><td>Individual</td><td>null</td><td>null</td><td>2023-09-15 17:18:...</td></tr>\n",
       "<tr><td>ea940e76460ba9551...</td><td>Carpenter</td><td>2</td><td>MORTGAGE</td><td>72000.0</td><td>IL</td><td>622xx</td><td>USA</td><td>B</td><td>B3</td><td>Source Verified</td><td>75875.0</td><td>Individual</td><td>null</td><td>null</td><td>2023-09-15 17:18:...</td></tr>\n",
       "<tr><td>1bff1ca3a1f99b4d7...</td><td>Owner</td><td>3</td><td>RENT</td><td>103000.0</td><td>NC</td><td>282xx</td><td>USA</td><td>D</td><td>D2</td><td>Source Verified</td><td>18700.0</td><td>Individual</td><td>null</td><td>null</td><td>2023-09-15 17:18:...</td></tr>\n",
       "<tr><td>78caf872bd06843ef...</td><td>Rural Carrier</td><td>10</td><td>OWN</td><td>70000.0</td><td>CA</td><td>932xx</td><td>USA</td><td>B</td><td>B4</td><td>Source Verified</td><td>71235.0</td><td>Individual</td><td>null</td><td>null</td><td>2023-09-15 17:18:...</td></tr>\n",
       "<tr><td>8c0e5cf855a938944...</td><td>NotAsked</td><td>10</td><td>RENT</td><td>87600.0</td><td>CO</td><td>802xx</td><td>USA</td><td>B</td><td>B2</td><td>Source Verified</td><td>84826.0</td><td>Individual</td><td>null</td><td>null</td><td>2023-09-15 17:18:...</td></tr>\n",
       "<tr><td>95e255082fddc76b1...</td><td>null</td><td>6</td><td>RENT</td><td>43500.0</td><td>NC</td><td>277xx</td><td>USA</td><td>C</td><td>C5</td><td>Source Verified</td><td>11500.0</td><td>Individual</td><td>null</td><td>null</td><td>2023-09-15 17:18:...</td></tr>\n",
       "<tr><td>d810bbf2aa830e901...</td><td>Manager</td><td>5</td><td>MORTGAGE</td><td>52000.0</td><td>NJ</td><td>080xx</td><td>USA</td><td>F</td><td>F4</td><td>Source Verified</td><td>208107.0</td><td>Joint App</td><td>84000.0</td><td>Source Verified</td><td>2023-09-15 17:18:...</td></tr>\n",
       "<tr><td>3e6ea68758d5452b0...</td><td>Operations</td><td>3</td><td>RENT</td><td>52000.0</td><td>CA</td><td>900xx</td><td>USA</td><td>B</td><td>B5</td><td>Not Verified</td><td>52930.0</td><td>Individual</td><td>null</td><td>null</td><td>2023-09-15 17:18:...</td></tr>\n",
       "<tr><td>420c2ef97194d5a3e...</td><td>Tax Supervisor</td><td>2</td><td>OWN</td><td>140000.0</td><td>NJ</td><td>076xx</td><td>USA</td><td>B</td><td>B2</td><td>Source Verified</td><td>519721.0</td><td>Individual</td><td>null</td><td>null</td><td>2023-09-15 17:18:...</td></tr>\n",
       "<tr><td>0705e81348a43ee77...</td><td>Commercial Lender</td><td>1</td><td>MORTGAGE</td><td>100000.0</td><td>NC</td><td>278xx</td><td>USA</td><td>A</td><td>A4</td><td>Not Verified</td><td>286058.0</td><td>Individual</td><td>null</td><td>null</td><td>2023-09-15 17:18:...</td></tr>\n",
       "<tr><td>2cfd201844e15facc...</td><td>Material Specialist</td><td>10</td><td>RENT</td><td>42016.0</td><td>OR</td><td>970xx</td><td>USA</td><td>C</td><td>C2</td><td>Source Verified</td><td>37362.0</td><td>Individual</td><td>null</td><td>null</td><td>2023-09-15 17:18:...</td></tr>\n",
       "<tr><td>b655449b933ef76bd...</td><td>Owner</td><td>5</td><td>MORTGAGE</td><td>91000.0</td><td>FL</td><td>322xx</td><td>USA</td><td>B</td><td>B1</td><td>Source Verified</td><td>300896.0</td><td>Individual</td><td>null</td><td>null</td><td>2023-09-15 17:18:...</td></tr>\n",
       "<tr><td>e6a45ffa9540f58f9...</td><td>Marketing &amp; Event...</td><td>5</td><td>MORTGAGE</td><td>52000.0</td><td>CA</td><td>923xx</td><td>USA</td><td>B</td><td>B1</td><td>Not Verified</td><td>6700.0</td><td>Individual</td><td>null</td><td>null</td><td>2023-09-15 17:18:...</td></tr>\n",
       "<tr><td>c3d1d95882cad2753...</td><td>Chief of Staff</td><td>10</td><td>MORTGAGE</td><td>131000.0</td><td>TX</td><td>782xx</td><td>USA</td><td>B</td><td>B5</td><td>Verified</td><td>380611.0</td><td>Individual</td><td>null</td><td>null</td><td>2023-09-15 17:18:...</td></tr>\n",
       "<tr><td>163baad89b63af52b...</td><td>Gel coat team lead</td><td>7</td><td>MORTGAGE</td><td>60000.0</td><td>TN</td><td>377xx</td><td>USA</td><td>E</td><td>E3</td><td>Verified</td><td>163484.0</td><td>Individual</td><td>null</td><td>null</td><td>2023-09-15 17:18:...</td></tr>\n",
       "</table>\n",
       "only showing top 20 rows\n"
      ],
      "text/plain": [
       "+--------------------+--------------------+----------+--------------+-------------+-------------+---------------+---------------+-----+---------+-------------------+-----------------------+----------------+------------------+-------------------------+--------------------+\n",
       "|           member_id|           emp_title|emp_length|home_ownership|annual_income|address_state|address_zipcode|address_country|grade|sub_grade|verification_status|total_high_credit_limit|application_type|join_annual_income|verification_status_joint|         ingest_date|\n",
       "+--------------------+--------------------+----------+--------------+-------------+-------------+---------------+---------------+-----+---------+-------------------+-----------------------+----------------+------------------+-------------------------+--------------------+\n",
       "|de8d40bb549f3e676...|      Slot Club Lead|        10|          RENT|      42000.0|           CO|          800xx|            USA|    A|       A5|    Source Verified|                19200.0|      Individual|              null|                     null|2023-09-15 17:18:...|\n",
       "|cb2bfe6ba8d8040ea...| Development Manager|         1|      MORTGAGE|     120000.0|           NJ|          080xx|            USA|    B|       B2|           Verified|               521247.0|      Individual|              null|                     null|2023-09-15 17:18:...|\n",
       "|fd6cd0f257e376951...|          Chef/Baker|         5|          RENT|      25000.0|           GA|          310xx|            USA|    E|       E2|    Source Verified|                18200.0|      Individual|              null|                     null|2023-09-15 17:18:...|\n",
       "|46a7d1486ffcd4024...|     Service Manager|         3|      MORTGAGE|     122000.0|           NY|          113xx|            USA|    C|       C3|           Verified|               232468.0|      Individual|              null|                     null|2023-09-15 17:18:...|\n",
       "|ec70891c26a58aad8...| Maintenance Manager|         1|          RENT|      35000.0|           CO|          804xx|            USA|    C|       C1|           Verified|                16200.0|      Individual|              null|                     null|2023-09-15 17:18:...|\n",
       "|8b5e4553da13c2336...|              Driver|        10|          RENT|      65000.0|           NY|          112xx|            USA|    C|       C2|           Verified|                15200.0|      Individual|              null|                     null|2023-09-15 17:18:...|\n",
       "|ea940e76460ba9551...|           Carpenter|         2|      MORTGAGE|      72000.0|           IL|          622xx|            USA|    B|       B3|    Source Verified|                75875.0|      Individual|              null|                     null|2023-09-15 17:18:...|\n",
       "|1bff1ca3a1f99b4d7...|               Owner|         3|          RENT|     103000.0|           NC|          282xx|            USA|    D|       D2|    Source Verified|                18700.0|      Individual|              null|                     null|2023-09-15 17:18:...|\n",
       "|78caf872bd06843ef...|       Rural Carrier|        10|           OWN|      70000.0|           CA|          932xx|            USA|    B|       B4|    Source Verified|                71235.0|      Individual|              null|                     null|2023-09-15 17:18:...|\n",
       "|8c0e5cf855a938944...|            NotAsked|        10|          RENT|      87600.0|           CO|          802xx|            USA|    B|       B2|    Source Verified|                84826.0|      Individual|              null|                     null|2023-09-15 17:18:...|\n",
       "|95e255082fddc76b1...|                null|         6|          RENT|      43500.0|           NC|          277xx|            USA|    C|       C5|    Source Verified|                11500.0|      Individual|              null|                     null|2023-09-15 17:18:...|\n",
       "|d810bbf2aa830e901...|             Manager|         5|      MORTGAGE|      52000.0|           NJ|          080xx|            USA|    F|       F4|    Source Verified|               208107.0|       Joint App|           84000.0|          Source Verified|2023-09-15 17:18:...|\n",
       "|3e6ea68758d5452b0...|          Operations|         3|          RENT|      52000.0|           CA|          900xx|            USA|    B|       B5|       Not Verified|                52930.0|      Individual|              null|                     null|2023-09-15 17:18:...|\n",
       "|420c2ef97194d5a3e...|      Tax Supervisor|         2|           OWN|     140000.0|           NJ|          076xx|            USA|    B|       B2|    Source Verified|               519721.0|      Individual|              null|                     null|2023-09-15 17:18:...|\n",
       "|0705e81348a43ee77...|   Commercial Lender|         1|      MORTGAGE|     100000.0|           NC|          278xx|            USA|    A|       A4|       Not Verified|               286058.0|      Individual|              null|                     null|2023-09-15 17:18:...|\n",
       "|2cfd201844e15facc...| Material Specialist|        10|          RENT|      42016.0|           OR|          970xx|            USA|    C|       C2|    Source Verified|                37362.0|      Individual|              null|                     null|2023-09-15 17:18:...|\n",
       "|b655449b933ef76bd...|               Owner|         5|      MORTGAGE|      91000.0|           FL|          322xx|            USA|    B|       B1|    Source Verified|               300896.0|      Individual|              null|                     null|2023-09-15 17:18:...|\n",
       "|e6a45ffa9540f58f9...|Marketing & Event...|         5|      MORTGAGE|      52000.0|           CA|          923xx|            USA|    B|       B1|       Not Verified|                 6700.0|      Individual|              null|                     null|2023-09-15 17:18:...|\n",
       "|c3d1d95882cad2753...|      Chief of Staff|        10|      MORTGAGE|     131000.0|           TX|          782xx|            USA|    B|       B5|           Verified|               380611.0|      Individual|              null|                     null|2023-09-15 17:18:...|\n",
       "|163baad89b63af52b...|  Gel coat team lead|         7|      MORTGAGE|      60000.0|           TN|          377xx|            USA|    E|       E3|           Verified|               163484.0|      Individual|              null|                     null|2023-09-15 17:18:...|\n",
       "+--------------------+--------------------+----------+--------------+-------------+-------------+---------------+---------------+-----+---------+-------------------+-----------------------+----------------+------------------+-------------------------+--------------------+\n",
       "only showing top 20 rows"
      ]
     },
     "execution_count": 9,
     "metadata": {},
     "output_type": "execute_result"
    }
   ],
   "source": [
    "spark.sql(\"select * from itv006222_lending_club.customers\")"
   ]
  },
  {
   "cell_type": "code",
   "execution_count": null,
   "id": "c1a5732c",
   "metadata": {},
   "outputs": [],
   "source": [
    "spark.sql(\"\"\"CREATE EXTERNAL TABLE itv006222_lending_club.loans(loan_id string,member_id string,loan_amount float,funded_amount float,loan_term_years integer,interest_rate float,monthly_installment\n",
    " float,issue_date string,loan_status string,loan_purpose string,loan_title string,ingest_date timestamp)stored as parquet LOCATION'/public/trendytech/lendingclubproject/cleaned/loans_parquet'\"\"\")"
   ]
  },
  {
   "cell_type": "code",
   "execution_count": 12,
   "id": "def23e0a",
   "metadata": {},
   "outputs": [
    {
     "data": {
      "text/html": [
       "<table border='1'>\n",
       "<tr><th>loan_id</th><th>member_id</th><th>loan_amount</th><th>funded_amount</th><th>loan_term_years</th><th>interest_rate</th><th>monthly_installment</th><th>issue_date</th><th>loan_status</th><th>loan_purpose</th><th>loan_title</th><th>ingest_date</th></tr>\n",
       "<tr><td>13048578</td><td>ae2a45f96691a33e2...</td><td>30000.0</td><td>30000.0</td><td>5</td><td>22.45</td><td>836.27</td><td>Mar-2014</td><td>Fully Paid</td><td>debt_consolidation</td><td>Debt consolidation</td><td>2023-09-18 18:39:...</td></tr>\n",
       "<tr><td>13028587</td><td>bc56a941d1b4a0ded...</td><td>3500.0</td><td>3500.0</td><td>3</td><td>13.65</td><td>119.03</td><td>Mar-2014</td><td>Fully Paid</td><td>debt_consolidation</td><td>Debt consolidation</td><td>2023-09-18 18:39:...</td></tr>\n",
       "<tr><td>13048646</td><td>ec235820c5f579fe6...</td><td>20000.0</td><td>20000.0</td><td>5</td><td>18.92</td><td>517.94</td><td>Apr-2014</td><td>Charged Off</td><td>medical</td><td>Medical expenses</td><td>2023-09-18 18:39:...</td></tr>\n",
       "<tr><td>13045633</td><td>87c71f39b975e9b1c...</td><td>10000.0</td><td>10000.0</td><td>5</td><td>15.61</td><td>241.12</td><td>Mar-2014</td><td>Fully Paid</td><td>credit_card</td><td>Credit card refin...</td><td>2023-09-18 18:39:...</td></tr>\n",
       "<tr><td>13018547</td><td>8ce13bae24094c318...</td><td>30000.0</td><td>30000.0</td><td>5</td><td>19.99</td><td>794.65</td><td>Mar-2014</td><td>Fully Paid</td><td>debt_consolidation</td><td>Debt consolidation</td><td>2023-09-18 18:39:...</td></tr>\n",
       "<tr><td>13048625</td><td>ebdbcd8c70b4335e9...</td><td>12000.0</td><td>12000.0</td><td>5</td><td>15.31</td><td>287.44</td><td>Apr-2014</td><td>Fully Paid</td><td>debt_consolidation</td><td>Debt consolidation</td><td>2023-09-18 18:39:...</td></tr>\n",
       "<tr><td>13027831</td><td>e6fba3fb656b87598...</td><td>9000.0</td><td>9000.0</td><td>3</td><td>16.59</td><td>319.05</td><td>Mar-2014</td><td>Fully Paid</td><td>major_purchase</td><td>Major purchase</td><td>2023-09-18 18:39:...</td></tr>\n",
       "<tr><td>13028614</td><td>634c0ca8f1d700224...</td><td>5000.0</td><td>5000.0</td><td>3</td><td>14.16</td><td>171.28</td><td>Mar-2014</td><td>Fully Paid</td><td>debt_consolidation</td><td>Debt consolidation</td><td>2023-09-18 18:39:...</td></tr>\n",
       "<tr><td>13018608</td><td>83a2999b5344f3b3c...</td><td>15600.0</td><td>15600.0</td><td>5</td><td>12.99</td><td>354.87</td><td>Mar-2014</td><td>Fully Paid</td><td>credit_card</td><td>Credit card refin...</td><td>2023-09-18 18:39:...</td></tr>\n",
       "<tr><td>13038676</td><td>d988117fe0ac6c851...</td><td>11075.0</td><td>11075.0</td><td>3</td><td>12.99</td><td>373.11</td><td>Mar-2014</td><td>Fully Paid</td><td>debt_consolidation</td><td>Debt consolidation</td><td>2023-09-18 18:39:...</td></tr>\n",
       "<tr><td>13027705</td><td>f8841cf2dfaa37fff...</td><td>8000.0</td><td>8000.0</td><td>3</td><td>14.64</td><td>275.92</td><td>Mar-2014</td><td>Fully Paid</td><td>debt_consolidation</td><td>Debt consolidation</td><td>2023-09-18 18:39:...</td></tr>\n",
       "<tr><td>13028593</td><td>b4137bb428d944e0b...</td><td>15500.0</td><td>15500.0</td><td>3</td><td>18.25</td><td>562.31</td><td>Mar-2014</td><td>Fully Paid</td><td>debt_consolidation</td><td>Debt consolidation</td><td>2023-09-18 18:39:...</td></tr>\n",
       "<tr><td>13028592</td><td>73c7e7b989de02797...</td><td>8000.0</td><td>8000.0</td><td>3</td><td>11.99</td><td>265.68</td><td>Mar-2014</td><td>Fully Paid</td><td>credit_card</td><td>Credit card refin...</td><td>2023-09-18 18:39:...</td></tr>\n",
       "<tr><td>13038651</td><td>e20349de76ca4a9bb...</td><td>4800.0</td><td>4800.0</td><td>3</td><td>16.59</td><td>170.16</td><td>Mar-2014</td><td>Fully Paid</td><td>small_business</td><td>Business</td><td>2023-09-18 18:39:...</td></tr>\n",
       "<tr><td>13018630</td><td>34933fbc9ef48c073...</td><td>8000.0</td><td>8000.0</td><td>3</td><td>11.99</td><td>265.68</td><td>Mar-2014</td><td>Fully Paid</td><td>debt_consolidation</td><td>Debt consolidation</td><td>2023-09-18 18:39:...</td></tr>\n",
       "<tr><td>13048585</td><td>608aac23b0ca198b6...</td><td>20000.0</td><td>20000.0</td><td>3</td><td>9.67</td><td>642.25</td><td>Mar-2014</td><td>Fully Paid</td><td>debt_consolidation</td><td>Debt consolidation</td><td>2023-09-18 18:39:...</td></tr>\n",
       "<tr><td>13048576</td><td>e4cab1f952e772f96...</td><td>10000.0</td><td>10000.0</td><td>3</td><td>12.99</td><td>336.9</td><td>Mar-2014</td><td>Charged Off</td><td>debt_consolidation</td><td>Debt consolidation</td><td>2023-09-18 18:39:...</td></tr>\n",
       "<tr><td>13017910</td><td>98a36f925378bf805...</td><td>15000.0</td><td>15000.0</td><td>3</td><td>11.99</td><td>498.15</td><td>Mar-2014</td><td>Fully Paid</td><td>debt_consolidation</td><td>Debt consolidation</td><td>2023-09-18 18:39:...</td></tr>\n",
       "<tr><td>13047370</td><td>f28f406a2ffba00a1...</td><td>16500.0</td><td>16500.0</td><td>3</td><td>10.99</td><td>540.12</td><td>Mar-2014</td><td>Fully Paid</td><td>credit_card</td><td>Credit card refin...</td><td>2023-09-18 18:39:...</td></tr>\n",
       "<tr><td>12938625</td><td>1cfb384cb0774741b...</td><td>11000.0</td><td>11000.0</td><td>3</td><td>14.16</td><td>376.81</td><td>Mar-2014</td><td>Fully Paid</td><td>credit_card</td><td>Credit card refin...</td><td>2023-09-18 18:39:...</td></tr>\n",
       "</table>\n",
       "only showing top 20 rows\n"
      ],
      "text/plain": [
       "+--------+--------------------+-----------+-------------+---------------+-------------+-------------------+----------+-----------+------------------+--------------------+--------------------+\n",
       "| loan_id|           member_id|loan_amount|funded_amount|loan_term_years|interest_rate|monthly_installment|issue_date|loan_status|      loan_purpose|          loan_title|         ingest_date|\n",
       "+--------+--------------------+-----------+-------------+---------------+-------------+-------------------+----------+-----------+------------------+--------------------+--------------------+\n",
       "|13048578|ae2a45f96691a33e2...|    30000.0|      30000.0|              5|        22.45|             836.27|  Mar-2014| Fully Paid|debt_consolidation|  Debt consolidation|2023-09-18 18:39:...|\n",
       "|13028587|bc56a941d1b4a0ded...|     3500.0|       3500.0|              3|        13.65|             119.03|  Mar-2014| Fully Paid|debt_consolidation|  Debt consolidation|2023-09-18 18:39:...|\n",
       "|13048646|ec235820c5f579fe6...|    20000.0|      20000.0|              5|        18.92|             517.94|  Apr-2014|Charged Off|           medical|    Medical expenses|2023-09-18 18:39:...|\n",
       "|13045633|87c71f39b975e9b1c...|    10000.0|      10000.0|              5|        15.61|             241.12|  Mar-2014| Fully Paid|       credit_card|Credit card refin...|2023-09-18 18:39:...|\n",
       "|13018547|8ce13bae24094c318...|    30000.0|      30000.0|              5|        19.99|             794.65|  Mar-2014| Fully Paid|debt_consolidation|  Debt consolidation|2023-09-18 18:39:...|\n",
       "|13048625|ebdbcd8c70b4335e9...|    12000.0|      12000.0|              5|        15.31|             287.44|  Apr-2014| Fully Paid|debt_consolidation|  Debt consolidation|2023-09-18 18:39:...|\n",
       "|13027831|e6fba3fb656b87598...|     9000.0|       9000.0|              3|        16.59|             319.05|  Mar-2014| Fully Paid|    major_purchase|      Major purchase|2023-09-18 18:39:...|\n",
       "|13028614|634c0ca8f1d700224...|     5000.0|       5000.0|              3|        14.16|             171.28|  Mar-2014| Fully Paid|debt_consolidation|  Debt consolidation|2023-09-18 18:39:...|\n",
       "|13018608|83a2999b5344f3b3c...|    15600.0|      15600.0|              5|        12.99|             354.87|  Mar-2014| Fully Paid|       credit_card|Credit card refin...|2023-09-18 18:39:...|\n",
       "|13038676|d988117fe0ac6c851...|    11075.0|      11075.0|              3|        12.99|             373.11|  Mar-2014| Fully Paid|debt_consolidation|  Debt consolidation|2023-09-18 18:39:...|\n",
       "|13027705|f8841cf2dfaa37fff...|     8000.0|       8000.0|              3|        14.64|             275.92|  Mar-2014| Fully Paid|debt_consolidation|  Debt consolidation|2023-09-18 18:39:...|\n",
       "|13028593|b4137bb428d944e0b...|    15500.0|      15500.0|              3|        18.25|             562.31|  Mar-2014| Fully Paid|debt_consolidation|  Debt consolidation|2023-09-18 18:39:...|\n",
       "|13028592|73c7e7b989de02797...|     8000.0|       8000.0|              3|        11.99|             265.68|  Mar-2014| Fully Paid|       credit_card|Credit card refin...|2023-09-18 18:39:...|\n",
       "|13038651|e20349de76ca4a9bb...|     4800.0|       4800.0|              3|        16.59|             170.16|  Mar-2014| Fully Paid|    small_business|            Business|2023-09-18 18:39:...|\n",
       "|13018630|34933fbc9ef48c073...|     8000.0|       8000.0|              3|        11.99|             265.68|  Mar-2014| Fully Paid|debt_consolidation|  Debt consolidation|2023-09-18 18:39:...|\n",
       "|13048585|608aac23b0ca198b6...|    20000.0|      20000.0|              3|         9.67|             642.25|  Mar-2014| Fully Paid|debt_consolidation|  Debt consolidation|2023-09-18 18:39:...|\n",
       "|13048576|e4cab1f952e772f96...|    10000.0|      10000.0|              3|        12.99|              336.9|  Mar-2014|Charged Off|debt_consolidation|  Debt consolidation|2023-09-18 18:39:...|\n",
       "|13017910|98a36f925378bf805...|    15000.0|      15000.0|              3|        11.99|             498.15|  Mar-2014| Fully Paid|debt_consolidation|  Debt consolidation|2023-09-18 18:39:...|\n",
       "|13047370|f28f406a2ffba00a1...|    16500.0|      16500.0|              3|        10.99|             540.12|  Mar-2014| Fully Paid|       credit_card|Credit card refin...|2023-09-18 18:39:...|\n",
       "|12938625|1cfb384cb0774741b...|    11000.0|      11000.0|              3|        14.16|             376.81|  Mar-2014| Fully Paid|       credit_card|Credit card refin...|2023-09-18 18:39:...|\n",
       "+--------+--------------------+-----------+-------------+---------------+-------------+-------------------+----------+-----------+------------------+--------------------+--------------------+\n",
       "only showing top 20 rows"
      ]
     },
     "execution_count": 12,
     "metadata": {},
     "output_type": "execute_result"
    }
   ],
   "source": [
    "spark.sql(\"select * from itv006222_lending_club.loans\")"
   ]
  },
  {
   "cell_type": "code",
   "execution_count": 15,
   "id": "5e0876d1",
   "metadata": {},
   "outputs": [
    {
     "data": {
      "text/html": [
       "<table border='1'>\n",
       "<tr><th></th></tr>\n",
       "</table>\n"
      ],
      "text/plain": [
       "++\n",
       "||\n",
       "++\n",
       "++"
      ]
     },
     "execution_count": 15,
     "metadata": {},
     "output_type": "execute_result"
    }
   ],
   "source": [
    "spark.sql(\"\"\"CREATE EXTERNAL TABLE itv006222_lending_club.loans_repayments(loan_id string,total_principal_received float,total_interest_received float,total_late_fee_received float,total_payment_received float,last_payment_amount float,last_payment_date string,next_payment_date string,ingest_date timestamp)stored as parquet LOCATION'/public/trendytech/lendingclubproject/cleaned/loans_repayments_parquet'\"\"\")"
   ]
  },
  {
   "cell_type": "code",
   "execution_count": 16,
   "id": "48e44dd5",
   "metadata": {},
   "outputs": [
    {
     "data": {
      "text/html": [
       "<table border='1'>\n",
       "<tr><th>loan_id</th><th>total_principal_received</th><th>total_interest_received</th><th>total_late_fee_received</th><th>total_payment_received</th><th>last_payment_amount</th><th>last_payment_date</th><th>next_payment_date</th><th>ingest_date</th></tr>\n",
       "<tr><td>141581221</td><td>1055.81</td><td>2591.7</td><td>0.0</td><td>3647.51</td><td>709.23</td><td>Mar-2019</td><td>Apr-2019</td><td>2023-09-19 05:25:...</td></tr>\n",
       "<tr><td>141506948</td><td>1252.75</td><td>306.04</td><td>0.0</td><td>1558.79</td><td>312.63</td><td>Mar-2019</td><td>Apr-2019</td><td>2023-09-19 05:25:...</td></tr>\n",
       "<tr><td>141357400</td><td>626.37</td><td>354.96</td><td>0.0</td><td>981.33</td><td>197.27</td><td>Mar-2019</td><td>Apr-2019</td><td>2023-09-19 05:25:...</td></tr>\n",
       "<tr><td>139445427</td><td>1118.16</td><td>297.36</td><td>0.0</td><td>1415.52</td><td>283.95</td><td>Mar-2019</td><td>Apr-2019</td><td>2023-09-19 05:25:...</td></tr>\n",
       "<tr><td>141407409</td><td>1169.72</td><td>3605.3</td><td>0.0</td><td>4775.02</td><td>964.9</td><td>Mar-2019</td><td>Apr-2019</td><td>2023-09-19 05:25:...</td></tr>\n",
       "<tr><td>141360802</td><td>2313.98</td><td>2512.88</td><td>0.0</td><td>4826.86</td><td>952.02</td><td>Mar-2019</td><td>Apr-2019</td><td>2023-09-19 05:25:...</td></tr>\n",
       "<tr><td>141163960</td><td>4689.63</td><td>1994.93</td><td>0.0</td><td>6684.56</td><td>1342.57</td><td>Mar-2019</td><td>Apr-2019</td><td>2023-09-19 05:25:...</td></tr>\n",
       "<tr><td>141533932</td><td>585.29</td><td>640.53</td><td>15.0</td><td>1240.82</td><td>235.13</td><td>Mar-2019</td><td>Apr-2019</td><td>2023-09-19 05:25:...</td></tr>\n",
       "<tr><td>141441276</td><td>2030.82</td><td>762.81</td><td>0.0</td><td>2793.63</td><td>477.62</td><td>Mar-2019</td><td>Apr-2019</td><td>2023-09-19 05:25:...</td></tr>\n",
       "<tr><td>141569080</td><td>1803.55</td><td>1110.59</td><td>0.0</td><td>2914.14</td><td>585.91</td><td>Mar-2019</td><td>Apr-2019</td><td>2023-09-19 05:25:...</td></tr>\n",
       "<tr><td>140961277</td><td>1144.71</td><td>559.56</td><td>0.0</td><td>1704.27</td><td>344.07</td><td>Mar-2019</td><td>Apr-2019</td><td>2023-09-19 05:25:...</td></tr>\n",
       "<tr><td>141466656</td><td>1297.9</td><td>838.42</td><td>0.0</td><td>2136.32</td><td>429.59</td><td>Mar-2019</td><td>Apr-2019</td><td>2023-09-19 05:25:...</td></tr>\n",
       "<tr><td>141575085</td><td>613.26</td><td>510.47</td><td>0.0</td><td>1123.73</td><td>226.16</td><td>Mar-2019</td><td>Apr-2019</td><td>2023-09-19 05:25:...</td></tr>\n",
       "<tr><td>141429235</td><td>4008.76</td><td>1058.83</td><td>0.0</td><td>5067.59</td><td>1000.41</td><td>Mar-2019</td><td>Apr-2019</td><td>2023-09-19 05:25:...</td></tr>\n",
       "<tr><td>141545082</td><td>1297.9</td><td>838.42</td><td>0.0</td><td>2136.32</td><td>429.59</td><td>Mar-2019</td><td>Apr-2019</td><td>2023-09-19 05:25:...</td></tr>\n",
       "<tr><td>141584203</td><td>747.08</td><td>243.73</td><td>0.0</td><td>990.81</td><td>193.84</td><td>Mar-2019</td><td>Apr-2019</td><td>2023-09-19 05:25:...</td></tr>\n",
       "<tr><td>141201047</td><td>2266.29</td><td>1184.57</td><td>34.68</td><td>3485.54</td><td>693.51</td><td>Mar-2019</td><td>Apr-2019</td><td>2023-09-19 05:25:...</td></tr>\n",
       "<tr><td>140580869</td><td>1450.9</td><td>491.42</td><td>0.0</td><td>1942.32</td><td>389.86</td><td>Mar-2019</td><td>Apr-2019</td><td>2023-09-19 05:25:...</td></tr>\n",
       "<tr><td>141539871</td><td>2290.47</td><td>468.26</td><td>0.0</td><td>2758.73</td><td>553.08</td><td>Mar-2019</td><td>Apr-2019</td><td>2023-09-19 05:25:...</td></tr>\n",
       "<tr><td>141386443</td><td>1173.43</td><td>1161.79</td><td>0.0</td><td>2335.22</td><td>470.26</td><td>Mar-2019</td><td>Apr-2019</td><td>2023-09-19 05:25:...</td></tr>\n",
       "</table>\n",
       "only showing top 20 rows\n"
      ],
      "text/plain": [
       "+---------+------------------------+-----------------------+-----------------------+----------------------+-------------------+-----------------+-----------------+--------------------+\n",
       "|  loan_id|total_principal_received|total_interest_received|total_late_fee_received|total_payment_received|last_payment_amount|last_payment_date|next_payment_date|         ingest_date|\n",
       "+---------+------------------------+-----------------------+-----------------------+----------------------+-------------------+-----------------+-----------------+--------------------+\n",
       "|141581221|                 1055.81|                 2591.7|                    0.0|               3647.51|             709.23|         Mar-2019|         Apr-2019|2023-09-19 05:25:...|\n",
       "|141506948|                 1252.75|                 306.04|                    0.0|               1558.79|             312.63|         Mar-2019|         Apr-2019|2023-09-19 05:25:...|\n",
       "|141357400|                  626.37|                 354.96|                    0.0|                981.33|             197.27|         Mar-2019|         Apr-2019|2023-09-19 05:25:...|\n",
       "|139445427|                 1118.16|                 297.36|                    0.0|               1415.52|             283.95|         Mar-2019|         Apr-2019|2023-09-19 05:25:...|\n",
       "|141407409|                 1169.72|                 3605.3|                    0.0|               4775.02|              964.9|         Mar-2019|         Apr-2019|2023-09-19 05:25:...|\n",
       "|141360802|                 2313.98|                2512.88|                    0.0|               4826.86|             952.02|         Mar-2019|         Apr-2019|2023-09-19 05:25:...|\n",
       "|141163960|                 4689.63|                1994.93|                    0.0|               6684.56|            1342.57|         Mar-2019|         Apr-2019|2023-09-19 05:25:...|\n",
       "|141533932|                  585.29|                 640.53|                   15.0|               1240.82|             235.13|         Mar-2019|         Apr-2019|2023-09-19 05:25:...|\n",
       "|141441276|                 2030.82|                 762.81|                    0.0|               2793.63|             477.62|         Mar-2019|         Apr-2019|2023-09-19 05:25:...|\n",
       "|141569080|                 1803.55|                1110.59|                    0.0|               2914.14|             585.91|         Mar-2019|         Apr-2019|2023-09-19 05:25:...|\n",
       "|140961277|                 1144.71|                 559.56|                    0.0|               1704.27|             344.07|         Mar-2019|         Apr-2019|2023-09-19 05:25:...|\n",
       "|141466656|                  1297.9|                 838.42|                    0.0|               2136.32|             429.59|         Mar-2019|         Apr-2019|2023-09-19 05:25:...|\n",
       "|141575085|                  613.26|                 510.47|                    0.0|               1123.73|             226.16|         Mar-2019|         Apr-2019|2023-09-19 05:25:...|\n",
       "|141429235|                 4008.76|                1058.83|                    0.0|               5067.59|            1000.41|         Mar-2019|         Apr-2019|2023-09-19 05:25:...|\n",
       "|141545082|                  1297.9|                 838.42|                    0.0|               2136.32|             429.59|         Mar-2019|         Apr-2019|2023-09-19 05:25:...|\n",
       "|141584203|                  747.08|                 243.73|                    0.0|                990.81|             193.84|         Mar-2019|         Apr-2019|2023-09-19 05:25:...|\n",
       "|141201047|                 2266.29|                1184.57|                  34.68|               3485.54|             693.51|         Mar-2019|         Apr-2019|2023-09-19 05:25:...|\n",
       "|140580869|                  1450.9|                 491.42|                    0.0|               1942.32|             389.86|         Mar-2019|         Apr-2019|2023-09-19 05:25:...|\n",
       "|141539871|                 2290.47|                 468.26|                    0.0|               2758.73|             553.08|         Mar-2019|         Apr-2019|2023-09-19 05:25:...|\n",
       "|141386443|                 1173.43|                1161.79|                    0.0|               2335.22|             470.26|         Mar-2019|         Apr-2019|2023-09-19 05:25:...|\n",
       "+---------+------------------------+-----------------------+-----------------------+----------------------+-------------------+-----------------+-----------------+--------------------+\n",
       "only showing top 20 rows"
      ]
     },
     "execution_count": 16,
     "metadata": {},
     "output_type": "execute_result"
    }
   ],
   "source": [
    "spark.sql(\"select * from itv006222_lending_club.loans_repayments\")"
   ]
  },
  {
   "cell_type": "code",
   "execution_count": 17,
   "id": "e3cb5b90",
   "metadata": {},
   "outputs": [
    {
     "data": {
      "text/html": [
       "<table border='1'>\n",
       "<tr><th></th></tr>\n",
       "</table>\n"
      ],
      "text/plain": [
       "++\n",
       "||\n",
       "++\n",
       "++"
      ]
     },
     "execution_count": 17,
     "metadata": {},
     "output_type": "execute_result"
    }
   ],
   "source": [
    "spark.sql(\"\"\"CREATE EXTERNAL TABLE itv006222_lending_club.loans_defaulters_delinq(member_id string,delinq_2yrs integer,delinq_amnt float,mths_since_last_delinq integer)stored as parquet LOCATION'/public/trendytech/lendingclubproject/cleaned/loans_defaulters_delinq_parquet'\"\"\")"
   ]
  },
  {
   "cell_type": "code",
   "execution_count": 18,
   "id": "9f236d11",
   "metadata": {},
   "outputs": [
    {
     "data": {
      "text/html": [
       "<table border='1'>\n",
       "<tr><th>member_id</th><th>delinq_2yrs</th><th>delinq_amnt</th><th>mths_since_last_delinq</th></tr>\n",
       "<tr><td>9cb79aa7323e81be1...</td><td>2</td><td>0.0</td><td>0</td></tr>\n",
       "<tr><td>aac68850fdac09fd0...</td><td>1</td><td>0.0</td><td>0</td></tr>\n",
       "<tr><td>c89986155a070db2e...</td><td>1</td><td>0.0</td><td>15</td></tr>\n",
       "<tr><td>4e1c30a5dfe9f1e20...</td><td>0</td><td>0.0</td><td>34</td></tr>\n",
       "<tr><td>1eef79a0e79b72c7a...</td><td>1</td><td>0.0</td><td>0</td></tr>\n",
       "<tr><td>ec1953dba2cfb89ad...</td><td>2</td><td>0.0</td><td>0</td></tr>\n",
       "<tr><td>3712c9da85e54b7b1...</td><td>1</td><td>0.0</td><td>0</td></tr>\n",
       "<tr><td>030e5c9c411c936c5...</td><td>2</td><td>0.0</td><td>0</td></tr>\n",
       "<tr><td>252736f8401b6b046...</td><td>2</td><td>0.0</td><td>0</td></tr>\n",
       "<tr><td>2d73c65a7b7d1a351...</td><td>1</td><td>0.0</td><td>0</td></tr>\n",
       "<tr><td>4c5cc017a06ad9cee...</td><td>1</td><td>0.0</td><td>0</td></tr>\n",
       "<tr><td>b2ae51f7010bda712...</td><td>2</td><td>0.0</td><td>0</td></tr>\n",
       "<tr><td>e3fda103b038638f2...</td><td>1</td><td>0.0</td><td>0</td></tr>\n",
       "<tr><td>c1553a3186575c87d...</td><td>2</td><td>0.0</td><td>0</td></tr>\n",
       "<tr><td>e889fe8e41d1fc74a...</td><td>1</td><td>0.0</td><td>0</td></tr>\n",
       "<tr><td>66f29d01599e4497e...</td><td>1</td><td>0.0</td><td>0</td></tr>\n",
       "<tr><td>8d52067d7d93c7ba1...</td><td>2</td><td>0.0</td><td>0</td></tr>\n",
       "<tr><td>aff24625c7c7a2108...</td><td>3</td><td>0.0</td><td>0</td></tr>\n",
       "<tr><td>60cf7ca69b4fc0b04...</td><td>2</td><td>0.0</td><td>0</td></tr>\n",
       "<tr><td>5b7cc2ef3ee4be20e...</td><td>1</td><td>0.0</td><td>0</td></tr>\n",
       "</table>\n",
       "only showing top 20 rows\n"
      ],
      "text/plain": [
       "+--------------------+-----------+-----------+----------------------+\n",
       "|           member_id|delinq_2yrs|delinq_amnt|mths_since_last_delinq|\n",
       "+--------------------+-----------+-----------+----------------------+\n",
       "|9cb79aa7323e81be1...|          2|        0.0|                     0|\n",
       "|aac68850fdac09fd0...|          1|        0.0|                     0|\n",
       "|c89986155a070db2e...|          1|        0.0|                    15|\n",
       "|4e1c30a5dfe9f1e20...|          0|        0.0|                    34|\n",
       "|1eef79a0e79b72c7a...|          1|        0.0|                     0|\n",
       "|ec1953dba2cfb89ad...|          2|        0.0|                     0|\n",
       "|3712c9da85e54b7b1...|          1|        0.0|                     0|\n",
       "|030e5c9c411c936c5...|          2|        0.0|                     0|\n",
       "|252736f8401b6b046...|          2|        0.0|                     0|\n",
       "|2d73c65a7b7d1a351...|          1|        0.0|                     0|\n",
       "|4c5cc017a06ad9cee...|          1|        0.0|                     0|\n",
       "|b2ae51f7010bda712...|          2|        0.0|                     0|\n",
       "|e3fda103b038638f2...|          1|        0.0|                     0|\n",
       "|c1553a3186575c87d...|          2|        0.0|                     0|\n",
       "|e889fe8e41d1fc74a...|          1|        0.0|                     0|\n",
       "|66f29d01599e4497e...|          1|        0.0|                     0|\n",
       "|8d52067d7d93c7ba1...|          2|        0.0|                     0|\n",
       "|aff24625c7c7a2108...|          3|        0.0|                     0|\n",
       "|60cf7ca69b4fc0b04...|          2|        0.0|                     0|\n",
       "|5b7cc2ef3ee4be20e...|          1|        0.0|                     0|\n",
       "+--------------------+-----------+-----------+----------------------+\n",
       "only showing top 20 rows"
      ]
     },
     "execution_count": 18,
     "metadata": {},
     "output_type": "execute_result"
    }
   ],
   "source": [
    "spark.sql(\"select * from itv006222_lending_club.loans_defaulters_delinq\")"
   ]
  },
  {
   "cell_type": "code",
   "execution_count": 19,
   "id": "897b53d9",
   "metadata": {},
   "outputs": [
    {
     "data": {
      "text/html": [
       "<table border='1'>\n",
       "<tr><th></th></tr>\n",
       "</table>\n"
      ],
      "text/plain": [
       "++\n",
       "||\n",
       "++\n",
       "++"
      ]
     },
     "execution_count": 19,
     "metadata": {},
     "output_type": "execute_result"
    }
   ],
   "source": [
    "spark.sql(\"\"\"CREATE EXTERNAL TABLE itv006222_lending_club.loans_defaulters_detail_rec_enq(member_id string,pub_rec integer,pub_rec_bankruptcies integer,inq_last_6mths integer)stored as parquet\n",
    "LOCATION'/public/trendytech/lendingclubproject/cleaned/loans_defaulters_detail_records_enq_parquet'\"\"\")"
   ]
  },
  {
   "cell_type": "code",
   "execution_count": 25,
   "id": "0850a552",
   "metadata": {},
   "outputs": [
    {
     "data": {
      "text/html": [
       "<table border='1'>\n",
       "<tr><th>member_id</th><th>pub_rec</th><th>pub_rec_bankruptcies</th><th>inq_last_6mths</th></tr>\n",
       "<tr><td>9cb79aa7323e81be1...</td><td>0</td><td>0</td><td>0</td></tr>\n",
       "<tr><td>0dd2bbc517e3c8f9e...</td><td>1</td><td>1</td><td>3</td></tr>\n",
       "<tr><td>458458599d3df3bfc...</td><td>1</td><td>1</td><td>1</td></tr>\n",
       "<tr><td>05ea141ec28b5c7f7...</td><td>0</td><td>0</td><td>0</td></tr>\n",
       "<tr><td>aac68850fdac09fd0...</td><td>0</td><td>0</td><td>0</td></tr>\n",
       "<tr><td>3a423e4589e89f429...</td><td>0</td><td>0</td><td>0</td></tr>\n",
       "<tr><td>f1efcf7dfbfef21be...</td><td>0</td><td>0</td><td>1</td></tr>\n",
       "<tr><td>c89986155a070db2e...</td><td>0</td><td>0</td><td>1</td></tr>\n",
       "<tr><td>118dc629b6e134419...</td><td>0</td><td>0</td><td>0</td></tr>\n",
       "<tr><td>a86fa4b7493708333...</td><td>0</td><td>0</td><td>0</td></tr>\n",
       "<tr><td>6e8d94bf446e97025...</td><td>0</td><td>0</td><td>0</td></tr>\n",
       "<tr><td>3de585156dc6b73f6...</td><td>0</td><td>0</td><td>0</td></tr>\n",
       "<tr><td>e88945f86a96f8d71...</td><td>0</td><td>0</td><td>1</td></tr>\n",
       "<tr><td>42f73fd8a01f1c475...</td><td>0</td><td>0</td><td>0</td></tr>\n",
       "<tr><td>c680bca32456530e6...</td><td>0</td><td>0</td><td>0</td></tr>\n",
       "<tr><td>3c36e35bcc0379690...</td><td>0</td><td>0</td><td>0</td></tr>\n",
       "<tr><td>4e1c30a5dfe9f1e20...</td><td>0</td><td>0</td><td>1</td></tr>\n",
       "<tr><td>1eef79a0e79b72c7a...</td><td>0</td><td>0</td><td>0</td></tr>\n",
       "<tr><td>89d42771f79636d22...</td><td>0</td><td>0</td><td>0</td></tr>\n",
       "<tr><td>1dd1d1b51473d4993...</td><td>0</td><td>0</td><td>0</td></tr>\n",
       "</table>\n",
       "only showing top 20 rows\n"
      ],
      "text/plain": [
       "+--------------------+-------+--------------------+--------------+\n",
       "|           member_id|pub_rec|pub_rec_bankruptcies|inq_last_6mths|\n",
       "+--------------------+-------+--------------------+--------------+\n",
       "|9cb79aa7323e81be1...|      0|                   0|             0|\n",
       "|0dd2bbc517e3c8f9e...|      1|                   1|             3|\n",
       "|458458599d3df3bfc...|      1|                   1|             1|\n",
       "|05ea141ec28b5c7f7...|      0|                   0|             0|\n",
       "|aac68850fdac09fd0...|      0|                   0|             0|\n",
       "|3a423e4589e89f429...|      0|                   0|             0|\n",
       "|f1efcf7dfbfef21be...|      0|                   0|             1|\n",
       "|c89986155a070db2e...|      0|                   0|             1|\n",
       "|118dc629b6e134419...|      0|                   0|             0|\n",
       "|a86fa4b7493708333...|      0|                   0|             0|\n",
       "|6e8d94bf446e97025...|      0|                   0|             0|\n",
       "|3de585156dc6b73f6...|      0|                   0|             0|\n",
       "|e88945f86a96f8d71...|      0|                   0|             1|\n",
       "|42f73fd8a01f1c475...|      0|                   0|             0|\n",
       "|c680bca32456530e6...|      0|                   0|             0|\n",
       "|3c36e35bcc0379690...|      0|                   0|             0|\n",
       "|4e1c30a5dfe9f1e20...|      0|                   0|             1|\n",
       "|1eef79a0e79b72c7a...|      0|                   0|             0|\n",
       "|89d42771f79636d22...|      0|                   0|             0|\n",
       "|1dd1d1b51473d4993...|      0|                   0|             0|\n",
       "+--------------------+-------+--------------------+--------------+\n",
       "only showing top 20 rows"
      ]
     },
     "execution_count": 25,
     "metadata": {},
     "output_type": "execute_result"
    }
   ],
   "source": [
    "spark.sql(\"select * from itv006222_lending_club.loans_defaulters_detail_rec_enq\")"
   ]
  },
  {
   "cell_type": "code",
   "execution_count": null,
   "id": "ad17deca",
   "metadata": {},
   "outputs": [],
   "source": []
  }
 ],
 "metadata": {
  "kernelspec": {
   "display_name": "Pyspark 3",
   "language": "python",
   "name": "pyspark3"
  },
  "language_info": {
   "codemirror_mode": {
    "name": "ipython",
    "version": 3
   },
   "file_extension": ".py",
   "mimetype": "text/x-python",
   "name": "python",
   "nbconvert_exporter": "python",
   "pygments_lexer": "ipython3",
   "version": "3.6.12"
  }
 },
 "nbformat": 4,
 "nbformat_minor": 5
}
