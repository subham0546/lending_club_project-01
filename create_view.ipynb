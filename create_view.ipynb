{
 "cells": [
  {
   "cell_type": "code",
   "execution_count": 18,
   "id": "8ca70b6a",
   "metadata": {},
   "outputs": [],
   "source": [
    "from pyspark.sql import SparkSession\n",
    "import getpass\n",
    "username = getpass.getuser()\n",
    "spark = SparkSession. \\\n",
    "        builder. \\\n",
    "        config('spark.ui.port','0'). \\\n",
    "        config('spark.shuffle.useOldFetchProtocol','true'). \\\n",
    "        config(\"spark.sql.warehouse.dir\", f\"/user/{username}/warehouse\"). \\\n",
    "        enableHiveSupport(). \\\n",
    "        master('yarn'). \\\n",
    "        getOrCreate()"
   ]
  },
  {
   "cell_type": "code",
   "execution_count": 14,
   "id": "7e6c87de",
   "metadata": {},
   "outputs": [
    {
     "data": {
      "text/html": [
       "<table border='1'>\n",
       "<tr><th></th></tr>\n",
       "</table>\n"
      ],
      "text/plain": [
       "++\n",
       "||\n",
       "++\n",
       "++"
      ]
     },
     "execution_count": 14,
     "metadata": {},
     "output_type": "execute_result"
    }
   ],
   "source": [
    "spark.sql(\"\"\"\n",
    "create or replace view itv006222_lending_club.customers_loan_v as select \n",
    "l.loan_id,\n",
    "c.member_id,\n",
    "c.emp_title,\n",
    "c.emp_length,\n",
    "c.home_ownership,\n",
    "c.annual_income,\n",
    "c.address_state,\n",
    "c.address_zipcode,\n",
    "c.address_country,\n",
    "c.grade,\n",
    "c.sub_grade,\n",
    "c.verification_status,\n",
    "c.total_high_credit_limit,\n",
    "c.application_type,\n",
    "c.join_annual_income,\n",
    "c.verification_status_joint,\n",
    "l.loan_amount,\n",
    "l.funded_amount,\n",
    "l.loan_term_years,\n",
    "l.interest_rate,\n",
    "l.monthly_installment,\n",
    "l.issue_date,\n",
    "l.loan_status,\n",
    "l.loan_purpose,\n",
    "r.total_principal_received,\n",
    "r.total_interest_received,\n",
    "r.total_late_fee_received,\n",
    "r.total_payment_received,\n",
    "r.last_payment_amount,\n",
    "r.last_payment_date,\n",
    "r.next_payment_date,\n",
    "d.delinq_2yrs,\n",
    "d.delinq_amnt,\n",
    "d.mths_since_last_delinq,\n",
    "e.pub_rec,\n",
    "e.pub_rec_bankruptcies,\n",
    "e.inq_last_6mths\n",
    "\n",
    "FROM itv006222_lending_club.customers c\n",
    "LEFT JOIN itv006222_lending_club.loans l ON c.member_id = l.member_id\n",
    "LEFT JOIN itv006222_lending_club.loans_repayments r ON l.loan_id = r.loan_id\n",
    "LEFT JOIN itv006222_lending_club.loans_defaulters_delinq d ON c.member_id = d.member_id\n",
    "LEFT JOIN itv006222_lending_club.loans_defaulters_detail_rec_enq e ON c.member_id = e.member_id\n",
    "\n",
    "\"\"\")"
   ]
  },
  {
   "cell_type": "code",
   "execution_count": 15,
   "id": "c443e70b",
   "metadata": {},
   "outputs": [
    {
     "data": {
      "text/html": [
       "<table border='1'>\n",
       "<tr><th>loan_id</th><th>member_id</th><th>emp_title</th><th>emp_length</th><th>home_ownership</th><th>annual_income</th><th>address_state</th><th>address_zipcode</th><th>address_country</th><th>grade</th><th>sub_grade</th><th>verification_status</th><th>total_high_credit_limit</th><th>application_type</th><th>join_annual_income</th><th>verification_status_joint</th><th>loan_amount</th><th>funded_amount</th><th>loan_term_years</th><th>interest_rate</th><th>monthly_installment</th><th>issue_date</th><th>loan_status</th><th>loan_purpose</th><th>total_principal_received</th><th>total_interest_received</th><th>total_late_fee_received</th><th>total_payment_received</th><th>last_payment_amount</th><th>last_payment_date</th><th>next_payment_date</th><th>delinq_2yrs</th><th>delinq_amnt</th><th>mths_since_last_delinq</th><th>pub_rec</th><th>pub_rec_bankruptcies</th><th>inq_last_6mths</th></tr>\n",
       "<tr><td>71175798</td><td>000c8875b71a6b47c...</td><td>Director of Gvt O...</td><td>1</td><td>MORTGAGE</td><td>100000.0</td><td>CA</td><td>920xx</td><td>USA</td><td>A</td><td>A4</td><td>Not Verified</td><td>761500.0</td><td>Individual</td><td>null</td><td>null</td><td>3000.0</td><td>3000.0</td><td>3</td><td>7.39</td><td>93.17</td><td>Feb-2016</td><td>Fully Paid</td><td>debt_consolidation</td><td>3000.0</td><td>114.47</td><td>0.0</td><td>3114.47</td><td>2647.45</td><td>Aug-2016</td><td>null</td><td>1</td><td>0.0</td><td>0</td><td>0</td><td>0</td><td>0</td></tr>\n",
       "<tr><td>139313300</td><td>000fc98fc1ca5faa3...</td><td>coord</td><td>10</td><td>MORTGAGE</td><td>220000.0</td><td>CA</td><td>952xx</td><td>USA</td><td>A</td><td>A3</td><td>Not Verified</td><td>227457.0</td><td>Joint App</td><td>230000.0</td><td>null</td><td>20000.0</td><td>20000.0</td><td>3</td><td>7.21</td><td>619.47</td><td>Aug-2018</td><td>Current</td><td>credit_card</td><td>3558.76</td><td>769.52</td><td>0.0</td><td>4328.28</td><td>619.47</td><td>Mar-2019</td><td>Apr-2019</td><td>null</td><td>null</td><td>null</td><td>0</td><td>0</td><td>0</td></tr>\n",
       "<tr><td>143195702</td><td>0012728d9f616bdf2...</td><td>null</td><td>6</td><td>OWN</td><td>35000.0</td><td>SC</td><td>294xx</td><td>USA</td><td>A</td><td>A5</td><td>Not Verified</td><td>20900.0</td><td>Individual</td><td>null</td><td>null</td><td>9000.0</td><td>9000.0</td><td>3</td><td>8.46</td><td>283.95</td><td>Dec-2018</td><td>Current</td><td>debt_consolidation</td><td>666.17</td><td>181.45</td><td>0.0</td><td>847.62</td><td>283.95</td><td>Mar-2019</td><td>Apr-2019</td><td>null</td><td>null</td><td>null</td><td>0</td><td>0</td><td>0</td></tr>\n",
       "<tr><td>2284564</td><td>00151ece27c7ca280...</td><td>Northglenn Police...</td><td>8</td><td>RENT</td><td>54000.0</td><td>CO</td><td>802xx</td><td>USA</td><td>C</td><td>C1</td><td>Not Verified</td><td>40650.0</td><td>Individual</td><td>null</td><td>null</td><td>12800.0</td><td>12800.0</td><td>3</td><td>14.33</td><td>439.53</td><td>Nov-2012</td><td>Fully Paid</td><td>debt_consolidation</td><td>12800.0</td><td>2192.68</td><td>0.0</td><td>14992.676</td><td>7529.95</td><td>Jun-2014</td><td>null</td><td>null</td><td>null</td><td>null</td><td>0</td><td>0</td><td>1</td></tr>\n",
       "<tr><td>3845340</td><td>002800d49886390d2...</td><td>RehabCare</td><td>2</td><td>RENT</td><td>60000.0</td><td>TX</td><td>787xx</td><td>USA</td><td>D</td><td>D3</td><td>Not Verified</td><td>37248.0</td><td>Individual</td><td>null</td><td>null</td><td>15000.0</td><td>15000.0</td><td>3</td><td>18.75</td><td>547.95</td><td>Mar-2013</td><td>Charged Off</td><td>debt_consolidation</td><td>12856.06</td><td>4702.54</td><td>0.0</td><td>17835.81</td><td>547.95</td><td>Dec-2015</td><td>null</td><td>null</td><td>null</td><td>null</td><td>0</td><td>0</td><td>0</td></tr>\n",
       "<tr><td>360493</td><td>003715c2aec34dd43...</td><td>Apex Technologies...</td><td>1</td><td>MORTGAGE</td><td>90000.0</td><td>PA</td><td>171xx</td><td>USA</td><td>C</td><td>C3</td><td>Not Verified</td><td>null</td><td>Individual</td><td>null</td><td>null</td><td>12000.0</td><td>12000.0</td><td>3</td><td>12.41</td><td>400.93</td><td>Oct-2008</td><td>Fully Paid</td><td>debt_consolidation</td><td>12000.0</td><td>208.02</td><td>0.0</td><td>12208.02</td><td>1.07</td><td>Apr-2009</td><td>null</td><td>null</td><td>null</td><td>null</td><td>0</td><td>0</td><td>2</td></tr>\n",
       "<tr><td>95004059</td><td>003769d7f54c7859e...</td><td>Trainer</td><td>10</td><td>MORTGAGE</td><td>35000.0</td><td>NC</td><td>282xx</td><td>USA</td><td>E</td><td>E1</td><td>Verified</td><td>184961.0</td><td>Individual</td><td>null</td><td>null</td><td>10000.0</td><td>10000.0</td><td>5</td><td>22.74</td><td>280.42</td><td>Dec-2016</td><td>Charged Off</td><td>medical</td><td>90.92</td><td>176.87</td><td>0.0</td><td>1492.05</td><td>280.42</td><td>Jan-2017</td><td>null</td><td>1</td><td>0.0</td><td>0</td><td>0</td><td>0</td><td>0</td></tr>\n",
       "<tr><td>142641777</td><td>0037bb910c0a758f5...</td><td>Network Engineer</td><td>2</td><td>RENT</td><td>105000.0</td><td>IL</td><td>601xx</td><td>USA</td><td>C</td><td>C3</td><td>Source Verified</td><td>50260.0</td><td>Individual</td><td>null</td><td>null</td><td>2000.0</td><td>2000.0</td><td>3</td><td>15.02</td><td>69.36</td><td>Oct-2018</td><td>Current</td><td>other</td><td>227.25</td><td>116.21</td><td>0.0</td><td>343.46</td><td>69.36</td><td>Mar-2019</td><td>Apr-2019</td><td>null</td><td>null</td><td>null</td><td>0</td><td>0</td><td>0</td></tr>\n",
       "<tr><td>91518424</td><td>003d7bee408492f11...</td><td>Flight Attendant</td><td>10</td><td>RENT</td><td>75000.0</td><td>AZ</td><td>852xx</td><td>USA</td><td>A</td><td>A5</td><td>Not Verified</td><td>166387.0</td><td>Individual</td><td>null</td><td>null</td><td>10000.0</td><td>10000.0</td><td>3</td><td>7.99</td><td>313.32</td><td>Oct-2016</td><td>Current</td><td>other</td><td>7864.12</td><td>1213.28</td><td>0.0</td><td>9077.4</td><td>313.32</td><td>Mar-2019</td><td>Apr-2019</td><td>null</td><td>null</td><td>null</td><td>0</td><td>0</td><td>0</td></tr>\n",
       "<tr><td>116883875</td><td>003e1e6cbd2920bbb...</td><td>Operations Superv...</td><td>9</td><td>MORTGAGE</td><td>92000.0</td><td>LA</td><td>705xx</td><td>USA</td><td>A</td><td>A5</td><td>Source Verified</td><td>375806.0</td><td>Individual</td><td>null</td><td>null</td><td>10000.0</td><td>10000.0</td><td>3</td><td>7.97</td><td>313.23</td><td>Aug-2017</td><td>Current</td><td>debt_consolidation</td><td>4980.61</td><td>970.21</td><td>0.0</td><td>5950.82</td><td>313.23</td><td>Mar-2019</td><td>Apr-2019</td><td>1</td><td>0.0</td><td>0</td><td>1</td><td>1</td><td>0</td></tr>\n",
       "<tr><td>10616863</td><td>004017b21bd4d6271...</td><td>Regional Rehab Di...</td><td>9</td><td>MORTGAGE</td><td>113000.0</td><td>NC</td><td>276xx</td><td>USA</td><td>C</td><td>C1</td><td>Not Verified</td><td>120587.0</td><td>Individual</td><td>null</td><td>null</td><td>3000.0</td><td>3000.0</td><td>3</td><td>13.98</td><td>102.51</td><td>Jan-2014</td><td>Fully Paid</td><td>debt_consolidation</td><td>3000.0</td><td>685.71</td><td>15.0</td><td>3700.7124</td><td>43.24</td><td>Dec-2016</td><td>null</td><td>6</td><td>0.0</td><td>15</td><td>0</td><td>0</td><td>0</td></tr>\n",
       "<tr><td>58882363</td><td>004dbe6698f1482be...</td><td>Project Manager</td><td>3</td><td>MORTGAGE</td><td>130000.0</td><td>NY</td><td>109xx</td><td>USA</td><td>D</td><td>D4</td><td>Verified</td><td>317868.0</td><td>Individual</td><td>null</td><td>null</td><td>35000.0</td><td>35000.0</td><td>3</td><td>17.57</td><td>1257.8</td><td>Sep-2015</td><td>Fully Paid</td><td>credit_card</td><td>35000.0</td><td>10246.49</td><td>0.0</td><td>45246.492</td><td>1257.65</td><td>Sep-2018</td><td>null</td><td>null</td><td>null</td><td>null</td><td>0</td><td>0</td><td>2</td></tr>\n",
       "<tr><td>27681731</td><td>004f73beb41d739e1...</td><td>Staff Research As...</td><td>6</td><td>RENT</td><td>60000.0</td><td>CA</td><td>921xx</td><td>USA</td><td>C</td><td>C4</td><td>Source Verified</td><td>92453.0</td><td>Individual</td><td>null</td><td>null</td><td>15775.0</td><td>15775.0</td><td>5</td><td>14.49</td><td>371.08</td><td>Sep-2014</td><td>Current</td><td>debt_consolidation</td><td>13639.96</td><td>6398.36</td><td>0.0</td><td>20038.32</td><td>371.08</td><td>Mar-2019</td><td>Apr-2019</td><td>null</td><td>null</td><td>null</td><td>0</td><td>0</td><td>0</td></tr>\n",
       "<tr><td>35236401</td><td>0059ce602b84a1bdd...</td><td>correctional officer</td><td>10</td><td>MORTGAGE</td><td>75000.0</td><td>CA</td><td>933xx</td><td>USA</td><td>D</td><td>D4</td><td>Verified</td><td>130656.0</td><td>Individual</td><td>null</td><td>null</td><td>31450.0</td><td>31450.0</td><td>3</td><td>17.14</td><td>1123.48</td><td>Dec-2014</td><td>Fully Paid</td><td>debt_consolidation</td><td>31450.0</td><td>8693.53</td><td>0.0</td><td>40143.527</td><td>505.1</td><td>Dec-2017</td><td>null</td><td>null</td><td>null</td><td>null</td><td>0</td><td>0</td><td>1</td></tr>\n",
       "<tr><td>83648322</td><td>005b4c3db3fce07dc...</td><td>office manager</td><td>9</td><td>MORTGAGE</td><td>61000.0</td><td>FL</td><td>334xx</td><td>USA</td><td>B</td><td>B5</td><td>Source Verified</td><td>28386.0</td><td>Individual</td><td>null</td><td>null</td><td>6000.0</td><td>6000.0</td><td>3</td><td>11.49</td><td>197.83</td><td>Jun-2016</td><td>Current</td><td>credit_card</td><td>5417.8</td><td>1102.93</td><td>0.0</td><td>6520.73</td><td>197.83</td><td>Mar-2019</td><td>Apr-2019</td><td>1</td><td>0.0</td><td>0</td><td>1</td><td>0</td><td>1</td></tr>\n",
       "<tr><td>60615493</td><td>005d5e3c98a159671...</td><td>Staff Accountant</td><td>5</td><td>RENT</td><td>57000.0</td><td>NY</td><td>113xx</td><td>USA</td><td>C</td><td>C5</td><td>Source Verified</td><td>48811.0</td><td>Individual</td><td>null</td><td>null</td><td>9000.0</td><td>9000.0</td><td>3</td><td>14.65</td><td>310.45</td><td>Sep-2015</td><td>Fully Paid</td><td>credit_card</td><td>9000.0</td><td>440.68</td><td>0.0</td><td>9440.68</td><td>8516.65</td><td>Jan-2016</td><td>null</td><td>null</td><td>null</td><td>null</td><td>0</td><td>0</td><td>0</td></tr>\n",
       "<tr><td>15650801</td><td>005daa54678e6fdfe...</td><td>Account Manager</td><td>1</td><td>MORTGAGE</td><td>105000.0</td><td>TX</td><td>761xx</td><td>USA</td><td>B</td><td>B5</td><td>Not Verified</td><td>197073.0</td><td>Individual</td><td>null</td><td>null</td><td>10000.0</td><td>10000.0</td><td>3</td><td>12.99</td><td>336.9</td><td>May-2014</td><td>Charged Off</td><td>debt_consolidation</td><td>1900.02</td><td>795.18</td><td>0.0</td><td>4141.46</td><td>336.9</td><td>Jan-2015</td><td>null</td><td>null</td><td>null</td><td>null</td><td>0</td><td>0</td><td>2</td></tr>\n",
       "<tr><td>55452248</td><td>0061cd647ed984d65...</td><td>Interview Specialist</td><td>10</td><td>MORTGAGE</td><td>34944.0</td><td>FL</td><td>334xx</td><td>USA</td><td>D</td><td>D2</td><td>Verified</td><td>208930.0</td><td>Individual</td><td>null</td><td>null</td><td>8900.0</td><td>8900.0</td><td>3</td><td>16.55</td><td>315.32</td><td>Jul-2015</td><td>Fully Paid</td><td>debt_consolidation</td><td>8900.0</td><td>1772.08</td><td>0.0</td><td>10672.078</td><td>5315.73</td><td>Feb-2017</td><td>null</td><td>null</td><td>null</td><td>null</td><td>0</td><td>0</td><td>0</td></tr>\n",
       "<tr><td>51646280</td><td>0068aeffe996677c2...</td><td>Partner</td><td>10</td><td>MORTGAGE</td><td>120000.0</td><td>AK</td><td>998xx</td><td>USA</td><td>D</td><td>D1</td><td>Not Verified</td><td>719758.0</td><td>Individual</td><td>null</td><td>null</td><td>20000.0</td><td>20000.0</td><td>3</td><td>15.61</td><td>699.3</td><td>Jun-2015</td><td>Fully Paid</td><td>home_improvement</td><td>20000.0</td><td>5157.27</td><td>0.0</td><td>25157.271</td><td>699.11</td><td>Jun-2018</td><td>null</td><td>null</td><td>null</td><td>null</td><td>0</td><td>0</td><td>2</td></tr>\n",
       "<tr><td>49954749</td><td>00710707c563c2119...</td><td>owner</td><td>3</td><td>MORTGAGE</td><td>109000.0</td><td>FL</td><td>324xx</td><td>USA</td><td>B</td><td>B5</td><td>Source Verified</td><td>356897.0</td><td>Individual</td><td>null</td><td>null</td><td>15000.0</td><td>15000.0</td><td>3</td><td>11.53</td><td>494.86</td><td>Jun-2015</td><td>Fully Paid</td><td>debt_consolidation</td><td>15000.0</td><td>2595.47</td><td>0.0</td><td>17595.467</td><td>1857.95</td><td>Oct-2017</td><td>null</td><td>1</td><td>0.0</td><td>0</td><td>0</td><td>0</td><td>0</td></tr>\n",
       "</table>\n",
       "only showing top 20 rows\n"
      ],
      "text/plain": [
       "+---------+--------------------+--------------------+----------+--------------+-------------+-------------+---------------+---------------+-----+---------+-------------------+-----------------------+----------------+------------------+-------------------------+-----------+-------------+---------------+-------------+-------------------+----------+-----------+------------------+------------------------+-----------------------+-----------------------+----------------------+-------------------+-----------------+-----------------+-----------+-----------+----------------------+-------+--------------------+--------------+\n",
       "|  loan_id|           member_id|           emp_title|emp_length|home_ownership|annual_income|address_state|address_zipcode|address_country|grade|sub_grade|verification_status|total_high_credit_limit|application_type|join_annual_income|verification_status_joint|loan_amount|funded_amount|loan_term_years|interest_rate|monthly_installment|issue_date|loan_status|      loan_purpose|total_principal_received|total_interest_received|total_late_fee_received|total_payment_received|last_payment_amount|last_payment_date|next_payment_date|delinq_2yrs|delinq_amnt|mths_since_last_delinq|pub_rec|pub_rec_bankruptcies|inq_last_6mths|\n",
       "+---------+--------------------+--------------------+----------+--------------+-------------+-------------+---------------+---------------+-----+---------+-------------------+-----------------------+----------------+------------------+-------------------------+-----------+-------------+---------------+-------------+-------------------+----------+-----------+------------------+------------------------+-----------------------+-----------------------+----------------------+-------------------+-----------------+-----------------+-----------+-----------+----------------------+-------+--------------------+--------------+\n",
       "| 71175798|000c8875b71a6b47c...|Director of Gvt O...|         1|      MORTGAGE|     100000.0|           CA|          920xx|            USA|    A|       A4|       Not Verified|               761500.0|      Individual|              null|                     null|     3000.0|       3000.0|              3|         7.39|              93.17|  Feb-2016| Fully Paid|debt_consolidation|                  3000.0|                 114.47|                    0.0|               3114.47|            2647.45|         Aug-2016|             null|          1|        0.0|                     0|      0|                   0|             0|\n",
       "|139313300|000fc98fc1ca5faa3...|               coord|        10|      MORTGAGE|     220000.0|           CA|          952xx|            USA|    A|       A3|       Not Verified|               227457.0|       Joint App|          230000.0|                     null|    20000.0|      20000.0|              3|         7.21|             619.47|  Aug-2018|    Current|       credit_card|                 3558.76|                 769.52|                    0.0|               4328.28|             619.47|         Mar-2019|         Apr-2019|       null|       null|                  null|      0|                   0|             0|\n",
       "|143195702|0012728d9f616bdf2...|                null|         6|           OWN|      35000.0|           SC|          294xx|            USA|    A|       A5|       Not Verified|                20900.0|      Individual|              null|                     null|     9000.0|       9000.0|              3|         8.46|             283.95|  Dec-2018|    Current|debt_consolidation|                  666.17|                 181.45|                    0.0|                847.62|             283.95|         Mar-2019|         Apr-2019|       null|       null|                  null|      0|                   0|             0|\n",
       "|  2284564|00151ece27c7ca280...|Northglenn Police...|         8|          RENT|      54000.0|           CO|          802xx|            USA|    C|       C1|       Not Verified|                40650.0|      Individual|              null|                     null|    12800.0|      12800.0|              3|        14.33|             439.53|  Nov-2012| Fully Paid|debt_consolidation|                 12800.0|                2192.68|                    0.0|             14992.676|            7529.95|         Jun-2014|             null|       null|       null|                  null|      0|                   0|             1|\n",
       "|  3845340|002800d49886390d2...|           RehabCare|         2|          RENT|      60000.0|           TX|          787xx|            USA|    D|       D3|       Not Verified|                37248.0|      Individual|              null|                     null|    15000.0|      15000.0|              3|        18.75|             547.95|  Mar-2013|Charged Off|debt_consolidation|                12856.06|                4702.54|                    0.0|              17835.81|             547.95|         Dec-2015|             null|       null|       null|                  null|      0|                   0|             0|\n",
       "|   360493|003715c2aec34dd43...|Apex Technologies...|         1|      MORTGAGE|      90000.0|           PA|          171xx|            USA|    C|       C3|       Not Verified|                   null|      Individual|              null|                     null|    12000.0|      12000.0|              3|        12.41|             400.93|  Oct-2008| Fully Paid|debt_consolidation|                 12000.0|                 208.02|                    0.0|              12208.02|               1.07|         Apr-2009|             null|       null|       null|                  null|      0|                   0|             2|\n",
       "| 95004059|003769d7f54c7859e...|             Trainer|        10|      MORTGAGE|      35000.0|           NC|          282xx|            USA|    E|       E1|           Verified|               184961.0|      Individual|              null|                     null|    10000.0|      10000.0|              5|        22.74|             280.42|  Dec-2016|Charged Off|           medical|                   90.92|                 176.87|                    0.0|               1492.05|             280.42|         Jan-2017|             null|          1|        0.0|                     0|      0|                   0|             0|\n",
       "|142641777|0037bb910c0a758f5...|    Network Engineer|         2|          RENT|     105000.0|           IL|          601xx|            USA|    C|       C3|    Source Verified|                50260.0|      Individual|              null|                     null|     2000.0|       2000.0|              3|        15.02|              69.36|  Oct-2018|    Current|             other|                  227.25|                 116.21|                    0.0|                343.46|              69.36|         Mar-2019|         Apr-2019|       null|       null|                  null|      0|                   0|             0|\n",
       "| 91518424|003d7bee408492f11...|    Flight Attendant|        10|          RENT|      75000.0|           AZ|          852xx|            USA|    A|       A5|       Not Verified|               166387.0|      Individual|              null|                     null|    10000.0|      10000.0|              3|         7.99|             313.32|  Oct-2016|    Current|             other|                 7864.12|                1213.28|                    0.0|                9077.4|             313.32|         Mar-2019|         Apr-2019|       null|       null|                  null|      0|                   0|             0|\n",
       "|116883875|003e1e6cbd2920bbb...|Operations Superv...|         9|      MORTGAGE|      92000.0|           LA|          705xx|            USA|    A|       A5|    Source Verified|               375806.0|      Individual|              null|                     null|    10000.0|      10000.0|              3|         7.97|             313.23|  Aug-2017|    Current|debt_consolidation|                 4980.61|                 970.21|                    0.0|               5950.82|             313.23|         Mar-2019|         Apr-2019|          1|        0.0|                     0|      1|                   1|             0|\n",
       "| 10616863|004017b21bd4d6271...|Regional Rehab Di...|         9|      MORTGAGE|     113000.0|           NC|          276xx|            USA|    C|       C1|       Not Verified|               120587.0|      Individual|              null|                     null|     3000.0|       3000.0|              3|        13.98|             102.51|  Jan-2014| Fully Paid|debt_consolidation|                  3000.0|                 685.71|                   15.0|             3700.7124|              43.24|         Dec-2016|             null|          6|        0.0|                    15|      0|                   0|             0|\n",
       "| 58882363|004dbe6698f1482be...|     Project Manager|         3|      MORTGAGE|     130000.0|           NY|          109xx|            USA|    D|       D4|           Verified|               317868.0|      Individual|              null|                     null|    35000.0|      35000.0|              3|        17.57|             1257.8|  Sep-2015| Fully Paid|       credit_card|                 35000.0|               10246.49|                    0.0|             45246.492|            1257.65|         Sep-2018|             null|       null|       null|                  null|      0|                   0|             2|\n",
       "| 27681731|004f73beb41d739e1...|Staff Research As...|         6|          RENT|      60000.0|           CA|          921xx|            USA|    C|       C4|    Source Verified|                92453.0|      Individual|              null|                     null|    15775.0|      15775.0|              5|        14.49|             371.08|  Sep-2014|    Current|debt_consolidation|                13639.96|                6398.36|                    0.0|              20038.32|             371.08|         Mar-2019|         Apr-2019|       null|       null|                  null|      0|                   0|             0|\n",
       "| 35236401|0059ce602b84a1bdd...|correctional officer|        10|      MORTGAGE|      75000.0|           CA|          933xx|            USA|    D|       D4|           Verified|               130656.0|      Individual|              null|                     null|    31450.0|      31450.0|              3|        17.14|            1123.48|  Dec-2014| Fully Paid|debt_consolidation|                 31450.0|                8693.53|                    0.0|             40143.527|              505.1|         Dec-2017|             null|       null|       null|                  null|      0|                   0|             1|\n",
       "| 83648322|005b4c3db3fce07dc...|      office manager|         9|      MORTGAGE|      61000.0|           FL|          334xx|            USA|    B|       B5|    Source Verified|                28386.0|      Individual|              null|                     null|     6000.0|       6000.0|              3|        11.49|             197.83|  Jun-2016|    Current|       credit_card|                  5417.8|                1102.93|                    0.0|               6520.73|             197.83|         Mar-2019|         Apr-2019|          1|        0.0|                     0|      1|                   0|             1|\n",
       "| 60615493|005d5e3c98a159671...|    Staff Accountant|         5|          RENT|      57000.0|           NY|          113xx|            USA|    C|       C5|    Source Verified|                48811.0|      Individual|              null|                     null|     9000.0|       9000.0|              3|        14.65|             310.45|  Sep-2015| Fully Paid|       credit_card|                  9000.0|                 440.68|                    0.0|               9440.68|            8516.65|         Jan-2016|             null|       null|       null|                  null|      0|                   0|             0|\n",
       "| 15650801|005daa54678e6fdfe...|     Account Manager|         1|      MORTGAGE|     105000.0|           TX|          761xx|            USA|    B|       B5|       Not Verified|               197073.0|      Individual|              null|                     null|    10000.0|      10000.0|              3|        12.99|              336.9|  May-2014|Charged Off|debt_consolidation|                 1900.02|                 795.18|                    0.0|               4141.46|              336.9|         Jan-2015|             null|       null|       null|                  null|      0|                   0|             2|\n",
       "| 55452248|0061cd647ed984d65...|Interview Specialist|        10|      MORTGAGE|      34944.0|           FL|          334xx|            USA|    D|       D2|           Verified|               208930.0|      Individual|              null|                     null|     8900.0|       8900.0|              3|        16.55|             315.32|  Jul-2015| Fully Paid|debt_consolidation|                  8900.0|                1772.08|                    0.0|             10672.078|            5315.73|         Feb-2017|             null|       null|       null|                  null|      0|                   0|             0|\n",
       "| 51646280|0068aeffe996677c2...|             Partner|        10|      MORTGAGE|     120000.0|           AK|          998xx|            USA|    D|       D1|       Not Verified|               719758.0|      Individual|              null|                     null|    20000.0|      20000.0|              3|        15.61|              699.3|  Jun-2015| Fully Paid|  home_improvement|                 20000.0|                5157.27|                    0.0|             25157.271|             699.11|         Jun-2018|             null|       null|       null|                  null|      0|                   0|             2|\n",
       "| 49954749|00710707c563c2119...|               owner|         3|      MORTGAGE|     109000.0|           FL|          324xx|            USA|    B|       B5|    Source Verified|               356897.0|      Individual|              null|                     null|    15000.0|      15000.0|              3|        11.53|             494.86|  Jun-2015| Fully Paid|debt_consolidation|                 15000.0|                2595.47|                    0.0|             17595.467|            1857.95|         Oct-2017|             null|          1|        0.0|                     0|      0|                   0|             0|\n",
       "+---------+--------------------+--------------------+----------+--------------+-------------+-------------+---------------+---------------+-----+---------+-------------------+-----------------------+----------------+------------------+-------------------------+-----------+-------------+---------------+-------------+-------------------+----------+-----------+------------------+------------------------+-----------------------+-----------------------+----------------------+-------------------+-----------------+-----------------+-----------+-----------+----------------------+-------+--------------------+--------------+\n",
       "only showing top 20 rows"
      ]
     },
     "execution_count": 15,
     "metadata": {},
     "output_type": "execute_result"
    }
   ],
   "source": [
    "spark.sql(\"select * from itv006222_lending_club.customers_loan_v\")"
   ]
  },
  {
   "cell_type": "code",
   "execution_count": 19,
   "id": "7e6aa1bd",
   "metadata": {},
   "outputs": [
    {
     "data": {
      "text/html": [
       "<table border='1'>\n",
       "<tr><th></th></tr>\n",
       "</table>\n"
      ],
      "text/plain": [
       "++\n",
       "||\n",
       "++\n",
       "++"
      ]
     },
     "execution_count": 19,
     "metadata": {},
     "output_type": "execute_result"
    }
   ],
   "source": [
    "spark.sql(\"\"\"\n",
    "create table itv006222_lending_club.customers_loan_t as select \n",
    "l.loan_id,\n",
    "c.member_id,\n",
    "c.emp_title,\n",
    "c.emp_length,\n",
    "c.home_ownership,\n",
    "c.annual_income,\n",
    "c.address_state,\n",
    "c.address_zipcode,\n",
    "c.address_country,\n",
    "c.grade,\n",
    "c.sub_grade,\n",
    "c.verification_status,\n",
    "c.total_high_credit_limit,\n",
    "c.application_type,\n",
    "c.join_annual_income,\n",
    "c.verification_status_joint,\n",
    "l.loan_amount,\n",
    "l.funded_amount,\n",
    "l.loan_term_years,\n",
    "l.interest_rate,\n",
    "l.monthly_installment,\n",
    "l.issue_date,\n",
    "l.loan_status,\n",
    "l.loan_purpose,\n",
    "r.total_principal_received,\n",
    "r.total_interest_received,\n",
    "r.total_late_fee_received,\n",
    "r.total_payment_received,\n",
    "r.last_payment_amount,\n",
    "r.last_payment_date,\n",
    "r.next_payment_date,\n",
    "d.delinq_2yrs,\n",
    "d.delinq_amnt,\n",
    "d.mths_since_last_delinq,\n",
    "e.pub_rec,\n",
    "e.pub_rec_bankruptcies,\n",
    "e.inq_last_6mths\n",
    "\n",
    "FROM itv006222_lending_club.customers c\n",
    "LEFT JOIN itv006222_lending_club.loans l ON c.member_id = l.member_id\n",
    "LEFT JOIN itv006222_lending_club.loans_repayments r ON l.loan_id = r.loan_id\n",
    "LEFT JOIN itv006222_lending_club.loans_defaulters_delinq d ON c.member_id = d.member_id\n",
    "LEFT JOIN itv006222_lending_club.loans_defaulters_detail_rec_enq e ON c.member_id = e.member_id\n",
    "\n",
    "\"\"\")"
   ]
  },
  {
   "cell_type": "code",
   "execution_count": 20,
   "id": "8e0d8823",
   "metadata": {},
   "outputs": [
    {
     "data": {
      "text/html": [
       "<table border='1'>\n",
       "<tr><th>loan_id</th><th>member_id</th><th>emp_title</th><th>emp_length</th><th>home_ownership</th><th>annual_income</th><th>address_state</th><th>address_zipcode</th><th>address_country</th><th>grade</th><th>sub_grade</th><th>verification_status</th><th>total_high_credit_limit</th><th>application_type</th><th>join_annual_income</th><th>verification_status_joint</th><th>loan_amount</th><th>funded_amount</th><th>loan_term_years</th><th>interest_rate</th><th>monthly_installment</th><th>issue_date</th><th>loan_status</th><th>loan_purpose</th><th>total_principal_received</th><th>total_interest_received</th><th>total_late_fee_received</th><th>total_payment_received</th><th>last_payment_amount</th><th>last_payment_date</th><th>next_payment_date</th><th>delinq_2yrs</th><th>delinq_amnt</th><th>mths_since_last_delinq</th><th>pub_rec</th><th>pub_rec_bankruptcies</th><th>inq_last_6mths</th></tr>\n",
       "<tr><td>71175798</td><td>000c8875b71a6b47c...</td><td>Director of Gvt O...</td><td>1</td><td>MORTGAGE</td><td>100000.0</td><td>CA</td><td>920xx</td><td>USA</td><td>A</td><td>A4</td><td>Not Verified</td><td>761500.0</td><td>Individual</td><td>null</td><td>null</td><td>3000.0</td><td>3000.0</td><td>3</td><td>7.39</td><td>93.17</td><td>Feb-2016</td><td>Fully Paid</td><td>debt_consolidation</td><td>3000.0</td><td>114.47</td><td>0.0</td><td>3114.47</td><td>2647.45</td><td>Aug-2016</td><td>null</td><td>1</td><td>0.0</td><td>0</td><td>0</td><td>0</td><td>0</td></tr>\n",
       "<tr><td>139313300</td><td>000fc98fc1ca5faa3...</td><td>coord</td><td>10</td><td>MORTGAGE</td><td>220000.0</td><td>CA</td><td>952xx</td><td>USA</td><td>A</td><td>A3</td><td>Not Verified</td><td>227457.0</td><td>Joint App</td><td>230000.0</td><td>null</td><td>20000.0</td><td>20000.0</td><td>3</td><td>7.21</td><td>619.47</td><td>Aug-2018</td><td>Current</td><td>credit_card</td><td>3558.76</td><td>769.52</td><td>0.0</td><td>4328.28</td><td>619.47</td><td>Mar-2019</td><td>Apr-2019</td><td>null</td><td>null</td><td>null</td><td>0</td><td>0</td><td>0</td></tr>\n",
       "<tr><td>143195702</td><td>0012728d9f616bdf2...</td><td>null</td><td>6</td><td>OWN</td><td>35000.0</td><td>SC</td><td>294xx</td><td>USA</td><td>A</td><td>A5</td><td>Not Verified</td><td>20900.0</td><td>Individual</td><td>null</td><td>null</td><td>9000.0</td><td>9000.0</td><td>3</td><td>8.46</td><td>283.95</td><td>Dec-2018</td><td>Current</td><td>debt_consolidation</td><td>666.17</td><td>181.45</td><td>0.0</td><td>847.62</td><td>283.95</td><td>Mar-2019</td><td>Apr-2019</td><td>null</td><td>null</td><td>null</td><td>0</td><td>0</td><td>0</td></tr>\n",
       "<tr><td>2284564</td><td>00151ece27c7ca280...</td><td>Northglenn Police...</td><td>8</td><td>RENT</td><td>54000.0</td><td>CO</td><td>802xx</td><td>USA</td><td>C</td><td>C1</td><td>Not Verified</td><td>40650.0</td><td>Individual</td><td>null</td><td>null</td><td>12800.0</td><td>12800.0</td><td>3</td><td>14.33</td><td>439.53</td><td>Nov-2012</td><td>Fully Paid</td><td>debt_consolidation</td><td>12800.0</td><td>2192.68</td><td>0.0</td><td>14992.676</td><td>7529.95</td><td>Jun-2014</td><td>null</td><td>null</td><td>null</td><td>null</td><td>0</td><td>0</td><td>1</td></tr>\n",
       "<tr><td>3845340</td><td>002800d49886390d2...</td><td>RehabCare</td><td>2</td><td>RENT</td><td>60000.0</td><td>TX</td><td>787xx</td><td>USA</td><td>D</td><td>D3</td><td>Not Verified</td><td>37248.0</td><td>Individual</td><td>null</td><td>null</td><td>15000.0</td><td>15000.0</td><td>3</td><td>18.75</td><td>547.95</td><td>Mar-2013</td><td>Charged Off</td><td>debt_consolidation</td><td>12856.06</td><td>4702.54</td><td>0.0</td><td>17835.81</td><td>547.95</td><td>Dec-2015</td><td>null</td><td>null</td><td>null</td><td>null</td><td>0</td><td>0</td><td>0</td></tr>\n",
       "<tr><td>360493</td><td>003715c2aec34dd43...</td><td>Apex Technologies...</td><td>1</td><td>MORTGAGE</td><td>90000.0</td><td>PA</td><td>171xx</td><td>USA</td><td>C</td><td>C3</td><td>Not Verified</td><td>null</td><td>Individual</td><td>null</td><td>null</td><td>12000.0</td><td>12000.0</td><td>3</td><td>12.41</td><td>400.93</td><td>Oct-2008</td><td>Fully Paid</td><td>debt_consolidation</td><td>12000.0</td><td>208.02</td><td>0.0</td><td>12208.02</td><td>1.07</td><td>Apr-2009</td><td>null</td><td>null</td><td>null</td><td>null</td><td>0</td><td>0</td><td>2</td></tr>\n",
       "<tr><td>95004059</td><td>003769d7f54c7859e...</td><td>Trainer</td><td>10</td><td>MORTGAGE</td><td>35000.0</td><td>NC</td><td>282xx</td><td>USA</td><td>E</td><td>E1</td><td>Verified</td><td>184961.0</td><td>Individual</td><td>null</td><td>null</td><td>10000.0</td><td>10000.0</td><td>5</td><td>22.74</td><td>280.42</td><td>Dec-2016</td><td>Charged Off</td><td>medical</td><td>90.92</td><td>176.87</td><td>0.0</td><td>1492.05</td><td>280.42</td><td>Jan-2017</td><td>null</td><td>1</td><td>0.0</td><td>0</td><td>0</td><td>0</td><td>0</td></tr>\n",
       "<tr><td>142641777</td><td>0037bb910c0a758f5...</td><td>Network Engineer</td><td>2</td><td>RENT</td><td>105000.0</td><td>IL</td><td>601xx</td><td>USA</td><td>C</td><td>C3</td><td>Source Verified</td><td>50260.0</td><td>Individual</td><td>null</td><td>null</td><td>2000.0</td><td>2000.0</td><td>3</td><td>15.02</td><td>69.36</td><td>Oct-2018</td><td>Current</td><td>other</td><td>227.25</td><td>116.21</td><td>0.0</td><td>343.46</td><td>69.36</td><td>Mar-2019</td><td>Apr-2019</td><td>null</td><td>null</td><td>null</td><td>0</td><td>0</td><td>0</td></tr>\n",
       "<tr><td>91518424</td><td>003d7bee408492f11...</td><td>Flight Attendant</td><td>10</td><td>RENT</td><td>75000.0</td><td>AZ</td><td>852xx</td><td>USA</td><td>A</td><td>A5</td><td>Not Verified</td><td>166387.0</td><td>Individual</td><td>null</td><td>null</td><td>10000.0</td><td>10000.0</td><td>3</td><td>7.99</td><td>313.32</td><td>Oct-2016</td><td>Current</td><td>other</td><td>7864.12</td><td>1213.28</td><td>0.0</td><td>9077.4</td><td>313.32</td><td>Mar-2019</td><td>Apr-2019</td><td>null</td><td>null</td><td>null</td><td>0</td><td>0</td><td>0</td></tr>\n",
       "<tr><td>116883875</td><td>003e1e6cbd2920bbb...</td><td>Operations Superv...</td><td>9</td><td>MORTGAGE</td><td>92000.0</td><td>LA</td><td>705xx</td><td>USA</td><td>A</td><td>A5</td><td>Source Verified</td><td>375806.0</td><td>Individual</td><td>null</td><td>null</td><td>10000.0</td><td>10000.0</td><td>3</td><td>7.97</td><td>313.23</td><td>Aug-2017</td><td>Current</td><td>debt_consolidation</td><td>4980.61</td><td>970.21</td><td>0.0</td><td>5950.82</td><td>313.23</td><td>Mar-2019</td><td>Apr-2019</td><td>1</td><td>0.0</td><td>0</td><td>1</td><td>1</td><td>0</td></tr>\n",
       "<tr><td>10616863</td><td>004017b21bd4d6271...</td><td>Regional Rehab Di...</td><td>9</td><td>MORTGAGE</td><td>113000.0</td><td>NC</td><td>276xx</td><td>USA</td><td>C</td><td>C1</td><td>Not Verified</td><td>120587.0</td><td>Individual</td><td>null</td><td>null</td><td>3000.0</td><td>3000.0</td><td>3</td><td>13.98</td><td>102.51</td><td>Jan-2014</td><td>Fully Paid</td><td>debt_consolidation</td><td>3000.0</td><td>685.71</td><td>15.0</td><td>3700.7124</td><td>43.24</td><td>Dec-2016</td><td>null</td><td>6</td><td>0.0</td><td>15</td><td>0</td><td>0</td><td>0</td></tr>\n",
       "<tr><td>58882363</td><td>004dbe6698f1482be...</td><td>Project Manager</td><td>3</td><td>MORTGAGE</td><td>130000.0</td><td>NY</td><td>109xx</td><td>USA</td><td>D</td><td>D4</td><td>Verified</td><td>317868.0</td><td>Individual</td><td>null</td><td>null</td><td>35000.0</td><td>35000.0</td><td>3</td><td>17.57</td><td>1257.8</td><td>Sep-2015</td><td>Fully Paid</td><td>credit_card</td><td>35000.0</td><td>10246.49</td><td>0.0</td><td>45246.492</td><td>1257.65</td><td>Sep-2018</td><td>null</td><td>null</td><td>null</td><td>null</td><td>0</td><td>0</td><td>2</td></tr>\n",
       "<tr><td>27681731</td><td>004f73beb41d739e1...</td><td>Staff Research As...</td><td>6</td><td>RENT</td><td>60000.0</td><td>CA</td><td>921xx</td><td>USA</td><td>C</td><td>C4</td><td>Source Verified</td><td>92453.0</td><td>Individual</td><td>null</td><td>null</td><td>15775.0</td><td>15775.0</td><td>5</td><td>14.49</td><td>371.08</td><td>Sep-2014</td><td>Current</td><td>debt_consolidation</td><td>13639.96</td><td>6398.36</td><td>0.0</td><td>20038.32</td><td>371.08</td><td>Mar-2019</td><td>Apr-2019</td><td>null</td><td>null</td><td>null</td><td>0</td><td>0</td><td>0</td></tr>\n",
       "<tr><td>35236401</td><td>0059ce602b84a1bdd...</td><td>correctional officer</td><td>10</td><td>MORTGAGE</td><td>75000.0</td><td>CA</td><td>933xx</td><td>USA</td><td>D</td><td>D4</td><td>Verified</td><td>130656.0</td><td>Individual</td><td>null</td><td>null</td><td>31450.0</td><td>31450.0</td><td>3</td><td>17.14</td><td>1123.48</td><td>Dec-2014</td><td>Fully Paid</td><td>debt_consolidation</td><td>31450.0</td><td>8693.53</td><td>0.0</td><td>40143.527</td><td>505.1</td><td>Dec-2017</td><td>null</td><td>null</td><td>null</td><td>null</td><td>0</td><td>0</td><td>1</td></tr>\n",
       "<tr><td>83648322</td><td>005b4c3db3fce07dc...</td><td>office manager</td><td>9</td><td>MORTGAGE</td><td>61000.0</td><td>FL</td><td>334xx</td><td>USA</td><td>B</td><td>B5</td><td>Source Verified</td><td>28386.0</td><td>Individual</td><td>null</td><td>null</td><td>6000.0</td><td>6000.0</td><td>3</td><td>11.49</td><td>197.83</td><td>Jun-2016</td><td>Current</td><td>credit_card</td><td>5417.8</td><td>1102.93</td><td>0.0</td><td>6520.73</td><td>197.83</td><td>Mar-2019</td><td>Apr-2019</td><td>1</td><td>0.0</td><td>0</td><td>1</td><td>0</td><td>1</td></tr>\n",
       "<tr><td>60615493</td><td>005d5e3c98a159671...</td><td>Staff Accountant</td><td>5</td><td>RENT</td><td>57000.0</td><td>NY</td><td>113xx</td><td>USA</td><td>C</td><td>C5</td><td>Source Verified</td><td>48811.0</td><td>Individual</td><td>null</td><td>null</td><td>9000.0</td><td>9000.0</td><td>3</td><td>14.65</td><td>310.45</td><td>Sep-2015</td><td>Fully Paid</td><td>credit_card</td><td>9000.0</td><td>440.68</td><td>0.0</td><td>9440.68</td><td>8516.65</td><td>Jan-2016</td><td>null</td><td>null</td><td>null</td><td>null</td><td>0</td><td>0</td><td>0</td></tr>\n",
       "<tr><td>15650801</td><td>005daa54678e6fdfe...</td><td>Account Manager</td><td>1</td><td>MORTGAGE</td><td>105000.0</td><td>TX</td><td>761xx</td><td>USA</td><td>B</td><td>B5</td><td>Not Verified</td><td>197073.0</td><td>Individual</td><td>null</td><td>null</td><td>10000.0</td><td>10000.0</td><td>3</td><td>12.99</td><td>336.9</td><td>May-2014</td><td>Charged Off</td><td>debt_consolidation</td><td>1900.02</td><td>795.18</td><td>0.0</td><td>4141.46</td><td>336.9</td><td>Jan-2015</td><td>null</td><td>null</td><td>null</td><td>null</td><td>0</td><td>0</td><td>2</td></tr>\n",
       "<tr><td>55452248</td><td>0061cd647ed984d65...</td><td>Interview Specialist</td><td>10</td><td>MORTGAGE</td><td>34944.0</td><td>FL</td><td>334xx</td><td>USA</td><td>D</td><td>D2</td><td>Verified</td><td>208930.0</td><td>Individual</td><td>null</td><td>null</td><td>8900.0</td><td>8900.0</td><td>3</td><td>16.55</td><td>315.32</td><td>Jul-2015</td><td>Fully Paid</td><td>debt_consolidation</td><td>8900.0</td><td>1772.08</td><td>0.0</td><td>10672.078</td><td>5315.73</td><td>Feb-2017</td><td>null</td><td>null</td><td>null</td><td>null</td><td>0</td><td>0</td><td>0</td></tr>\n",
       "<tr><td>51646280</td><td>0068aeffe996677c2...</td><td>Partner</td><td>10</td><td>MORTGAGE</td><td>120000.0</td><td>AK</td><td>998xx</td><td>USA</td><td>D</td><td>D1</td><td>Not Verified</td><td>719758.0</td><td>Individual</td><td>null</td><td>null</td><td>20000.0</td><td>20000.0</td><td>3</td><td>15.61</td><td>699.3</td><td>Jun-2015</td><td>Fully Paid</td><td>home_improvement</td><td>20000.0</td><td>5157.27</td><td>0.0</td><td>25157.271</td><td>699.11</td><td>Jun-2018</td><td>null</td><td>null</td><td>null</td><td>null</td><td>0</td><td>0</td><td>2</td></tr>\n",
       "<tr><td>49954749</td><td>00710707c563c2119...</td><td>owner</td><td>3</td><td>MORTGAGE</td><td>109000.0</td><td>FL</td><td>324xx</td><td>USA</td><td>B</td><td>B5</td><td>Source Verified</td><td>356897.0</td><td>Individual</td><td>null</td><td>null</td><td>15000.0</td><td>15000.0</td><td>3</td><td>11.53</td><td>494.86</td><td>Jun-2015</td><td>Fully Paid</td><td>debt_consolidation</td><td>15000.0</td><td>2595.47</td><td>0.0</td><td>17595.467</td><td>1857.95</td><td>Oct-2017</td><td>null</td><td>1</td><td>0.0</td><td>0</td><td>0</td><td>0</td><td>0</td></tr>\n",
       "</table>\n",
       "only showing top 20 rows\n"
      ],
      "text/plain": [
       "+---------+--------------------+--------------------+----------+--------------+-------------+-------------+---------------+---------------+-----+---------+-------------------+-----------------------+----------------+------------------+-------------------------+-----------+-------------+---------------+-------------+-------------------+----------+-----------+------------------+------------------------+-----------------------+-----------------------+----------------------+-------------------+-----------------+-----------------+-----------+-----------+----------------------+-------+--------------------+--------------+\n",
       "|  loan_id|           member_id|           emp_title|emp_length|home_ownership|annual_income|address_state|address_zipcode|address_country|grade|sub_grade|verification_status|total_high_credit_limit|application_type|join_annual_income|verification_status_joint|loan_amount|funded_amount|loan_term_years|interest_rate|monthly_installment|issue_date|loan_status|      loan_purpose|total_principal_received|total_interest_received|total_late_fee_received|total_payment_received|last_payment_amount|last_payment_date|next_payment_date|delinq_2yrs|delinq_amnt|mths_since_last_delinq|pub_rec|pub_rec_bankruptcies|inq_last_6mths|\n",
       "+---------+--------------------+--------------------+----------+--------------+-------------+-------------+---------------+---------------+-----+---------+-------------------+-----------------------+----------------+------------------+-------------------------+-----------+-------------+---------------+-------------+-------------------+----------+-----------+------------------+------------------------+-----------------------+-----------------------+----------------------+-------------------+-----------------+-----------------+-----------+-----------+----------------------+-------+--------------------+--------------+\n",
       "| 71175798|000c8875b71a6b47c...|Director of Gvt O...|         1|      MORTGAGE|     100000.0|           CA|          920xx|            USA|    A|       A4|       Not Verified|               761500.0|      Individual|              null|                     null|     3000.0|       3000.0|              3|         7.39|              93.17|  Feb-2016| Fully Paid|debt_consolidation|                  3000.0|                 114.47|                    0.0|               3114.47|            2647.45|         Aug-2016|             null|          1|        0.0|                     0|      0|                   0|             0|\n",
       "|139313300|000fc98fc1ca5faa3...|               coord|        10|      MORTGAGE|     220000.0|           CA|          952xx|            USA|    A|       A3|       Not Verified|               227457.0|       Joint App|          230000.0|                     null|    20000.0|      20000.0|              3|         7.21|             619.47|  Aug-2018|    Current|       credit_card|                 3558.76|                 769.52|                    0.0|               4328.28|             619.47|         Mar-2019|         Apr-2019|       null|       null|                  null|      0|                   0|             0|\n",
       "|143195702|0012728d9f616bdf2...|                null|         6|           OWN|      35000.0|           SC|          294xx|            USA|    A|       A5|       Not Verified|                20900.0|      Individual|              null|                     null|     9000.0|       9000.0|              3|         8.46|             283.95|  Dec-2018|    Current|debt_consolidation|                  666.17|                 181.45|                    0.0|                847.62|             283.95|         Mar-2019|         Apr-2019|       null|       null|                  null|      0|                   0|             0|\n",
       "|  2284564|00151ece27c7ca280...|Northglenn Police...|         8|          RENT|      54000.0|           CO|          802xx|            USA|    C|       C1|       Not Verified|                40650.0|      Individual|              null|                     null|    12800.0|      12800.0|              3|        14.33|             439.53|  Nov-2012| Fully Paid|debt_consolidation|                 12800.0|                2192.68|                    0.0|             14992.676|            7529.95|         Jun-2014|             null|       null|       null|                  null|      0|                   0|             1|\n",
       "|  3845340|002800d49886390d2...|           RehabCare|         2|          RENT|      60000.0|           TX|          787xx|            USA|    D|       D3|       Not Verified|                37248.0|      Individual|              null|                     null|    15000.0|      15000.0|              3|        18.75|             547.95|  Mar-2013|Charged Off|debt_consolidation|                12856.06|                4702.54|                    0.0|              17835.81|             547.95|         Dec-2015|             null|       null|       null|                  null|      0|                   0|             0|\n",
       "|   360493|003715c2aec34dd43...|Apex Technologies...|         1|      MORTGAGE|      90000.0|           PA|          171xx|            USA|    C|       C3|       Not Verified|                   null|      Individual|              null|                     null|    12000.0|      12000.0|              3|        12.41|             400.93|  Oct-2008| Fully Paid|debt_consolidation|                 12000.0|                 208.02|                    0.0|              12208.02|               1.07|         Apr-2009|             null|       null|       null|                  null|      0|                   0|             2|\n",
       "| 95004059|003769d7f54c7859e...|             Trainer|        10|      MORTGAGE|      35000.0|           NC|          282xx|            USA|    E|       E1|           Verified|               184961.0|      Individual|              null|                     null|    10000.0|      10000.0|              5|        22.74|             280.42|  Dec-2016|Charged Off|           medical|                   90.92|                 176.87|                    0.0|               1492.05|             280.42|         Jan-2017|             null|          1|        0.0|                     0|      0|                   0|             0|\n",
       "|142641777|0037bb910c0a758f5...|    Network Engineer|         2|          RENT|     105000.0|           IL|          601xx|            USA|    C|       C3|    Source Verified|                50260.0|      Individual|              null|                     null|     2000.0|       2000.0|              3|        15.02|              69.36|  Oct-2018|    Current|             other|                  227.25|                 116.21|                    0.0|                343.46|              69.36|         Mar-2019|         Apr-2019|       null|       null|                  null|      0|                   0|             0|\n",
       "| 91518424|003d7bee408492f11...|    Flight Attendant|        10|          RENT|      75000.0|           AZ|          852xx|            USA|    A|       A5|       Not Verified|               166387.0|      Individual|              null|                     null|    10000.0|      10000.0|              3|         7.99|             313.32|  Oct-2016|    Current|             other|                 7864.12|                1213.28|                    0.0|                9077.4|             313.32|         Mar-2019|         Apr-2019|       null|       null|                  null|      0|                   0|             0|\n",
       "|116883875|003e1e6cbd2920bbb...|Operations Superv...|         9|      MORTGAGE|      92000.0|           LA|          705xx|            USA|    A|       A5|    Source Verified|               375806.0|      Individual|              null|                     null|    10000.0|      10000.0|              3|         7.97|             313.23|  Aug-2017|    Current|debt_consolidation|                 4980.61|                 970.21|                    0.0|               5950.82|             313.23|         Mar-2019|         Apr-2019|          1|        0.0|                     0|      1|                   1|             0|\n",
       "| 10616863|004017b21bd4d6271...|Regional Rehab Di...|         9|      MORTGAGE|     113000.0|           NC|          276xx|            USA|    C|       C1|       Not Verified|               120587.0|      Individual|              null|                     null|     3000.0|       3000.0|              3|        13.98|             102.51|  Jan-2014| Fully Paid|debt_consolidation|                  3000.0|                 685.71|                   15.0|             3700.7124|              43.24|         Dec-2016|             null|          6|        0.0|                    15|      0|                   0|             0|\n",
       "| 58882363|004dbe6698f1482be...|     Project Manager|         3|      MORTGAGE|     130000.0|           NY|          109xx|            USA|    D|       D4|           Verified|               317868.0|      Individual|              null|                     null|    35000.0|      35000.0|              3|        17.57|             1257.8|  Sep-2015| Fully Paid|       credit_card|                 35000.0|               10246.49|                    0.0|             45246.492|            1257.65|         Sep-2018|             null|       null|       null|                  null|      0|                   0|             2|\n",
       "| 27681731|004f73beb41d739e1...|Staff Research As...|         6|          RENT|      60000.0|           CA|          921xx|            USA|    C|       C4|    Source Verified|                92453.0|      Individual|              null|                     null|    15775.0|      15775.0|              5|        14.49|             371.08|  Sep-2014|    Current|debt_consolidation|                13639.96|                6398.36|                    0.0|              20038.32|             371.08|         Mar-2019|         Apr-2019|       null|       null|                  null|      0|                   0|             0|\n",
       "| 35236401|0059ce602b84a1bdd...|correctional officer|        10|      MORTGAGE|      75000.0|           CA|          933xx|            USA|    D|       D4|           Verified|               130656.0|      Individual|              null|                     null|    31450.0|      31450.0|              3|        17.14|            1123.48|  Dec-2014| Fully Paid|debt_consolidation|                 31450.0|                8693.53|                    0.0|             40143.527|              505.1|         Dec-2017|             null|       null|       null|                  null|      0|                   0|             1|\n",
       "| 83648322|005b4c3db3fce07dc...|      office manager|         9|      MORTGAGE|      61000.0|           FL|          334xx|            USA|    B|       B5|    Source Verified|                28386.0|      Individual|              null|                     null|     6000.0|       6000.0|              3|        11.49|             197.83|  Jun-2016|    Current|       credit_card|                  5417.8|                1102.93|                    0.0|               6520.73|             197.83|         Mar-2019|         Apr-2019|          1|        0.0|                     0|      1|                   0|             1|\n",
       "| 60615493|005d5e3c98a159671...|    Staff Accountant|         5|          RENT|      57000.0|           NY|          113xx|            USA|    C|       C5|    Source Verified|                48811.0|      Individual|              null|                     null|     9000.0|       9000.0|              3|        14.65|             310.45|  Sep-2015| Fully Paid|       credit_card|                  9000.0|                 440.68|                    0.0|               9440.68|            8516.65|         Jan-2016|             null|       null|       null|                  null|      0|                   0|             0|\n",
       "| 15650801|005daa54678e6fdfe...|     Account Manager|         1|      MORTGAGE|     105000.0|           TX|          761xx|            USA|    B|       B5|       Not Verified|               197073.0|      Individual|              null|                     null|    10000.0|      10000.0|              3|        12.99|              336.9|  May-2014|Charged Off|debt_consolidation|                 1900.02|                 795.18|                    0.0|               4141.46|              336.9|         Jan-2015|             null|       null|       null|                  null|      0|                   0|             2|\n",
       "| 55452248|0061cd647ed984d65...|Interview Specialist|        10|      MORTGAGE|      34944.0|           FL|          334xx|            USA|    D|       D2|           Verified|               208930.0|      Individual|              null|                     null|     8900.0|       8900.0|              3|        16.55|             315.32|  Jul-2015| Fully Paid|debt_consolidation|                  8900.0|                1772.08|                    0.0|             10672.078|            5315.73|         Feb-2017|             null|       null|       null|                  null|      0|                   0|             0|\n",
       "| 51646280|0068aeffe996677c2...|             Partner|        10|      MORTGAGE|     120000.0|           AK|          998xx|            USA|    D|       D1|       Not Verified|               719758.0|      Individual|              null|                     null|    20000.0|      20000.0|              3|        15.61|              699.3|  Jun-2015| Fully Paid|  home_improvement|                 20000.0|                5157.27|                    0.0|             25157.271|             699.11|         Jun-2018|             null|       null|       null|                  null|      0|                   0|             2|\n",
       "| 49954749|00710707c563c2119...|               owner|         3|      MORTGAGE|     109000.0|           FL|          324xx|            USA|    B|       B5|    Source Verified|               356897.0|      Individual|              null|                     null|    15000.0|      15000.0|              3|        11.53|             494.86|  Jun-2015| Fully Paid|debt_consolidation|                 15000.0|                2595.47|                    0.0|             17595.467|            1857.95|         Oct-2017|             null|          1|        0.0|                     0|      0|                   0|             0|\n",
       "+---------+--------------------+--------------------+----------+--------------+-------------+-------------+---------------+---------------+-----+---------+-------------------+-----------------------+----------------+------------------+-------------------------+-----------+-------------+---------------+-------------+-------------------+----------+-----------+------------------+------------------------+-----------------------+-----------------------+----------------------+-------------------+-----------------+-----------------+-----------+-----------+----------------------+-------+--------------------+--------------+\n",
       "only showing top 20 rows"
      ]
     },
     "execution_count": 20,
     "metadata": {},
     "output_type": "execute_result"
    }
   ],
   "source": [
    "spark.sql(\"select * from itv006222_lending_club.customers_loan_t\")"
   ]
  },
  {
   "cell_type": "code",
   "execution_count": null,
   "id": "3e7375b4",
   "metadata": {},
   "outputs": [],
   "source": []
  }
 ],
 "metadata": {
  "kernelspec": {
   "display_name": "Pyspark 3",
   "language": "python",
   "name": "pyspark3"
  },
  "language_info": {
   "codemirror_mode": {
    "name": "ipython",
    "version": 3
   },
   "file_extension": ".py",
   "mimetype": "text/x-python",
   "name": "python",
   "nbconvert_exporter": "python",
   "pygments_lexer": "ipython3",
   "version": "3.6.12"
  }
 },
 "nbformat": 4,
 "nbformat_minor": 5
}
