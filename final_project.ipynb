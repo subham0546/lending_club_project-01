{
 "cells": [
  {
   "cell_type": "code",
   "execution_count": 32,
   "id": "fd55a8ea",
   "metadata": {},
   "outputs": [],
   "source": [
    "from pyspark.sql import SparkSession\n",
    "import getpass\n",
    "username = getpass.getuser()\n",
    "spark = SparkSession. \\\n",
    "        builder. \\\n",
    "        config('spark.ui.port','0'). \\\n",
    "        config('spark.shuffle.useOldFetchProtocol','true'). \\\n",
    "        config(\"spark.sql.warehouse.dir\", f\"/user/{username}/warehouse\"). \\\n",
    "        enableHiveSupport(). \\\n",
    "        master('yarn'). \\\n",
    "        getOrCreate()"
   ]
  },
  {
   "cell_type": "code",
   "execution_count": 33,
   "id": "150d0c11",
   "metadata": {},
   "outputs": [],
   "source": [
    "spark.conf.set(\"spark.sql.unacceptable_rated_pts\",0)\n",
    "spark.conf.set(\"spark.sql.very_bad_rated_pts\",100)\n",
    "spark.conf.set(\"spark.sql.bad_rated_pts\",250)\n",
    "spark.conf.set(\"spark.sql.good_rated_pts\",500)\n",
    "spark.conf.set(\"spark.sql.very_good_rated_pts\",650)\n",
    "spark.conf.set(\"spark.sql.excellent_rated_pts\",800)"
   ]
  },
  {
   "cell_type": "code",
   "execution_count": 34,
   "id": "46f9a224",
   "metadata": {},
   "outputs": [],
   "source": [
    "spark.conf.set(\"spark.sql.unacceptable_grade_pts\",750)\n",
    "spark.conf.set(\"spark.sql.very_bad_grade_pts\",1000)\n",
    "spark.conf.set(\"spark.sql.bad_grade_pts\",1500)\n",
    "spark.conf.set(\"spark.sql.good_grade_pts\",2000)\n",
    "spark.conf.set(\"spark.sql.very_good_grade_pts\",2500)"
   ]
  },
  {
   "cell_type": "markdown",
   "id": "0ac767b0",
   "metadata": {},
   "source": [
    "The tables required to calculate the loan score \n",
    "\n",
    "customers_new ,\n",
    "loans ,\n",
    "loans_repayments ,\n",
    "loans_defaulters_delinq_new ,\n",
    "loans_defaulters_detail_rec_enq_new\n"
   ]
  },
  {
   "cell_type": "code",
   "execution_count": 35,
   "id": "7125a8c9",
   "metadata": {},
   "outputs": [],
   "source": [
    "bad_customer_data_final_df = spark.read \\\n",
    ".format(\"csv\") \\\n",
    ".option(\"header\", True) \\\n",
    ".option(\"inferSchema\", True) \\\n",
    ".load(\"/public/trendytech/lendingclubproject/bad/bad_customer_data_final\")"
   ]
  },
  {
   "cell_type": "code",
   "execution_count": 36,
   "id": "345e69a5",
   "metadata": {},
   "outputs": [],
   "source": [
    "bad_customer_data_final_df.createOrReplaceTempView(\"bad_data_customer\")"
   ]
  },
  {
   "cell_type": "code",
   "execution_count": 37,
   "id": "67b2cc81",
   "metadata": {},
   "outputs": [],
   "source": [
    "ph_df = spark.sql(\"select c.member_id, \\\n",
    "case \\\n",
    "    when p.last_payment_amount < (c.monthly_installment * 0.5) then ${spark.sql.very_bad_rated_pts} \\\n",
    "    when p.last_payment_amount >= (c.monthly_installment * 0.5) and p.last_payment_amount < c.monthly_installment then ${spark.sql.bad_rated_pts} \\\n",
    "    when (p.last_payment_amount = (c.monthly_installment)) then ${spark.sql.good_rated_pts} \\\n",
    "    when p.last_payment_amount > (c.monthly_installment ) and p.last_payment_amount <= (c.monthly_installment * 1.50) then ${spark.sql.very_good_rated_pts} \\\n",
    "    when p.last_payment_amount > (c.monthly_installment * 1.50) then ${spark.sql.excellent_rated_pts} \\\n",
    "    else ${spark.sql.unacceptable_rated_pts} \\\n",
    "end as last_payment_pts, \\\n",
    "case \\\n",
    "    when p.total_payment_received >= (c.funded_amount * 0.50) then ${spark.sql.very_good_rated_pts} \\\n",
    "    when p.total_payment_received < (c.funded_amount * 0.50) and p.total_payment_received > 0 then ${spark.sql.good_rated_pts} \\\n",
    "    when p.total_payment_received = 0 or (p.total_payment_received) is null then ${spark.sql.unacceptable_rated_pts} \\\n",
    "    end as total_payment_pts \\\n",
    "from itv006222_lending_club.loans_repayments p \\\n",
    "inner join itv006222_lending_club.loans c on c.loan_id = p.loan_id where member_id NOT IN (select member_id from bad_data_customer)\") \\"
   ]
  },
  {
   "cell_type": "code",
   "execution_count": 38,
   "id": "36e6f8cc",
   "metadata": {},
   "outputs": [],
   "source": [
    "ph_df.createOrReplaceTempView(\"ph_pts\")"
   ]
  },
  {
   "cell_type": "code",
   "execution_count": 39,
   "id": "fab4ac0d",
   "metadata": {},
   "outputs": [
    {
     "data": {
      "text/html": [
       "<table border='1'>\n",
       "<tr><th>member_id</th><th>last_payment_pts</th><th>total_payment_pts</th></tr>\n",
       "<tr><td>dcec9334e70f1cc95...</td><td>800</td><td>650</td></tr>\n",
       "<tr><td>fc58ca61f51f9dcac...</td><td>500</td><td>650</td></tr>\n",
       "<tr><td>2fb62a6ca51063b11...</td><td>500</td><td>650</td></tr>\n",
       "<tr><td>488268a5531951622...</td><td>800</td><td>650</td></tr>\n",
       "<tr><td>ade6026208e48f5f9...</td><td>500</td><td>650</td></tr>\n",
       "<tr><td>7c8b0ca6acddfaeb1...</td><td>800</td><td>650</td></tr>\n",
       "<tr><td>a707b7fe7c38bad65...</td><td>800</td><td>650</td></tr>\n",
       "<tr><td>1df639cddea30c288...</td><td>800</td><td>650</td></tr>\n",
       "<tr><td>22d67005e12d8726d...</td><td>500</td><td>650</td></tr>\n",
       "<tr><td>009cf312bd46551b4...</td><td>500</td><td>650</td></tr>\n",
       "<tr><td>2d995d383622fa80e...</td><td>500</td><td>650</td></tr>\n",
       "<tr><td>88b97663d2562f239...</td><td>500</td><td>650</td></tr>\n",
       "<tr><td>097d871ba6f21ee37...</td><td>500</td><td>650</td></tr>\n",
       "<tr><td>82e698108e1b8b88a...</td><td>500</td><td>650</td></tr>\n",
       "<tr><td>9e89f004a01479234...</td><td>500</td><td>650</td></tr>\n",
       "<tr><td>28ea534e78570f8d1...</td><td>800</td><td>650</td></tr>\n",
       "<tr><td>27a6888d24e06f6e2...</td><td>500</td><td>650</td></tr>\n",
       "<tr><td>c0d144ae7ab17c793...</td><td>500</td><td>500</td></tr>\n",
       "<tr><td>56d1102515f7d6a32...</td><td>800</td><td>650</td></tr>\n",
       "<tr><td>ba484052baf1e604c...</td><td>800</td><td>650</td></tr>\n",
       "</table>\n",
       "only showing top 20 rows\n"
      ],
      "text/plain": [
       "+--------------------+----------------+-----------------+\n",
       "|           member_id|last_payment_pts|total_payment_pts|\n",
       "+--------------------+----------------+-----------------+\n",
       "|dcec9334e70f1cc95...|             800|              650|\n",
       "|fc58ca61f51f9dcac...|             500|              650|\n",
       "|2fb62a6ca51063b11...|             500|              650|\n",
       "|488268a5531951622...|             800|              650|\n",
       "|ade6026208e48f5f9...|             500|              650|\n",
       "|7c8b0ca6acddfaeb1...|             800|              650|\n",
       "|a707b7fe7c38bad65...|             800|              650|\n",
       "|1df639cddea30c288...|             800|              650|\n",
       "|22d67005e12d8726d...|             500|              650|\n",
       "|009cf312bd46551b4...|             500|              650|\n",
       "|2d995d383622fa80e...|             500|              650|\n",
       "|88b97663d2562f239...|             500|              650|\n",
       "|097d871ba6f21ee37...|             500|              650|\n",
       "|82e698108e1b8b88a...|             500|              650|\n",
       "|9e89f004a01479234...|             500|              650|\n",
       "|28ea534e78570f8d1...|             800|              650|\n",
       "|27a6888d24e06f6e2...|             500|              650|\n",
       "|c0d144ae7ab17c793...|             500|              500|\n",
       "|56d1102515f7d6a32...|             800|              650|\n",
       "|ba484052baf1e604c...|             800|              650|\n",
       "+--------------------+----------------+-----------------+\n",
       "only showing top 20 rows"
      ]
     },
     "execution_count": 39,
     "metadata": {},
     "output_type": "execute_result"
    }
   ],
   "source": [
    "spark.sql(\"select * from ph_pts\")"
   ]
  },
  {
   "cell_type": "markdown",
   "id": "c5d8354f",
   "metadata": {},
   "source": [
    "Loan Score Calculation Criteria 2: Loan deafulters history(ldh)"
   ]
  },
  {
   "cell_type": "code",
   "execution_count": 40,
   "id": "03adcbbf",
   "metadata": {},
   "outputs": [],
   "source": [
    "ldh_ph_df = spark.sql(\"select p.*, \\\n",
    "case \\\n",
    "when d.delinq_2yrs = 0 then ${spark.sql.excellent_rated_pts} \\\n",
    "when d.delinq_2yrs BETWEEN 1 and 2 then ${spark.sql.bad_rated_pts} \\\n",
    "when d.delinq_2yrs BETWEEN 3 and 5 then ${spark.sql.very_bad_rated_pts} \\\n",
    "when d.delinq_2yrs > 5 or d.delinq_2yrs IS NULL THEN ${spark.sql.unacceptable_rated_pts} \\\n",
    "END AS delinq_pts, \\\n",
    "CASE \\\n",
    "when l.pub_rec = 0 then ${spark.sql.excellent_rated_pts} \\\n",
    "when l.pub_rec between 1 and 2 then ${spark.sql.bad_rated_pts} \\\n",
    "when l.pub_rec between 3 and 5 then ${spark.sql.very_bad_rated_pts} \\\n",
    "when l.pub_rec > 5 or l.pub_rec IS NULL then ${spark.sql.very_bad_rated_pts} \\\n",
    "END AS public_records_pts,\\\n",
    "CASE \\\n",
    "when l.pub_rec_bankruptcies = 0 then ${spark.sql.excellent_rated_pts}  \\\n",
    "when l.pub_rec_bankruptcies between 1 and 2 then ${spark.sql.bad_rated_pts} \\\n",
    "when l.pub_rec_bankruptcies between 3 and 5 then ${spark.sql.very_bad_rated_pts} \\\n",
    "when l.pub_rec_bankruptcies > 5 or l.inq_last_6mths IS NULL THEN ${spark.sql.unacceptable_rated_pts} \\\n",
    "END AS public_bankruptcies_pts ,\\\n",
    "CASE \\\n",
    "when l.inq_last_6mths = 0 then ${spark.sql.excellent_rated_pts} \\\n",
    "when l.inq_last_6mths between 1 and 2 then ${spark.sql.bad_rated_pts} \\\n",
    "when l.inq_last_6mths between 3 and 5 then ${spark.sql.very_bad_rated_pts} \\\n",
    "when l.inq_last_6mths > 5 or l.inq_last_6mths IS NULL THEN ${spark.sql.unacceptable_rated_pts} \\\n",
    "END AS enq_pts \\\n",
    "from itv005857_lending_club.loans_defaulters_detail_rec_enq_new l \\\n",
    "inner join itv005857_lending_club.loans_defaulters_delinq_new d ON d.member_id  = l.member_id \\\n",
    "inner join ph_pts p ON p.member_id = l.member_id where l.member_id NOT IN (select member_id from bad_data_customer)\")"
   ]
  },
  {
   "cell_type": "code",
   "execution_count": 41,
   "id": "638da7d7",
   "metadata": {},
   "outputs": [],
   "source": [
    "ldh_ph_df.createOrReplaceTempView(\"ldh_ph_pts\")"
   ]
  },
  {
   "cell_type": "code",
   "execution_count": 42,
   "id": "47d1b0f5",
   "metadata": {},
   "outputs": [
    {
     "data": {
      "text/html": [
       "<table border='1'>\n",
       "<tr><th>member_id</th><th>last_payment_pts</th><th>total_payment_pts</th><th>delinq_pts</th><th>public_records_pts</th><th>public_bankruptcies_pts</th><th>enq_pts</th></tr>\n",
       "<tr><td>000c8875b71a6b47c...</td><td>800</td><td>650</td><td>250</td><td>800</td><td>800</td><td>800</td></tr>\n",
       "<tr><td>003769d7f54c7859e...</td><td>500</td><td>500</td><td>250</td><td>800</td><td>800</td><td>800</td></tr>\n",
       "<tr><td>003e1e6cbd2920bbb...</td><td>500</td><td>650</td><td>250</td><td>250</td><td>250</td><td>800</td></tr>\n",
       "<tr><td>004017b21bd4d6271...</td><td>100</td><td>650</td><td>0</td><td>800</td><td>800</td><td>800</td></tr>\n",
       "<tr><td>005b4c3db3fce07dc...</td><td>500</td><td>650</td><td>250</td><td>250</td><td>800</td><td>250</td></tr>\n",
       "<tr><td>00710707c563c2119...</td><td>800</td><td>650</td><td>250</td><td>800</td><td>800</td><td>800</td></tr>\n",
       "<tr><td>007da79904f69970d...</td><td>800</td><td>650</td><td>250</td><td>800</td><td>800</td><td>800</td></tr>\n",
       "<tr><td>00f435a80d0440ece...</td><td>500</td><td>500</td><td>100</td><td>800</td><td>800</td><td>800</td></tr>\n",
       "<tr><td>00fc2ae3ffb1213e4...</td><td>650</td><td>650</td><td>250</td><td>800</td><td>800</td><td>800</td></tr>\n",
       "<tr><td>00fc8144cb210ba8c...</td><td>500</td><td>650</td><td>250</td><td>250</td><td>250</td><td>800</td></tr>\n",
       "<tr><td>01121d7f3f6f27495...</td><td>800</td><td>650</td><td>250</td><td>800</td><td>800</td><td>800</td></tr>\n",
       "<tr><td>0112e15adaf0c0029...</td><td>500</td><td>650</td><td>250</td><td>800</td><td>800</td><td>800</td></tr>\n",
       "<tr><td>017ce564dc0d6f975...</td><td>500</td><td>500</td><td>250</td><td>800</td><td>800</td><td>250</td></tr>\n",
       "<tr><td>017d1fd3d6169ee29...</td><td>800</td><td>500</td><td>800</td><td>250</td><td>250</td><td>250</td></tr>\n",
       "<tr><td>018a82c47453bf02d...</td><td>100</td><td>650</td><td>800</td><td>250</td><td>800</td><td>800</td></tr>\n",
       "<tr><td>018b0f369c2d63913...</td><td>100</td><td>650</td><td>800</td><td>800</td><td>800</td><td>100</td></tr>\n",
       "<tr><td>01b39bf7187932c4a...</td><td>800</td><td>650</td><td>250</td><td>250</td><td>800</td><td>800</td></tr>\n",
       "<tr><td>01d0686210978f0a7...</td><td>500</td><td>500</td><td>0</td><td>800</td><td>800</td><td>800</td></tr>\n",
       "<tr><td>01d0c48835e969a01...</td><td>500</td><td>500</td><td>800</td><td>800</td><td>800</td><td>250</td></tr>\n",
       "<tr><td>01ef63fce64f41ef9...</td><td>800</td><td>650</td><td>250</td><td>800</td><td>800</td><td>800</td></tr>\n",
       "</table>\n",
       "only showing top 20 rows\n"
      ],
      "text/plain": [
       "+--------------------+----------------+-----------------+----------+------------------+-----------------------+-------+\n",
       "|           member_id|last_payment_pts|total_payment_pts|delinq_pts|public_records_pts|public_bankruptcies_pts|enq_pts|\n",
       "+--------------------+----------------+-----------------+----------+------------------+-----------------------+-------+\n",
       "|000c8875b71a6b47c...|             800|              650|       250|               800|                    800|    800|\n",
       "|003769d7f54c7859e...|             500|              500|       250|               800|                    800|    800|\n",
       "|003e1e6cbd2920bbb...|             500|              650|       250|               250|                    250|    800|\n",
       "|004017b21bd4d6271...|             100|              650|         0|               800|                    800|    800|\n",
       "|005b4c3db3fce07dc...|             500|              650|       250|               250|                    800|    250|\n",
       "|00710707c563c2119...|             800|              650|       250|               800|                    800|    800|\n",
       "|007da79904f69970d...|             800|              650|       250|               800|                    800|    800|\n",
       "|00f435a80d0440ece...|             500|              500|       100|               800|                    800|    800|\n",
       "|00fc2ae3ffb1213e4...|             650|              650|       250|               800|                    800|    800|\n",
       "|00fc8144cb210ba8c...|             500|              650|       250|               250|                    250|    800|\n",
       "|01121d7f3f6f27495...|             800|              650|       250|               800|                    800|    800|\n",
       "|0112e15adaf0c0029...|             500|              650|       250|               800|                    800|    800|\n",
       "|017ce564dc0d6f975...|             500|              500|       250|               800|                    800|    250|\n",
       "|017d1fd3d6169ee29...|             800|              500|       800|               250|                    250|    250|\n",
       "|018a82c47453bf02d...|             100|              650|       800|               250|                    800|    800|\n",
       "|018b0f369c2d63913...|             100|              650|       800|               800|                    800|    100|\n",
       "|01b39bf7187932c4a...|             800|              650|       250|               250|                    800|    800|\n",
       "|01d0686210978f0a7...|             500|              500|         0|               800|                    800|    800|\n",
       "|01d0c48835e969a01...|             500|              500|       800|               800|                    800|    250|\n",
       "|01ef63fce64f41ef9...|             800|              650|       250|               800|                    800|    800|\n",
       "+--------------------+----------------+-----------------+----------+------------------+-----------------------+-------+\n",
       "only showing top 20 rows"
      ]
     },
     "execution_count": 42,
     "metadata": {},
     "output_type": "execute_result"
    }
   ],
   "source": [
    "spark.sql(\"select * from ldh_ph_pts\")"
   ]
  },
  {
   "cell_type": "markdown",
   "id": "464953bb",
   "metadata": {},
   "source": [
    "Criteria 3: Financial Health(fh)"
   ]
  },
  {
   "cell_type": "code",
   "execution_count": 43,
   "id": "d4c81d2c",
   "metadata": {},
   "outputs": [],
   "source": [
    "fh_ldh_ph_df = spark.sql(\"select  ldef.*, \\\n",
    "case \\\n",
    "when LOWER(l.loan_status) like '%fully paid%' then ${spark.sql.excellent_rated_pts} \\\n",
    "when LOWER(l.loan_status) like  '%current%' then ${spark.sql.good_rated_pts} \\\n",
    "when LOWER(l.loan_status) like  '%in grace period%'then ${spark.sql.bad_rated_pts} \\\n",
    "when LOWER(l.loan_status) like  '%late (16-30 days)%' or LOWER(l.loan_status) like'%late (31-120 days)%' THEN ${spark.sql.very_bad_rated_pts} \\\n",
    "when LOWER(l.loan_status) like '%charged off%' then ${spark.sql.unacceptable_rated_pts} \\\n",
    "else ${spark.sql.unacceptable_rated_pts} \\\n",
    "END AS loan_status_pts, \\\n",
    "CASE \\\n",
    "when LOWER(a.home_ownership) like '%own%' then ${spark.sql.excellent_rated_pts} \\\n",
    "when LOWER(a.home_ownership) like  '%rent%' then ${spark.sql.good_rated_pts} \\\n",
    "when LOWER(a.home_ownership) like  '%mortgage%'then ${spark.sql.bad_rated_pts} \\\n",
    "when LOWER(a.home_ownership) like  '%any%' or LOWER(a.home_ownership) IS NULL THEN ${spark.sql.very_bad_rated_pts} \\\n",
    "END AS home_pts, \\\n",
    "CASE \\\n",
    "when l.funded_amount <=(a.total_high_credit_limit * 0.10) then ${spark.sql.excellent_rated_pts}  \\\n",
    "when l.funded_amount > (a.total_high_credit_limit * 0.10) and l.funded_amount <=(a.total_high_credit_limit * 0.20) THEN ${spark.sql.very_good_rated_pts} \\\n",
    "when l.funded_amount > (a.total_high_credit_limit * 0.20) and l.funded_amount <=(a.total_high_credit_limit * 0.30) THEN ${spark.sql.good_rated_pts} \\\n",
    "when l.funded_amount > (a.total_high_credit_limit * 0.30) and l.funded_amount <=(a.total_high_credit_limit * 0.50) THEN ${spark.sql.bad_rated_pts} \\\n",
    "when l.funded_amount > (a.total_high_credit_limit * 0.50) and l.funded_amount <=(a.total_high_credit_limit * 0.70) THEN ${spark.sql.very_bad_rated_pts} \\\n",
    "when l.funded_amount > (a.total_high_credit_limit * 0.70) THEN ${spark.sql.unacceptable_rated_pts} \\\n",
    "else ${spark.sql.unacceptable_rated_pts} \\\n",
    "END AS credit_limit_pts, \\\n",
    "CASE \\\n",
    "when (a.grade) = 'A' and (a.sub_grade)='A1' then ${spark.sql.excellent_rated_pts} \\\n",
    "when (a.grade) = 'A' and (a.sub_grade)='A2' then (${spark.sql.excellent_rated_pts}*0.95) \\\n",
    "when (a.grade) = 'A' and (a.sub_grade)='A3' then (${spark.sql.excellent_rated_pts}*0.90) \\\n",
    "when (a.grade) = 'A' and (a.sub_grade)='A4' then (${spark.sql.excellent_rated_pts}*0.85) \\\n",
    "when (a.grade) = 'A' and (a.sub_grade)='A5' then (${spark.sql.excellent_rated_pts}*0.80) \\\n",
    "when (a.grade) = 'B' and (a.sub_grade)='B1' then ${spark.sql.very_good_rated_pts} \\\n",
    "when (a.grade) = 'B' and (a.sub_grade)='B2' then (${spark.sql.very_good_rated_pts}* 0.95) \\\n",
    "when (a.grade) = 'B' and (a.sub_grade)='B3' then (${spark.sql.very_good_rated_pts}* 0.90) \\\n",
    "when (a.grade) = 'B' and (a.sub_grade)='B4' then (${spark.sql.very_good_rated_pts}* 0.85) \\\n",
    "when (a.grade) = 'B' and (a.sub_grade)='B5' then (${spark.sql.very_good_rated_pts}* 0.80) \\\n",
    "when (a.grade) = 'C' and (a.sub_grade)='C1' then ${spark.sql.good_rated_pts} \\\n",
    "when (a.grade) = 'C' and (a.sub_grade)='C2' then (${spark.sql.good_rated_pts}* 0.95) \\\n",
    "when (a.grade) = 'C' and (a.sub_grade)='C3' then (${spark.sql.good_rated_pts}* 0.90) \\\n",
    "when (a.grade) = 'C' and (a.sub_grade)='C4' then (${spark.sql.good_rated_pts}* 0.85) \\\n",
    "when (a.grade) = 'C' and (a.sub_grade)='C5' then (${spark.sql.good_rated_pts}* 0.80) \\\n",
    "when (a.grade) = 'D' and (a.sub_grade)='D1' then ${spark.sql.bad_rated_pts} \\\n",
    "when (a.grade) = 'D' and (a.sub_grade)='D2' then (${spark.sql.bad_rated_pts}* 0.95) \\\n",
    "when (a.grade) = 'D' and (a.sub_grade)='D3' then (${spark.sql.bad_rated_pts}* 0.90) \\\n",
    "when (a.grade) = 'D' and (a.sub_grade)='D4' then (${spark.sql.bad_rated_pts}* 0.85) \\\n",
    "when (a.grade) = 'D' and (a.sub_grade)='D5' then (${spark.sql.bad_rated_pts}* 0.80) \\\n",
    "when (a.grade) = 'E' and (a.sub_grade)='E1' then ${spark.sql.very_bad_rated_pts} \\\n",
    "when (a.grade) = 'E' and (a.sub_grade)='E2' then (${spark.sql.very_bad_rated_pts}* 0.95) \\\n",
    "when (a.grade) = 'E' and (a.sub_grade)='E3' then (${spark.sql.very_bad_rated_pts}* 0.90) \\\n",
    "when (a.grade) = 'E' and (a.sub_grade)='E4' then (${spark.sql.very_bad_rated_pts}* 0.85) \\\n",
    "when (a.grade) = 'E' and (a.sub_grade)='E5' then (${spark.sql.very_bad_rated_pts}* 0.80) \\\n",
    "when (a.grade) in ('F','G') then (${spark.sql.unacceptable_rated_pts}) \\\n",
    "END AS grade_pts \\\n",
    "from ldh_ph_pts ldef \\\n",
    "inner join itv005857_lending_club.loans l ON ldef.member_id  = l.member_id \\\n",
    "inner join itv005857_lending_club.customers_new a ON a.member_id = ldef.member_id where l.member_id NOT IN (select member_id from bad_data_customer) \\\n",
    "\")"
   ]
  },
  {
   "cell_type": "code",
   "execution_count": 44,
   "id": "1b2eb8b9",
   "metadata": {},
   "outputs": [],
   "source": [
    "fh_ldh_ph_df.createOrReplaceTempView(\"fh_ldh_ph_pts\")"
   ]
  },
  {
   "cell_type": "markdown",
   "id": "51a245b8",
   "metadata": {},
   "source": [
    "#Final loan score calculation by considering all the 3 criterias with the following %**)\n",
    "1. Payment History = 20%\n",
    "2. Loan Defaults = 45%\n",
    "3. Financial Health = 35% "
   ]
  },
  {
   "cell_type": "code",
   "execution_count": 45,
   "id": "39175133",
   "metadata": {},
   "outputs": [],
   "source": [
    "loan_score = spark.sql(\"select member_id, \\\n",
    "((last_payment_pts + total_payment_pts )*0.20) as payment_history_pts, \\\n",
    "((delinq_pts + public_records_pts + public_bankruptcies_pts + enq_pts)*0.45) as defaulters_history_pts, \\\n",
    "((loan_status_pts + home_pts + credit_limit_pts + grade_pts)* 0.35) as financial_health_pts \\\n",
    " from fh_ldh_ph_pts\")"
   ]
  },
  {
   "cell_type": "code",
   "execution_count": 46,
   "id": "decc188f",
   "metadata": {},
   "outputs": [
    {
     "data": {
      "text/html": [
       "<table border='1'>\n",
       "<tr><th>member_id</th><th>payment_history_pts</th><th>defaulters_history_pts</th><th>financial_health_pts</th></tr>\n",
       "<tr><td>000c8875b71a6b47c...</td><td>290.00</td><td>1192.50</td><td>885.5000</td></tr>\n",
       "<tr><td>003769d7f54c7859e...</td><td>200.00</td><td>1192.50</td><td>402.5000</td></tr>\n",
       "<tr><td>003e1e6cbd2920bbb...</td><td>230.00</td><td>697.50</td><td>766.5000</td></tr>\n",
       "<tr><td>004017b21bd4d6271...</td><td>150.00</td><td>1080.00</td><td>822.5000</td></tr>\n",
       "<tr><td>005b4c3db3fce07dc...</td><td>230.00</td><td>697.50</td><td>619.5000</td></tr>\n",
       "<tr><td>00710707c563c2119...</td><td>290.00</td><td>1192.50</td><td>829.5000</td></tr>\n",
       "<tr><td>007da79904f69970d...</td><td>290.00</td><td>1192.50</td><td>822.5000</td></tr>\n",
       "<tr><td>00f435a80d0440ece...</td><td>200.00</td><td>1125.00</td><td>708.7500</td></tr>\n",
       "<tr><td>00fc2ae3ffb1213e4...</td><td>260.00</td><td>1192.50</td><td>752.5000</td></tr>\n",
       "<tr><td>00fc8144cb210ba8c...</td><td>230.00</td><td>697.50</td><td>717.5000</td></tr>\n",
       "<tr><td>01121d7f3f6f27495...</td><td>290.00</td><td>1192.50</td><td>863.6250</td></tr>\n",
       "<tr><td>0112e15adaf0c0029...</td><td>230.00</td><td>1192.50</td><td>595.0000</td></tr>\n",
       "<tr><td>017ce564dc0d6f975...</td><td>200.00</td><td>945.00</td><td>591.5000</td></tr>\n",
       "<tr><td>017d1fd3d6169ee29...</td><td>260.00</td><td>697.50</td><td>694.7500</td></tr>\n",
       "<tr><td>018a82c47453bf02d...</td><td>150.00</td><td>1192.50</td><td>948.5000</td></tr>\n",
       "<tr><td>018b0f369c2d63913...</td><td>150.00</td><td>1125.00</td><td>735.0000</td></tr>\n",
       "<tr><td>01b39bf7187932c4a...</td><td>290.00</td><td>945.00</td><td>939.7500</td></tr>\n",
       "<tr><td>01d0686210978f0a7...</td><td>200.00</td><td>1080.00</td><td>619.5000</td></tr>\n",
       "<tr><td>01d0c48835e969a01...</td><td>200.00</td><td>1192.50</td><td>262.5000</td></tr>\n",
       "<tr><td>01ef63fce64f41ef9...</td><td>290.00</td><td>1192.50</td><td>875.8750</td></tr>\n",
       "</table>\n",
       "only showing top 20 rows\n"
      ],
      "text/plain": [
       "+--------------------+-------------------+----------------------+--------------------+\n",
       "|           member_id|payment_history_pts|defaulters_history_pts|financial_health_pts|\n",
       "+--------------------+-------------------+----------------------+--------------------+\n",
       "|000c8875b71a6b47c...|             290.00|               1192.50|            885.5000|\n",
       "|003769d7f54c7859e...|             200.00|               1192.50|            402.5000|\n",
       "|003e1e6cbd2920bbb...|             230.00|                697.50|            766.5000|\n",
       "|004017b21bd4d6271...|             150.00|               1080.00|            822.5000|\n",
       "|005b4c3db3fce07dc...|             230.00|                697.50|            619.5000|\n",
       "|00710707c563c2119...|             290.00|               1192.50|            829.5000|\n",
       "|007da79904f69970d...|             290.00|               1192.50|            822.5000|\n",
       "|00f435a80d0440ece...|             200.00|               1125.00|            708.7500|\n",
       "|00fc2ae3ffb1213e4...|             260.00|               1192.50|            752.5000|\n",
       "|00fc8144cb210ba8c...|             230.00|                697.50|            717.5000|\n",
       "|01121d7f3f6f27495...|             290.00|               1192.50|            863.6250|\n",
       "|0112e15adaf0c0029...|             230.00|               1192.50|            595.0000|\n",
       "|017ce564dc0d6f975...|             200.00|                945.00|            591.5000|\n",
       "|017d1fd3d6169ee29...|             260.00|                697.50|            694.7500|\n",
       "|018a82c47453bf02d...|             150.00|               1192.50|            948.5000|\n",
       "|018b0f369c2d63913...|             150.00|               1125.00|            735.0000|\n",
       "|01b39bf7187932c4a...|             290.00|                945.00|            939.7500|\n",
       "|01d0686210978f0a7...|             200.00|               1080.00|            619.5000|\n",
       "|01d0c48835e969a01...|             200.00|               1192.50|            262.5000|\n",
       "|01ef63fce64f41ef9...|             290.00|               1192.50|            875.8750|\n",
       "+--------------------+-------------------+----------------------+--------------------+\n",
       "only showing top 20 rows"
      ]
     },
     "execution_count": 46,
     "metadata": {},
     "output_type": "execute_result"
    }
   ],
   "source": [
    "loan_score"
   ]
  },
  {
   "cell_type": "code",
   "execution_count": 47,
   "id": "3ee260fc",
   "metadata": {},
   "outputs": [],
   "source": [
    "final_loan_score = loan_score.withColumn('loan_score',loan_score.payment_history_pts + loan_score.defaulters_history_pts + loan_score.financial_health_pts)"
   ]
  },
  {
   "cell_type": "code",
   "execution_count": 48,
   "id": "786548cb",
   "metadata": {},
   "outputs": [],
   "source": [
    "final_loan_score.createOrReplaceTempView(\"loan_score_eval\")"
   ]
  },
  {
   "cell_type": "code",
   "execution_count": 49,
   "id": "8a417ac1",
   "metadata": {},
   "outputs": [
    {
     "data": {
      "text/html": [
       "<table border='1'>\n",
       "<tr><th>member_id</th><th>payment_history_pts</th><th>defaulters_history_pts</th><th>financial_health_pts</th><th>loan_score</th></tr>\n",
       "<tr><td>000c8875b71a6b47c...</td><td>290.00</td><td>1192.50</td><td>885.5000</td><td>2368.0000</td></tr>\n",
       "<tr><td>003769d7f54c7859e...</td><td>200.00</td><td>1192.50</td><td>402.5000</td><td>1795.0000</td></tr>\n",
       "<tr><td>003e1e6cbd2920bbb...</td><td>230.00</td><td>697.50</td><td>766.5000</td><td>1694.0000</td></tr>\n",
       "<tr><td>004017b21bd4d6271...</td><td>150.00</td><td>1080.00</td><td>822.5000</td><td>2052.5000</td></tr>\n",
       "<tr><td>005b4c3db3fce07dc...</td><td>230.00</td><td>697.50</td><td>619.5000</td><td>1547.0000</td></tr>\n",
       "<tr><td>00710707c563c2119...</td><td>290.00</td><td>1192.50</td><td>829.5000</td><td>2312.0000</td></tr>\n",
       "<tr><td>007da79904f69970d...</td><td>290.00</td><td>1192.50</td><td>822.5000</td><td>2305.0000</td></tr>\n",
       "<tr><td>00f435a80d0440ece...</td><td>200.00</td><td>1125.00</td><td>708.7500</td><td>2033.7500</td></tr>\n",
       "<tr><td>00fc2ae3ffb1213e4...</td><td>260.00</td><td>1192.50</td><td>752.5000</td><td>2205.0000</td></tr>\n",
       "<tr><td>00fc8144cb210ba8c...</td><td>230.00</td><td>697.50</td><td>717.5000</td><td>1645.0000</td></tr>\n",
       "<tr><td>01121d7f3f6f27495...</td><td>290.00</td><td>1192.50</td><td>863.6250</td><td>2346.1250</td></tr>\n",
       "<tr><td>0112e15adaf0c0029...</td><td>230.00</td><td>1192.50</td><td>595.0000</td><td>2017.5000</td></tr>\n",
       "<tr><td>017ce564dc0d6f975...</td><td>200.00</td><td>945.00</td><td>591.5000</td><td>1736.5000</td></tr>\n",
       "<tr><td>017d1fd3d6169ee29...</td><td>260.00</td><td>697.50</td><td>694.7500</td><td>1652.2500</td></tr>\n",
       "<tr><td>018a82c47453bf02d...</td><td>150.00</td><td>1192.50</td><td>948.5000</td><td>2291.0000</td></tr>\n",
       "<tr><td>018b0f369c2d63913...</td><td>150.00</td><td>1125.00</td><td>735.0000</td><td>2010.0000</td></tr>\n",
       "<tr><td>01b39bf7187932c4a...</td><td>290.00</td><td>945.00</td><td>939.7500</td><td>2174.7500</td></tr>\n",
       "<tr><td>01d0686210978f0a7...</td><td>200.00</td><td>1080.00</td><td>619.5000</td><td>1899.5000</td></tr>\n",
       "<tr><td>01d0c48835e969a01...</td><td>200.00</td><td>1192.50</td><td>262.5000</td><td>1655.0000</td></tr>\n",
       "<tr><td>01ef63fce64f41ef9...</td><td>290.00</td><td>1192.50</td><td>875.8750</td><td>2358.3750</td></tr>\n",
       "</table>\n",
       "only showing top 20 rows\n"
      ],
      "text/plain": [
       "+--------------------+-------------------+----------------------+--------------------+----------+\n",
       "|           member_id|payment_history_pts|defaulters_history_pts|financial_health_pts|loan_score|\n",
       "+--------------------+-------------------+----------------------+--------------------+----------+\n",
       "|000c8875b71a6b47c...|             290.00|               1192.50|            885.5000| 2368.0000|\n",
       "|003769d7f54c7859e...|             200.00|               1192.50|            402.5000| 1795.0000|\n",
       "|003e1e6cbd2920bbb...|             230.00|                697.50|            766.5000| 1694.0000|\n",
       "|004017b21bd4d6271...|             150.00|               1080.00|            822.5000| 2052.5000|\n",
       "|005b4c3db3fce07dc...|             230.00|                697.50|            619.5000| 1547.0000|\n",
       "|00710707c563c2119...|             290.00|               1192.50|            829.5000| 2312.0000|\n",
       "|007da79904f69970d...|             290.00|               1192.50|            822.5000| 2305.0000|\n",
       "|00f435a80d0440ece...|             200.00|               1125.00|            708.7500| 2033.7500|\n",
       "|00fc2ae3ffb1213e4...|             260.00|               1192.50|            752.5000| 2205.0000|\n",
       "|00fc8144cb210ba8c...|             230.00|                697.50|            717.5000| 1645.0000|\n",
       "|01121d7f3f6f27495...|             290.00|               1192.50|            863.6250| 2346.1250|\n",
       "|0112e15adaf0c0029...|             230.00|               1192.50|            595.0000| 2017.5000|\n",
       "|017ce564dc0d6f975...|             200.00|                945.00|            591.5000| 1736.5000|\n",
       "|017d1fd3d6169ee29...|             260.00|                697.50|            694.7500| 1652.2500|\n",
       "|018a82c47453bf02d...|             150.00|               1192.50|            948.5000| 2291.0000|\n",
       "|018b0f369c2d63913...|             150.00|               1125.00|            735.0000| 2010.0000|\n",
       "|01b39bf7187932c4a...|             290.00|                945.00|            939.7500| 2174.7500|\n",
       "|01d0686210978f0a7...|             200.00|               1080.00|            619.5000| 1899.5000|\n",
       "|01d0c48835e969a01...|             200.00|               1192.50|            262.5000| 1655.0000|\n",
       "|01ef63fce64f41ef9...|             290.00|               1192.50|            875.8750| 2358.3750|\n",
       "+--------------------+-------------------+----------------------+--------------------+----------+\n",
       "only showing top 20 rows"
      ]
     },
     "execution_count": 49,
     "metadata": {},
     "output_type": "execute_result"
    }
   ],
   "source": [
    "spark.sql(\"select * from loan_score_eval\")"
   ]
  },
  {
   "cell_type": "code",
   "execution_count": 50,
   "id": "632cbec3",
   "metadata": {},
   "outputs": [],
   "source": [
    "loan_score_final = spark.sql(\"select ls.*, \\\n",
    "case \\\n",
    "WHEN loan_score > ${spark.sql.very_good_grade_pts} THEN 'A' \\\n",
    "WHEN loan_score <= ${spark.sql.very_good_grade_pts} AND loan_score > ${spark.sql.good_grade_pts} THEN 'B' \\\n",
    "WHEN loan_score <= ${spark.sql.good_grade_pts} AND loan_score > ${spark.sql.bad_grade_pts} THEN 'C' \\\n",
    "WHEN loan_score <= ${spark.sql.bad_grade_pts} AND loan_score > ${spark.sql.very_bad_grade_pts} THEN 'D' \\\n",
    "WHEN loan_score <= ${spark.sql.very_bad_grade_pts} AND loan_score > ${spark.sql.unacceptable_grade_pts} THEN 'E' \\\n",
    "WHEN loan_score <= ${spark.sql.unacceptable_grade_pts} THEN 'F' \\\n",
    "end as loan_final_grade \\\n",
    "from loan_score_eval ls\")"
   ]
  },
  {
   "cell_type": "code",
   "execution_count": 51,
   "id": "80634aaf",
   "metadata": {},
   "outputs": [],
   "source": [
    "loan_score_final.createOrReplaceTempView(\"loan_final_table\")"
   ]
  },
  {
   "cell_type": "code",
   "execution_count": 52,
   "id": "633d7010",
   "metadata": {},
   "outputs": [
    {
     "data": {
      "text/html": [
       "<table border='1'>\n",
       "<tr><th>member_id</th><th>payment_history_pts</th><th>defaulters_history_pts</th><th>financial_health_pts</th><th>loan_score</th><th>loan_final_grade</th></tr>\n",
       "<tr><td>003769d7f54c7859e...</td><td>200.00</td><td>1192.50</td><td>402.5000</td><td>1795.0000</td><td>C</td></tr>\n",
       "<tr><td>003e1e6cbd2920bbb...</td><td>230.00</td><td>697.50</td><td>766.5000</td><td>1694.0000</td><td>C</td></tr>\n",
       "<tr><td>005b4c3db3fce07dc...</td><td>230.00</td><td>697.50</td><td>619.5000</td><td>1547.0000</td><td>C</td></tr>\n",
       "<tr><td>00fc8144cb210ba8c...</td><td>230.00</td><td>697.50</td><td>717.5000</td><td>1645.0000</td><td>C</td></tr>\n",
       "<tr><td>017ce564dc0d6f975...</td><td>200.00</td><td>945.00</td><td>591.5000</td><td>1736.5000</td><td>C</td></tr>\n",
       "<tr><td>017d1fd3d6169ee29...</td><td>260.00</td><td>697.50</td><td>694.7500</td><td>1652.2500</td><td>C</td></tr>\n",
       "<tr><td>01d0686210978f0a7...</td><td>200.00</td><td>1080.00</td><td>619.5000</td><td>1899.5000</td><td>C</td></tr>\n",
       "<tr><td>01d0c48835e969a01...</td><td>200.00</td><td>1192.50</td><td>262.5000</td><td>1655.0000</td><td>C</td></tr>\n",
       "<tr><td>02f69de1384fcf78c...</td><td>180.00</td><td>945.00</td><td>864.5000</td><td>1989.5000</td><td>C</td></tr>\n",
       "<tr><td>032503cc8f86dea72...</td><td>200.00</td><td>945.00</td><td>647.5000</td><td>1792.5000</td><td>C</td></tr>\n",
       "<tr><td>035a8c46279041682...</td><td>230.00</td><td>1192.50</td><td>507.5000</td><td>1930.0000</td><td>C</td></tr>\n",
       "<tr><td>03c814d2820c4f5ca...</td><td>200.00</td><td>1125.00</td><td>573.1250</td><td>1898.1250</td><td>C</td></tr>\n",
       "<tr><td>0401f0eff7d188d40...</td><td>200.00</td><td>945.00</td><td>612.5000</td><td>1757.5000</td><td>C</td></tr>\n",
       "<tr><td>044605ddb5536b14d...</td><td>290.00</td><td>1192.50</td><td>481.2500</td><td>1963.7500</td><td>C</td></tr>\n",
       "<tr><td>047e58a29eaf50dea...</td><td>290.00</td><td>945.00</td><td>675.5000</td><td>1910.5000</td><td>C</td></tr>\n",
       "<tr><td>049af7d32085b507b...</td><td>230.00</td><td>945.00</td><td>691.2500</td><td>1866.2500</td><td>C</td></tr>\n",
       "<tr><td>04a56cd37ddf106b4...</td><td>200.00</td><td>945.00</td><td>507.5000</td><td>1652.5000</td><td>C</td></tr>\n",
       "<tr><td>0507405ffa21cc80b...</td><td>180.00</td><td>945.00</td><td>813.7500</td><td>1938.7500</td><td>C</td></tr>\n",
       "<tr><td>053c3d4498bc0d4d6...</td><td>260.00</td><td>945.00</td><td>682.5000</td><td>1887.5000</td><td>C</td></tr>\n",
       "<tr><td>056724e48de8fab2f...</td><td>150.00</td><td>1440.00</td><td>311.5000</td><td>1901.5000</td><td>C</td></tr>\n",
       "</table>\n",
       "only showing top 20 rows\n"
      ],
      "text/plain": [
       "+--------------------+-------------------+----------------------+--------------------+----------+----------------+\n",
       "|           member_id|payment_history_pts|defaulters_history_pts|financial_health_pts|loan_score|loan_final_grade|\n",
       "+--------------------+-------------------+----------------------+--------------------+----------+----------------+\n",
       "|003769d7f54c7859e...|             200.00|               1192.50|            402.5000| 1795.0000|               C|\n",
       "|003e1e6cbd2920bbb...|             230.00|                697.50|            766.5000| 1694.0000|               C|\n",
       "|005b4c3db3fce07dc...|             230.00|                697.50|            619.5000| 1547.0000|               C|\n",
       "|00fc8144cb210ba8c...|             230.00|                697.50|            717.5000| 1645.0000|               C|\n",
       "|017ce564dc0d6f975...|             200.00|                945.00|            591.5000| 1736.5000|               C|\n",
       "|017d1fd3d6169ee29...|             260.00|                697.50|            694.7500| 1652.2500|               C|\n",
       "|01d0686210978f0a7...|             200.00|               1080.00|            619.5000| 1899.5000|               C|\n",
       "|01d0c48835e969a01...|             200.00|               1192.50|            262.5000| 1655.0000|               C|\n",
       "|02f69de1384fcf78c...|             180.00|                945.00|            864.5000| 1989.5000|               C|\n",
       "|032503cc8f86dea72...|             200.00|                945.00|            647.5000| 1792.5000|               C|\n",
       "|035a8c46279041682...|             230.00|               1192.50|            507.5000| 1930.0000|               C|\n",
       "|03c814d2820c4f5ca...|             200.00|               1125.00|            573.1250| 1898.1250|               C|\n",
       "|0401f0eff7d188d40...|             200.00|                945.00|            612.5000| 1757.5000|               C|\n",
       "|044605ddb5536b14d...|             290.00|               1192.50|            481.2500| 1963.7500|               C|\n",
       "|047e58a29eaf50dea...|             290.00|                945.00|            675.5000| 1910.5000|               C|\n",
       "|049af7d32085b507b...|             230.00|                945.00|            691.2500| 1866.2500|               C|\n",
       "|04a56cd37ddf106b4...|             200.00|                945.00|            507.5000| 1652.5000|               C|\n",
       "|0507405ffa21cc80b...|             180.00|                945.00|            813.7500| 1938.7500|               C|\n",
       "|053c3d4498bc0d4d6...|             260.00|                945.00|            682.5000| 1887.5000|               C|\n",
       "|056724e48de8fab2f...|             150.00|               1440.00|            311.5000| 1901.5000|               C|\n",
       "+--------------------+-------------------+----------------------+--------------------+----------+----------------+\n",
       "only showing top 20 rows"
      ]
     },
     "execution_count": 52,
     "metadata": {},
     "output_type": "execute_result"
    }
   ],
   "source": [
    "spark.sql(\"select * from loan_final_table where loan_final_grade in ('C')\")"
   ]
  },
  {
   "cell_type": "code",
   "execution_count": 53,
   "id": "3e12b4e3",
   "metadata": {},
   "outputs": [
    {
     "data": {
      "text/html": [
       "<table border='1'>\n",
       "<tr><th>count(1)</th></tr>\n",
       "<tr><td>482842</td></tr>\n",
       "</table>\n"
      ],
      "text/plain": [
       "+--------+\n",
       "|count(1)|\n",
       "+--------+\n",
       "|  482842|\n",
       "+--------+"
      ]
     },
     "execution_count": 53,
     "metadata": {},
     "output_type": "execute_result"
    }
   ],
   "source": [
    "spark.sql(\"select count(*) from loan_final_table\")"
   ]
  },
  {
   "cell_type": "code",
   "execution_count": null,
   "id": "f5947457",
   "metadata": {},
   "outputs": [],
   "source": [
    "loan_score_final.write \\\n",
    ".format(\"parquet\") \\\n",
    ".mode(\"overwrite\") \\\n",
    ".option(\"path\",\"/public/trendytech/lendingclubproject/processed/loan_score\") \\\n",
    ".save()"
   ]
  },
  {
   "cell_type": "code",
   "execution_count": null,
   "id": "e0fefc98",
   "metadata": {},
   "outputs": [],
   "source": [
    "spark.stop()"
   ]
  }
 ],
 "metadata": {
  "kernelspec": {
   "display_name": "Pyspark 3",
   "language": "python",
   "name": "pyspark3"
  },
  "language_info": {
   "codemirror_mode": {
    "name": "ipython",
    "version": 3
   },
   "file_extension": ".py",
   "mimetype": "text/x-python",
   "name": "python",
   "nbconvert_exporter": "python",
   "pygments_lexer": "ipython3",
   "version": "3.6.12"
  }
 },
 "nbformat": 4,
 "nbformat_minor": 5
}
